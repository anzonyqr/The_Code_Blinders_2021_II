{
 "cells": [
  {
   "cell_type": "markdown",
   "metadata": {},
   "source": [
    "# Pass, Continue, Break, Try\n",
    "\n",
    "1. `Pass`: Allows you to handle the condition without the loop being impacted in any way\n",
    "2. `Continue`: The current iteration of the loop will be disrupted, but the program will return to the top of the loop\n",
    "3. `Break`: The while–loop will exit\n",
    "4. `Try`: This command lets you test a block of code for errors."
   ]
  },
  {
   "cell_type": "markdown",
   "metadata": {},
   "source": [
    "## Continue"
   ]
  },
  {
   "cell_type": "code",
   "execution_count": 16,
   "metadata": {},
   "outputs": [
    {
     "name": "stdout",
     "output_type": "stream",
     "text": [
      "Number is 0\n",
      "Number is 1\n",
      "Number is 2\n",
      "Number is 3\n",
      "Number is 4\n",
      "Number is 6\n",
      "Number is 7\n",
      "Number is 8\n",
      "Number is 9\n",
      "Out of loop\n"
     ]
    }
   ],
   "source": [
    "number = 0\n",
    "\n",
    "for number in range(10):\n",
    "    if number == 5:\n",
    "        continue    # continue here\n",
    "\n",
    "    print('Number is ' + str(number))\n",
    "\n",
    "print('Out of loop')"
   ]
  },
  {
   "cell_type": "markdown",
   "metadata": {},
   "source": [
    "## Break"
   ]
  },
  {
   "cell_type": "code",
   "execution_count": 17,
   "metadata": {},
   "outputs": [
    {
     "name": "stdout",
     "output_type": "stream",
     "text": [
      "Number is 0\n",
      "Number is 1\n",
      "Number is 2\n",
      "Number is 3\n",
      "Number is 4\n",
      "Out of loop\n"
     ]
    }
   ],
   "source": [
    "number = 0\n",
    "\n",
    "for number in range(10):\n",
    "    if number == 5:\n",
    "        break    # break here\n",
    "\n",
    "    print('Number is ' + str(number))\n",
    "\n",
    "print('Out of loop')"
   ]
  },
  {
   "cell_type": "markdown",
   "metadata": {},
   "source": [
    "## Pass"
   ]
  },
  {
   "cell_type": "code",
   "execution_count": 26,
   "metadata": {},
   "outputs": [
    {
     "name": "stdout",
     "output_type": "stream",
     "text": [
      "Hola else\n",
      "Number is 0\n",
      "Hola else\n",
      "Number is 1\n",
      "Hola else\n",
      "Number is 2\n",
      "Hola3\n",
      "Number is 3\n",
      "Hola else\n",
      "Number is 4\n",
      "Number is 5\n",
      "Hola else\n",
      "Number is 6\n",
      "Hola else\n",
      "Number is 7\n",
      "Hola else\n",
      "Number is 8\n",
      "Hola else\n",
      "Number is 9\n",
      "Out of loop\n"
     ]
    }
   ],
   "source": [
    "number = 0\n",
    "\n",
    "for number in range(10):\n",
    "    if number == 5:\n",
    "        # comment\n",
    "        pass\n",
    "\n",
    "    elif number == 3:\n",
    "        print('Hola3')\n",
    "\n",
    "    else:\n",
    "        print('Hola else')\n",
    "\n",
    "    print('Number is ' + str(number))\n",
    "\n",
    "print('Out of loop')"
   ]
  },
  {
   "cell_type": "markdown",
   "metadata": {},
   "source": [
    "## Try"
   ]
  },
  {
   "cell_type": "markdown",
   "metadata": {},
   "source": [
    "`except`: Run a code if an error occurs."
   ]
  },
  {
   "cell_type": "code",
   "execution_count": 43,
   "metadata": {},
   "outputs": [],
   "source": [
    "x = 'jola'"
   ]
  },
  {
   "cell_type": "code",
   "execution_count": 44,
   "metadata": {},
   "outputs": [
    {
     "name": "stdout",
     "output_type": "stream",
     "text": [
      "Something else went wrong\n"
     ]
    }
   ],
   "source": [
    "try:\n",
    "    print(x + 4)\n",
    "except NameError:\n",
    "    print(\"Variable x is not defined\")\n",
    "except:\n",
    "    print(\"Something else went wrong\")"
   ]
  },
  {
   "cell_type": "markdown",
   "metadata": {},
   "source": [
    "`else`: The code will be executed does no matter whether or not the try raises an exception."
   ]
  },
  {
   "cell_type": "code",
   "execution_count": 46,
   "metadata": {},
   "outputs": [],
   "source": [
    "x = 3"
   ]
  },
  {
   "cell_type": "code",
   "execution_count": 47,
   "metadata": {},
   "outputs": [
    {
     "name": "stdout",
     "output_type": "stream",
     "text": [
      "7\n",
      "Nothing went wrong\n"
     ]
    }
   ],
   "source": [
    "try:\n",
    "    print(x + 4)\n",
    "except:\n",
    "    print(\"Something went wrong\")\n",
    "else:\n",
    "    print(\"Nothing went wrong\")"
   ]
  },
  {
   "cell_type": "markdown",
   "metadata": {},
   "source": [
    "`finally`: The code will be executed does no matter whether or not the try raises an exception."
   ]
  },
  {
   "cell_type": "code",
   "execution_count": 48,
   "metadata": {},
   "outputs": [],
   "source": [
    "x = \"jola\""
   ]
  },
  {
   "cell_type": "code",
   "execution_count": 52,
   "metadata": {},
   "outputs": [
    {
     "name": "stdout",
     "output_type": "stream",
     "text": [
      "Something went wrong\n",
      "The 'try except' is finished\n"
     ]
    }
   ],
   "source": [
    "try:\n",
    "    print(x + 4)\n",
    "except:\n",
    "    print(\"Something went wrong\")\n",
    "finally:\n",
    "    print(\"The 'try except' is finished\")"
   ]
  },
  {
   "cell_type": "markdown",
   "metadata": {},
   "source": [
    "# Loops\n",
    "We will study the 2 types of loops in python. A loop is a function that allows you to iteratively perform tasks a certain number of times (for loop) or as long as a condition is true (while loop).\n",
    "\n",
    "## While Loop\n",
    "While loop is used to repeat code as long as the condition is true. When the logical expression is false, the code will finish executing. [More Info](https://python101.pythonlibrary.org/chapter5_loops.html)\n",
    "<img src=\"../images\\while_loop.jpg\">"
   ]
  },
  {
   "cell_type": "markdown",
   "metadata": {},
   "source": [
    "See the structure: <br>\n",
    "\n",
    "while <font color='green'>condition</font>: <br>\n",
    "&nbsp;&nbsp;&nbsp;&nbsp;&nbsp;&nbsp;code 1<br><br>\n",
    "&nbsp;&nbsp;&nbsp;&nbsp;&nbsp;&nbsp;<font color='red'>break code</font><br><br>\n",
    "\n",
    "The break code is an expression that allows the logical condition to be false at some point, because if not, the code will continue to execute infinitely."
   ]
  },
  {
   "cell_type": "code",
   "execution_count": 1,
   "metadata": {},
   "outputs": [
    {
     "name": "stdout",
     "output_type": "stream",
     "text": [
      "1\n",
      "2\n",
      "3\n",
      "4\n",
      "5\n"
     ]
    }
   ],
   "source": [
    "i = 1\n",
    "\n",
    "# condition  \"i < 6\"\n",
    "while i < 6:\n",
    "    \n",
    "    print(i)\n",
    "    \n",
    "    # break code, \n",
    "    i += 1 \n",
    "    # ==> i = i + 1"
   ]
  },
  {
   "cell_type": "markdown",
   "metadata": {},
   "source": [
    "### Training\n",
    "1. Print $2^n$, but the result is less than 10,000."
   ]
  },
  {
   "cell_type": "code",
   "execution_count": 3,
   "metadata": {},
   "outputs": [
    {
     "name": "stdout",
     "output_type": "stream",
     "text": [
      "2\n",
      "4\n",
      "8\n",
      "16\n",
      "32\n",
      "64\n",
      "128\n",
      "256\n",
      "512\n",
      "1024\n",
      "2048\n",
      "4096\n",
      "8192\n"
     ]
    }
   ],
   "source": [
    "x = 2\n",
    "while x < 10000:\n",
    "    print(x)\n",
    "    \n",
    "    #break code\n",
    "    x = 2*x"
   ]
  },
  {
   "cell_type": "markdown",
   "metadata": {},
   "source": [
    "2. A teacher has 100 apples for his entire class. The first student took four apples, and the next student always took more apples than the previous one. How many children have apples?"
   ]
  },
  {
   "cell_type": "code",
   "execution_count": 9,
   "metadata": {},
   "outputs": [
    {
     "name": "stdout",
     "output_type": "stream",
     "text": [
      "2 children have apples\n",
      "3 children have apples\n",
      "4 children have apples\n",
      "5 children have apples\n",
      "6 children have apples\n",
      "7 children have apples\n",
      "8 children have apples\n",
      "9 children have apples\n",
      "10 children have apples\n",
      "11 children have apples\n",
      "12 children have apples\n",
      "12 children have apples\n"
     ]
    }
   ],
   "source": [
    "apples = 100\n",
    "first = 4\n",
    "i = 1\n",
    "while apples > first:\n",
    "    \n",
    "    # Code\n",
    "    apples = apples - first\n",
    "    first += 1\n",
    "\n",
    "    # Break code\n",
    "    i += 1\n",
    "    # What is the format function for\n",
    "    print ('{} children have apples'.format (i))\n",
    "\n",
    "print ('{} children have apples'.format (i))"
   ]
  },
  {
   "cell_type": "markdown",
   "metadata": {},
   "source": [
    "3. Print all elements of an array."
   ]
  },
  {
   "cell_type": "code",
   "execution_count": 10,
   "metadata": {},
   "outputs": [
    {
     "name": "stdout",
     "output_type": "stream",
     "text": [
      "3\n",
      "6\n",
      "7\n",
      "10\n",
      "15\n",
      "17\n",
      "18\n",
      "31\n",
      "26\n",
      "88\n",
      "100\n",
      "120\n",
      "110\n"
     ]
    }
   ],
   "source": [
    "import numpy as np\n",
    "\n",
    "edad = np.array([ 3, 6, 7, 10, 15, 17, 18, 31, 26, 88 , 100, 120, 110])\n",
    "i = 0\n",
    "\n",
    "while i < edad.size:\n",
    "    \n",
    "    print(edad[i])\n",
    "    i += 1"
   ]
  },
  {
   "cell_type": "markdown",
   "metadata": {},
   "source": [
    "## Excersice"
   ]
  },
  {
   "cell_type": "code",
   "execution_count": 15,
   "metadata": {},
   "outputs": [
    {
     "name": "stdout",
     "output_type": "stream",
     "text": [
      "Quarantine day n° 1. \n",
      "Maria looks at the peaky blinders and Love alarm\n",
      "The day number 1 of quarantine is over. \n",
      " \n",
      "Quarantine day n° 2. \n",
      "Maria looks at the peaky blinders and Love alarm\n",
      "The day number 2 of quarantine is over. \n",
      " \n",
      "Quarantine day n° 3. \n",
      "Maria looks at the peaky blinders and Love alarm\n",
      "The day number 3 of quarantine is over. \n",
      " \n",
      "Quarantine day n° 4. \n",
      "Maria looks at the peaky blinders and Love alarm\n",
      "The day number 4 of quarantine is over. \n",
      " \n",
      "Quarantine day n° 5. \n",
      "Maria looks at the peaky blinders and Love alarm\n",
      "The day number 5 of quarantine is over. \n",
      " \n",
      "Quarantine day n° 6. \n",
      "Maria looks at the peaky blinders and Love alarm\n",
      "The day number 6 of quarantine is over. \n",
      " \n",
      "Quarantine day n° 7. \n",
      "They let the lady out on the day 7. \n",
      " \n",
      "Quarantine day n° 8. \n",
      "Maria looks at the peaky blinders and Love alarm\n",
      "The day number 8 of quarantine is over. \n",
      " \n",
      "Quarantine day n° 9. \n",
      "Maria looks at the peaky blinders and Love alarm\n",
      "The day number 9 of quarantine is over. \n",
      " \n",
      "Quarantine day n° 10. \n",
      "Maria looks at the peaky blinders and Love alarm\n",
      "The day number 10 of quarantine is over. \n",
      " \n",
      "Quarantine day n° 11. \n",
      "Maria looks at the peaky blinders and Love alarm\n",
      "The day number 11 of quarantine is over. \n",
      " \n",
      "Quarantine day n° 12. \n",
      "Maria looks at the peaky blinders and Love alarm\n",
      "The day number 12 of quarantine is over. \n",
      " \n",
      "Quarantine day n° 13. \n",
      "Maria looks at the peaky blinders and Love alarm\n",
      "The day number 13 of quarantine is over. \n",
      " \n",
      "Quarantine day n° 14. \n",
      "Maria looks at the peaky blinders and Love alarm\n",
      "The day number 14 of quarantine is over. \n",
      " \n",
      "Quarantine day n° 15. \n",
      "They let the lady out on the day 15. \n",
      " \n",
      "Quarantine day n° 16. \n",
      "Maria reads THE WORLD OF SOFIA and Chronicle of a death foretold\n",
      "The day number 16 of quarantine is over. \n",
      " \n",
      "Quarantine day n° 17. \n",
      "Maria reads THE WORLD OF SOFIA and Chronicle of a death foretold\n",
      "The day number 17 of quarantine is over. \n",
      " \n",
      "Quarantine day n° 18. \n",
      "Maria reads THE WORLD OF SOFIA and Chronicle of a death foretold\n",
      "The day number 18 of quarantine is over. \n",
      " \n",
      "Quarantine day n° 19. \n",
      "Maria reads THE WORLD OF SOFIA and Chronicle of a death foretold\n",
      "The day number 19 of quarantine is over. \n",
      " \n",
      "Quarantine day n° 20. \n",
      "Maria builds her Foundation of Analysis I class\n",
      "The day number 20 of quarantine is over. \n",
      " \n",
      "Quarantine day n° 21. \n",
      "Maria builds her Foundation of Analysis I class\n",
      "The day number 21 of quarantine is over. \n",
      " \n",
      "Quarantine day n° 22. \n",
      "Maria builds her Foundation of Analysis I class\n",
      "The day number 22 of quarantine is over. \n",
      " \n",
      "Quarantine day n° 23. \n",
      "They let the lady out on the day 23. \n",
      " \n",
      "Quarantine day n° 24. \n",
      "Maria builds her Foundation of Analysis I class\n",
      "The day number 24 of quarantine is over. \n",
      " \n",
      "Quarantine day n° 25. \n",
      "Maria builds her Foundation of Analysis I class\n",
      "The day number 25 of quarantine is over. \n",
      " \n",
      "Quarantine day n° 26. \n",
      "Maria builds her Foundation of Analysis I class\n",
      "The day number 26 of quarantine is over. \n",
      " \n",
      "Quarantine day n° 27. \n",
      "Maria builds her Foundation of Analysis I class\n",
      "The day number 27 of quarantine is over. \n",
      " \n",
      "Quarantine day n° 28. \n",
      "Maria builds her Foundation of Analysis I class\n",
      "The day number 28 of quarantine is over. \n",
      " \n",
      "Quarantine day n° 29. \n",
      "Maria builds her Foundation of Analysis I class\n",
      "The day number 29 of quarantine is over. \n",
      " \n",
      "Quarantine day n° 30. \n",
      "Maria builds her Foundation of Analysis I class\n",
      "The day number 30 of quarantine is over. \n",
      " \n",
      "Quarantine day n° 31. \n",
      "They let the lady out on the day 31. \n",
      " \n",
      "Quarantine day n° 32. \n",
      "Maria builds her Foundation of Analysis I class\n",
      "The day number 32 of quarantine is over. \n",
      " \n",
      "Quarantine day n° 33. \n",
      "Maria builds her Foundation of Analysis I class\n",
      "The day number 33 of quarantine is over. \n",
      " \n",
      "Quarantine day n° 34. \n",
      "Maria builds her Foundation of Analysis I class\n",
      "The day number 34 of quarantine is over. \n",
      " \n",
      "Quarantine day n° 35. \n",
      "Maria builds her Foundation of Analysis I class\n",
      "The day number 35 of quarantine is over. \n",
      " \n",
      "Quarantine day n° 36. \n",
      "Maria builds her Foundation of Analysis I class\n",
      "The day number 36 of quarantine is over. \n",
      " \n",
      "Quarantine day n° 37. \n",
      "Maria builds her Foundation of Analysis I class\n",
      "The day number 37 of quarantine is over. \n",
      " \n",
      "Quarantine day n° 38. \n",
      "Maria builds her Foundation of Analysis I class\n",
      "The day number 38 of quarantine is over. \n",
      " \n",
      "Quarantine day n° 39. \n",
      "They let the lady out on the day 39. \n",
      " \n",
      "Quarantine day n° 40. \n",
      "The lady works out\n",
      "The day number 40 of quarantine is over. \n",
      " \n",
      "Quarantine is over.\n"
     ]
    }
   ],
   "source": [
    "quarantine_days = 1\n",
    "stress_level = 2\n",
    "\n",
    "\n",
    "while quarantine_days <= 40:\n",
    "    \n",
    "    print (f'Quarantine day n° {quarantine_days}. ')\n",
    "    if stress_level> 100:\n",
    "        print (f'They let the lady out on the day {quarantine_days}. \\n ')\n",
    "        stress_level = 1\n",
    "        quarantine_days = quarantine_days + 1\n",
    "        continue\n",
    "        \n",
    "    \n",
    "    # This is what you will do each day\n",
    "    if quarantine_days <15:\n",
    "        \n",
    "        print (\"Maria looks at the peaky blinders and Love alarm\")\n",
    "    \n",
    "    elif (quarantine_days >= 15) & (quarantine_days <20):\n",
    "        \n",
    "        print (\"Maria reads THE WORLD OF SOFIA and Chronicle of a death foretold\")\n",
    "    \n",
    "    elif (quarantine_days >= 20) & (quarantine_days <40):\n",
    "        print ('Maria builds her Foundation of Analysis I class')\n",
    "        \n",
    "    else:\n",
    "        print (\"The lady works out\")\n",
    "    \n",
    "    print (f'The day number {quarantine_days} of quarantine is over. \\n ')\n",
    "    \n",
    "    # Days increase\n",
    "    quarantine_days = quarantine_days + 1\n",
    "    stress_level = stress_level * 2\n",
    "\n",
    "print (\"Quarantine is over.\")"
   ]
  },
  {
   "cell_type": "code",
   "execution_count": 28,
   "metadata": {},
   "outputs": [],
   "source": [
    "import pandas as pd\n",
    "data1 = {'names': ['Marcelo', 'Octavio', 'Fredy', 'Felipe', 'Arturo', 'Anzony', 'Finado', 'Alex', 'Anny', 'Yampi'], \n",
    "     'age': [23, 25, 36, 78, 90, 32, 200, 24, 12, 18]}\n",
    "people = pd.DataFrame( data = data1)"
   ]
  },
  {
   "cell_type": "code",
   "execution_count": null,
   "metadata": {},
   "outputs": [],
   "source": [
    "i = 0\n",
    "# Vamos a ir fila por fila\n",
    "nrows = people.age.count()\n",
    "while i < nrows:\n",
    "  \n",
    "    if people['age'][i] > 150:\n",
    "        print('Ohhh no a phantom')\n",
    "        continue\n",
    "    \n",
    "    elif people['age'][i] < 18:\n",
    "        # Hemos creado una nueva columna y la estamos rellenando\n",
    "        people.loc[[i], [\"pass\"]] = \"No pass\"\n",
    "    \n",
    "    else:\n",
    "        people.loc[[i], [\"pass\"]] = \"Pass\"\n",
    "        \n",
    "    i += 1"
   ]
  },
  {
   "cell_type": "code",
   "execution_count": 34,
   "metadata": {},
   "outputs": [
    {
     "data": {
      "text/html": [
       "<div>\n",
       "<style scoped>\n",
       "    .dataframe tbody tr th:only-of-type {\n",
       "        vertical-align: middle;\n",
       "    }\n",
       "\n",
       "    .dataframe tbody tr th {\n",
       "        vertical-align: top;\n",
       "    }\n",
       "\n",
       "    .dataframe thead th {\n",
       "        text-align: right;\n",
       "    }\n",
       "</style>\n",
       "<table border=\"1\" class=\"dataframe\">\n",
       "  <thead>\n",
       "    <tr style=\"text-align: right;\">\n",
       "      <th></th>\n",
       "      <th>names</th>\n",
       "      <th>age</th>\n",
       "      <th>pass</th>\n",
       "    </tr>\n",
       "  </thead>\n",
       "  <tbody>\n",
       "    <tr>\n",
       "      <th>0</th>\n",
       "      <td>Marcelo</td>\n",
       "      <td>23</td>\n",
       "      <td>Pass</td>\n",
       "    </tr>\n",
       "    <tr>\n",
       "      <th>1</th>\n",
       "      <td>Octavio</td>\n",
       "      <td>25</td>\n",
       "      <td>Pass</td>\n",
       "    </tr>\n",
       "    <tr>\n",
       "      <th>2</th>\n",
       "      <td>Fredy</td>\n",
       "      <td>36</td>\n",
       "      <td>Pass</td>\n",
       "    </tr>\n",
       "    <tr>\n",
       "      <th>3</th>\n",
       "      <td>Felipe</td>\n",
       "      <td>78</td>\n",
       "      <td>Pass</td>\n",
       "    </tr>\n",
       "    <tr>\n",
       "      <th>4</th>\n",
       "      <td>Arturo</td>\n",
       "      <td>90</td>\n",
       "      <td>Pass</td>\n",
       "    </tr>\n",
       "    <tr>\n",
       "      <th>5</th>\n",
       "      <td>Anzony</td>\n",
       "      <td>32</td>\n",
       "      <td>Pass</td>\n",
       "    </tr>\n",
       "    <tr>\n",
       "      <th>6</th>\n",
       "      <td>Finado</td>\n",
       "      <td>200</td>\n",
       "      <td>NaN</td>\n",
       "    </tr>\n",
       "    <tr>\n",
       "      <th>7</th>\n",
       "      <td>Alex</td>\n",
       "      <td>24</td>\n",
       "      <td>Pass</td>\n",
       "    </tr>\n",
       "    <tr>\n",
       "      <th>8</th>\n",
       "      <td>Anny</td>\n",
       "      <td>12</td>\n",
       "      <td>No pass</td>\n",
       "    </tr>\n",
       "    <tr>\n",
       "      <th>9</th>\n",
       "      <td>Yampi</td>\n",
       "      <td>18</td>\n",
       "      <td>Pass</td>\n",
       "    </tr>\n",
       "  </tbody>\n",
       "</table>\n",
       "</div>"
      ],
      "text/plain": [
       "     names  age     pass\n",
       "0  Marcelo   23     Pass\n",
       "1  Octavio   25     Pass\n",
       "2    Fredy   36     Pass\n",
       "3   Felipe   78     Pass\n",
       "4   Arturo   90     Pass\n",
       "5   Anzony   32     Pass\n",
       "6   Finado  200      NaN\n",
       "7     Alex   24     Pass\n",
       "8     Anny   12  No pass\n",
       "9    Yampi   18     Pass"
      ]
     },
     "execution_count": 34,
     "metadata": {},
     "output_type": "execute_result"
    }
   ],
   "source": [
    "people"
   ]
  }
 ],
 "metadata": {
  "hide_input": false,
  "kernelspec": {
   "display_name": "Python 3",
   "language": "python",
   "name": "python3"
  },
  "language_info": {
   "codemirror_mode": {
    "name": "ipython",
    "version": 3
   },
   "file_extension": ".py",
   "mimetype": "text/x-python",
   "name": "python",
   "nbconvert_exporter": "python",
   "pygments_lexer": "ipython3",
   "version": "3.8.6"
  }
 },
 "nbformat": 4,
 "nbformat_minor": 4
}
