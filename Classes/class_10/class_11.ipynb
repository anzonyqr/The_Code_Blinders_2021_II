{
 "cells": [
  {
   "cell_type": "markdown",
   "metadata": {},
   "source": [
    "# Pass, Continue, Break, Try\n",
    "\n",
    "1. `Pass`: Allows you to handle the condition without the loop being impacted in any way\n",
    "2. `Continue`: The current iteration of the loop will be disrupted, but the program will return to the top of the loop\n",
    "3. `Break`: The while–loop will exit\n",
    "4. `Try`: This command lets you test a block of code for errors."
   ]
  },
  {
   "cell_type": "markdown",
   "metadata": {},
   "source": [
    "## Pass"
   ]
  },
  {
   "cell_type": "code",
   "execution_count": 54,
   "metadata": {},
   "outputs": [
    {
     "name": "stdout",
     "output_type": "stream",
     "text": [
      "Number is 0\n",
      "Number is 1\n",
      "Number is 2\n",
      "Number is 3\n",
      "Number is 4\n",
      "Number is 5\n",
      "Number is 6\n",
      "Number is 7\n",
      "Number is 8\n",
      "Number is 9\n"
     ]
    }
   ],
   "source": [
    "for number in range(10):\n",
    "\n",
    "    print('Number is ' + str(number))\n"
   ]
  },
  {
   "cell_type": "code",
   "execution_count": 67,
   "metadata": {},
   "outputs": [],
   "source": [
    "a = 2\n",
    "if a == 1:\n",
    "    print(a)"
   ]
  },
  {
   "cell_type": "code",
   "execution_count": 72,
   "metadata": {},
   "outputs": [],
   "source": [
    "primos = [2 , 3, 5, 7]"
   ]
  },
  {
   "cell_type": "code",
   "execution_count": 78,
   "metadata": {},
   "outputs": [
    {
     "name": "stdout",
     "output_type": "stream",
     "text": [
      "Different number\n",
      "Number is 0 \n",
      "\n",
      "Different number\n",
      "Number is 1 \n",
      "\n",
      "Number is 2 \n",
      "\n",
      "Number is 3 \n",
      "\n",
      "Different number\n",
      "Number is 4 \n",
      "\n",
      "Number is 5 \n",
      "\n",
      "Different number\n",
      "Number is 6 \n",
      "\n",
      "Number is 7 \n",
      "\n",
      "Different number\n",
      "Number is 8 \n",
      "\n",
      "Different number\n",
      "Number is 9 \n",
      "\n",
      "Out of loop\n"
     ]
    }
   ],
   "source": [
    "for number in range(10):\n",
    "    \n",
    "    if (number in primos):\n",
    "        # comment\n",
    "        pass\n",
    "\n",
    "    elif number == 3:\n",
    "        #number = number + 1\n",
    "        print( f'This number is {number}' )\n",
    "\n",
    "    else:\n",
    "        #number = number + 2\n",
    "        print('Different number')\n",
    "\n",
    "    print('Number is ' + str(number), '\\n')\n",
    "\n",
    "print('Out of loop')"
   ]
  },
  {
   "cell_type": "markdown",
   "metadata": {},
   "source": [
    "## Continue"
   ]
  },
  {
   "cell_type": "code",
   "execution_count": 68,
   "metadata": {},
   "outputs": [
    {
     "name": "stdout",
     "output_type": "stream",
     "text": [
      "Different number\n",
      "Number is 0 \n",
      "\n",
      "Different number\n",
      "Number is 1 \n",
      "\n",
      "Different number\n",
      "Number is 2 \n",
      "\n",
      "This number is 3\n",
      "Number is 3 \n",
      "\n",
      "Different number\n",
      "Number is 4 \n",
      "\n",
      "Different number\n",
      "Number is 6 \n",
      "\n",
      "Different number\n",
      "Number is 7 \n",
      "\n",
      "Different number\n",
      "Number is 8 \n",
      "\n",
      "Different number\n",
      "Number is 9 \n",
      "\n",
      "Out of loop\n"
     ]
    }
   ],
   "source": [
    "for number in range(10):\n",
    "    if number == 5:\n",
    "        # comment\n",
    "        continue\n",
    "\n",
    "    elif number == 3:\n",
    "        #number = number + 1\n",
    "        print( f'This number is {number}' )\n",
    "\n",
    "    else:\n",
    "        #number = number + 2\n",
    "        print('Different number')\n",
    "    \n",
    "    print('Number is ' + str(number), '\\n')\n",
    "\n",
    "print('Out of loop')"
   ]
  },
  {
   "cell_type": "markdown",
   "metadata": {},
   "source": [
    "## Break"
   ]
  },
  {
   "cell_type": "code",
   "execution_count": 83,
   "metadata": {},
   "outputs": [
    {
     "ename": "NameError",
     "evalue": "name 'd' is not defined",
     "output_type": "error",
     "traceback": [
      "\u001b[1;31m---------------------------------------------------------------------------\u001b[0m",
      "\u001b[1;31mNameError\u001b[0m                                 Traceback (most recent call last)",
      "\u001b[1;32m<ipython-input-83-e983f374794d>\u001b[0m in \u001b[0;36m<module>\u001b[1;34m\u001b[0m\n\u001b[1;32m----> 1\u001b[1;33m \u001b[0md\u001b[0m\u001b[1;33m\u001b[0m\u001b[1;33m\u001b[0m\u001b[0m\n\u001b[0m",
      "\u001b[1;31mNameError\u001b[0m: name 'd' is not defined"
     ]
    }
   ],
   "source": [
    "d"
   ]
  },
  {
   "cell_type": "code",
   "execution_count": 84,
   "metadata": {},
   "outputs": [
    {
     "name": "stdout",
     "output_type": "stream",
     "text": [
      "Different number\n",
      "Number is 0\n",
      "Different number\n",
      "Number is 1\n",
      "Different number\n",
      "Number is 2\n",
      "This number is 3\n",
      "Number is 3\n",
      "Different number\n",
      "Number is 4\n"
     ]
    },
    {
     "ename": "Exception",
     "evalue": "Hola",
     "output_type": "error",
     "traceback": [
      "\u001b[1;31m---------------------------------------------------------------------------\u001b[0m",
      "\u001b[1;31mException\u001b[0m                                 Traceback (most recent call last)",
      "\u001b[1;32m<ipython-input-84-a28b2080aa80>\u001b[0m in \u001b[0;36m<module>\u001b[1;34m\u001b[0m\n\u001b[0;32m      2\u001b[0m     \u001b[1;32mif\u001b[0m \u001b[0mnumber\u001b[0m \u001b[1;33m==\u001b[0m \u001b[1;36m5\u001b[0m\u001b[1;33m:\u001b[0m\u001b[1;33m\u001b[0m\u001b[1;33m\u001b[0m\u001b[0m\n\u001b[0;32m      3\u001b[0m         \u001b[1;31m# comment\u001b[0m\u001b[1;33m\u001b[0m\u001b[1;33m\u001b[0m\u001b[1;33m\u001b[0m\u001b[0m\n\u001b[1;32m----> 4\u001b[1;33m         \u001b[1;32mraise\u001b[0m \u001b[0mException\u001b[0m\u001b[1;33m(\u001b[0m\u001b[1;34m'Hola'\u001b[0m\u001b[1;33m)\u001b[0m\u001b[1;33m\u001b[0m\u001b[1;33m\u001b[0m\u001b[0m\n\u001b[0m\u001b[0;32m      5\u001b[0m \u001b[1;33m\u001b[0m\u001b[0m\n\u001b[0;32m      6\u001b[0m     \u001b[1;32melif\u001b[0m \u001b[0mnumber\u001b[0m \u001b[1;33m==\u001b[0m \u001b[1;36m3\u001b[0m\u001b[1;33m:\u001b[0m\u001b[1;33m\u001b[0m\u001b[1;33m\u001b[0m\u001b[0m\n",
      "\u001b[1;31mException\u001b[0m: Hola"
     ]
    }
   ],
   "source": [
    "for number in range(10):\n",
    "    if number == 5:\n",
    "        # comment\n",
    "        raise Exception('Hola')\n",
    "\n",
    "    elif number == 3:\n",
    "        #number = number + 1\n",
    "        print( f'This number is {number}' )\n",
    "\n",
    "    else:\n",
    "        #number = number + 2\n",
    "        print('Different number')\n",
    "\n",
    "    print('Number is ' + str(number))\n",
    "\n",
    "print('Out of loop')"
   ]
  },
  {
   "cell_type": "markdown",
   "metadata": {},
   "source": [
    "## Try"
   ]
  },
  {
   "cell_type": "markdown",
   "metadata": {},
   "source": [
    "`except`: Run a code if an error occurs."
   ]
  },
  {
   "cell_type": "code",
   "execution_count": 85,
   "metadata": {},
   "outputs": [],
   "source": [
    "x = 'jola'"
   ]
  },
  {
   "cell_type": "code",
   "execution_count": 88,
   "metadata": {},
   "outputs": [
    {
     "ename": "TypeError",
     "evalue": "can only concatenate str (not \"int\") to str",
     "output_type": "error",
     "traceback": [
      "\u001b[1;31m---------------------------------------------------------------------------\u001b[0m",
      "\u001b[1;31mTypeError\u001b[0m                                 Traceback (most recent call last)",
      "\u001b[1;32m<ipython-input-88-caad3cc2172f>\u001b[0m in \u001b[0;36m<module>\u001b[1;34m\u001b[0m\n\u001b[1;32m----> 1\u001b[1;33m \u001b[0mprint\u001b[0m\u001b[1;33m(\u001b[0m\u001b[0mx\u001b[0m \u001b[1;33m+\u001b[0m \u001b[1;36m4\u001b[0m\u001b[1;33m)\u001b[0m\u001b[1;33m\u001b[0m\u001b[1;33m\u001b[0m\u001b[0m\n\u001b[0m",
      "\u001b[1;31mTypeError\u001b[0m: can only concatenate str (not \"int\") to str"
     ]
    }
   ],
   "source": [
    "print(x + 4)"
   ]
  },
  {
   "cell_type": "code",
   "execution_count": 90,
   "metadata": {},
   "outputs": [
    {
     "name": "stdout",
     "output_type": "stream",
     "text": [
      "Es un error tipo TypeError\n"
     ]
    }
   ],
   "source": [
    "try:\n",
    "    print(x + 4)\n",
    "except TypeError:\n",
    "    print(\"Es un error tipo TypeError\")\n",
    "except NameError:\n",
    "    print(\"Variable x is not defined\")\n",
    "except:\n",
    "    print(\"Something else went wrong\")"
   ]
  },
  {
   "cell_type": "markdown",
   "metadata": {},
   "source": [
    "`else`: The code will be executed whether there is no error."
   ]
  },
  {
   "cell_type": "code",
   "execution_count": 103,
   "metadata": {},
   "outputs": [],
   "source": [
    "x = 6"
   ]
  },
  {
   "cell_type": "code",
   "execution_count": 108,
   "metadata": {},
   "outputs": [
    {
     "name": "stdout",
     "output_type": "stream",
     "text": [
      "10\n",
      "Nothing went wrong\n",
      "error 2\n"
     ]
    }
   ],
   "source": [
    "try:\n",
    "    print(x + 4)\n",
    "except:\n",
    "    print(\"Something went wrong\")\n",
    "    #print( 5 + 4)\n",
    "else:\n",
    "    print(\"Nothing went wrong\")\n",
    "    \n",
    "    try:\n",
    "        print( x + \"2\")    \n",
    "    except:\n",
    "        print(\"error 2\")"
   ]
  },
  {
   "cell_type": "markdown",
   "metadata": {},
   "source": [
    "`finally`: The code will be executed does no matter whether or not the try raises an exception."
   ]
  },
  {
   "cell_type": "code",
   "execution_count": 113,
   "metadata": {},
   "outputs": [],
   "source": [
    "x = 6"
   ]
  },
  {
   "cell_type": "code",
   "execution_count": 114,
   "metadata": {},
   "outputs": [
    {
     "name": "stdout",
     "output_type": "stream",
     "text": [
      "10\n",
      "el elemento 6 ya paso por este filtro\n"
     ]
    }
   ],
   "source": [
    "try:\n",
    "    print(x + 4)\n",
    "except:\n",
    "    print(\"Something went wrong\")\n",
    "finally:\n",
    "    print( f'el elemento {x} ya paso por este filtro')"
   ]
  },
  {
   "cell_type": "code",
   "execution_count": 117,
   "metadata": {},
   "outputs": [
    {
     "ename": "NameError",
     "evalue": "name 's' is not defined",
     "output_type": "error",
     "traceback": [
      "\u001b[1;31m---------------------------------------------------------------------------\u001b[0m",
      "\u001b[1;31mNameError\u001b[0m                                 Traceback (most recent call last)",
      "\u001b[1;32m<ipython-input-117-ded5ba42480f>\u001b[0m in \u001b[0;36m<module>\u001b[1;34m\u001b[0m\n\u001b[1;32m----> 1\u001b[1;33m \u001b[0ms\u001b[0m\u001b[1;33m\u001b[0m\u001b[1;33m\u001b[0m\u001b[0m\n\u001b[0m",
      "\u001b[1;31mNameError\u001b[0m: name 's' is not defined"
     ]
    }
   ],
   "source": [
    "s"
   ]
  },
  {
   "cell_type": "code",
   "execution_count": 124,
   "metadata": {},
   "outputs": [
    {
     "name": "stdout",
     "output_type": "stream",
     "text": [
      "16\n"
     ]
    }
   ],
   "source": [
    "s = 16\n",
    "if s:\n",
    "    print(s)"
   ]
  },
  {
   "cell_type": "markdown",
   "metadata": {},
   "source": [
    "# Loops\n",
    "We will study the 2 types of loops in python. A loop is a function that allows you to iteratively perform tasks a certain number of times (for loop) or as long as a condition is true (while loop).\n",
    "\n",
    "## While Loop\n",
    "While loop is used to repeat code as long as the condition is true. When the logical expression is false, the code will finish executing. [More Info](https://python101.pythonlibrary.org/chapter5_loops.html)\n",
    "<img src=\"../images\\while_loop.jpg\">"
   ]
  },
  {
   "cell_type": "markdown",
   "metadata": {},
   "source": [
    "See the structure: <br>\n",
    "\n",
    "while <font color='green'>condition</font>: <br>\n",
    "&nbsp;&nbsp;&nbsp;&nbsp;&nbsp;&nbsp;code 1<br><br>\n",
    "&nbsp;&nbsp;&nbsp;&nbsp;&nbsp;&nbsp;<font color='red'>break code</font><br><br>\n",
    "\n",
    "The break code is an expression that allows the logical condition to be false at some point, because if not, the code will continue to execute infinitely."
   ]
  },
  {
   "cell_type": "code",
   "execution_count": 127,
   "metadata": {},
   "outputs": [
    {
     "name": "stdout",
     "output_type": "stream",
     "text": [
      "1\n",
      "2\n",
      "3\n",
      "4\n",
      "5\n"
     ]
    }
   ],
   "source": [
    "i = 1\n",
    "\n",
    "# condition  \"i < 6\"\n",
    "while i < 6:\n",
    "    \n",
    "    print(i)\n",
    "    \n",
    "    # break code, \n",
    "    i += 1 \n",
    "    # ==> i = i + 1"
   ]
  },
  {
   "cell_type": "markdown",
   "metadata": {},
   "source": [
    "### Training\n",
    "1. Print $2^n$, but the result is less than 10,000."
   ]
  },
  {
   "cell_type": "code",
   "execution_count": 131,
   "metadata": {},
   "outputs": [
    {
     "name": "stdout",
     "output_type": "stream",
     "text": [
      "2\n",
      "4\n",
      "8\n",
      "16\n",
      "32\n",
      "64\n",
      "128\n",
      "256\n",
      "512\n",
      "1024\n",
      "2048\n",
      "4096\n",
      "8192\n"
     ]
    }
   ],
   "source": [
    "x = 2\n",
    "while x < 10000:\n",
    "    print(x)\n",
    "    \n",
    "    #break code\n",
    "    x = 2*x"
   ]
  },
  {
   "cell_type": "markdown",
   "metadata": {},
   "source": [
    "2. A teacher has 100 apples for his entire class. The first student took four apples, and the next student always took more apples than the previous one. How many children have apples?"
   ]
  },
  {
   "cell_type": "code",
   "execution_count": 137,
   "metadata": {},
   "outputs": [
    {
     "name": "stdout",
     "output_type": "stream",
     "text": [
      "2 children have apples\n",
      "3 children have apples\n",
      "4 children have apples\n",
      "5 children have apples\n",
      "6 children have apples\n",
      "7 children have apples\n",
      "8 children have apples\n",
      "9 children have apples\n",
      "10 children have apples\n",
      "11 children have apples\n",
      "12 children have apples\n"
     ]
    }
   ],
   "source": [
    "apples = 100\n",
    "last_st = 4\n",
    "i = 1\n",
    "while apples > last_st:\n",
    "    \n",
    "    # Code\n",
    "    apples = apples - last_st\n",
    "    last_st += 1\n",
    "\n",
    "    # Break code\n",
    "    i += 1\n",
    "    # What is the format function for\n",
    "    print ('{} children have apples'.format (i))\n",
    "\n",
    "# print ('{} children have apples'.format (i))"
   ]
  },
  {
   "cell_type": "code",
   "execution_count": 134,
   "metadata": {},
   "outputs": [
    {
     "data": {
      "text/plain": [
       "24"
      ]
     },
     "execution_count": 134,
     "metadata": {},
     "output_type": "execute_result"
    }
   ],
   "source": [
    "next_st"
   ]
  },
  {
   "cell_type": "markdown",
   "metadata": {},
   "source": [
    "3. Print all elements of an array."
   ]
  },
  {
   "cell_type": "code",
   "execution_count": 138,
   "metadata": {},
   "outputs": [
    {
     "name": "stdout",
     "output_type": "stream",
     "text": [
      "3\n",
      "6\n",
      "7\n",
      "10\n",
      "15\n",
      "17\n",
      "18\n",
      "31\n",
      "26\n",
      "88\n",
      "100\n",
      "120\n",
      "110\n"
     ]
    }
   ],
   "source": [
    "import numpy as np\n",
    "\n",
    "edad = np.array([ 3, 6, 7, 10, 15, 17, 18, 31, 26, 88 , 100, 120, 110])\n",
    "i = 0\n",
    "\n",
    "while i < edad.size:\n",
    "    \n",
    "    print(edad[i])\n",
    "    i += 1"
   ]
  },
  {
   "cell_type": "markdown",
   "metadata": {},
   "source": [
    "## Excersice"
   ]
  },
  {
   "cell_type": "code",
   "execution_count": 144,
   "metadata": {},
   "outputs": [
    {
     "name": "stdout",
     "output_type": "stream",
     "text": [
      "Quarantine day n° 1. \n",
      "Maria looks at the peaky blinders and Love alarm\n",
      "The day number 1 of quarantine is over. \n",
      " \n",
      "Quarantine day n° 2. \n",
      "Maria looks at the peaky blinders and Love alarm\n",
      "The day number 2 of quarantine is over. \n",
      " \n",
      "Quarantine day n° 3. \n",
      "Maria looks at the peaky blinders and Love alarm\n",
      "The day number 3 of quarantine is over. \n",
      " \n",
      "Quarantine day n° 4. \n",
      "Maria looks at the peaky blinders and Love alarm\n",
      "The day number 4 of quarantine is over. \n",
      " \n",
      "Quarantine day n° 5. \n",
      "Maria looks at the peaky blinders and Love alarm\n",
      "The day number 5 of quarantine is over. \n",
      " \n",
      "Quarantine day n° 6. \n",
      "Maria looks at the peaky blinders and Love alarm\n",
      "The day number 6 of quarantine is over. \n",
      " \n",
      "Quarantine day n° 7. \n",
      "Her family let Maria out on the day 7.\n",
      "Quarantine is over.\n"
     ]
    }
   ],
   "source": [
    "quarantine_days = 1\n",
    "stress_level = 2\n",
    "\n",
    "\n",
    "while quarantine_days <= 40:\n",
    "    \n",
    "    print ( f'Quarantine day n° {quarantine_days}. ')\n",
    "    \n",
    "    if stress_level> 100:\n",
    "        print (f'Her family let Maria out on the day {quarantine_days}.')\n",
    "        stress_level = 1\n",
    "        break\n",
    "     \n",
    "    elif quarantine_days <15:\n",
    "        \n",
    "        print (\"Maria looks at the peaky blinders and Love alarm\")\n",
    "    \n",
    "    elif (quarantine_days >= 15) & (quarantine_days <20):\n",
    "        \n",
    "        print (\"Maria reads THE WORLD OF SOFIA and Cronicas de una muerte anunciada\")\n",
    "    \n",
    "    elif (quarantine_days >= 20) & (quarantine_days <40):\n",
    "        print ('Maria builds her Foundation of Analysis I class')\n",
    "        \n",
    "    else:\n",
    "        print (\"The lady works out\")\n",
    "    \n",
    "    print (f'The day number {quarantine_days} of quarantine is over. \\n ')\n",
    "    \n",
    "    # Days increase\n",
    "    quarantine_days = quarantine_days + 1\n",
    "    stress_level = stress_level * 2\n",
    "\n",
    "print (\"Quarantine is over.\")"
   ]
  },
  {
   "cell_type": "code",
   "execution_count": 157,
   "metadata": {},
   "outputs": [],
   "source": [
    "import pandas as pd\n",
    "data1 = {'names': ['Marcelo', 'Octavio', 'Fredy', 'Felipe', 'Arturo', 'Anzony', 'Finado', 'Alex', 'Anny', 'Yampi'], \n",
    "     'age': [23, 25, 36, 78, 90, 32, 200, 24, 12, 18]}\n",
    "people = pd.DataFrame( data = data1)"
   ]
  },
  {
   "cell_type": "code",
   "execution_count": 158,
   "metadata": {
    "scrolled": true
   },
   "outputs": [
    {
     "data": {
      "text/html": [
       "<div>\n",
       "<style scoped>\n",
       "    .dataframe tbody tr th:only-of-type {\n",
       "        vertical-align: middle;\n",
       "    }\n",
       "\n",
       "    .dataframe tbody tr th {\n",
       "        vertical-align: top;\n",
       "    }\n",
       "\n",
       "    .dataframe thead th {\n",
       "        text-align: right;\n",
       "    }\n",
       "</style>\n",
       "<table border=\"1\" class=\"dataframe\">\n",
       "  <thead>\n",
       "    <tr style=\"text-align: right;\">\n",
       "      <th></th>\n",
       "      <th>names</th>\n",
       "      <th>age</th>\n",
       "    </tr>\n",
       "  </thead>\n",
       "  <tbody>\n",
       "    <tr>\n",
       "      <th>0</th>\n",
       "      <td>Marcelo</td>\n",
       "      <td>23</td>\n",
       "    </tr>\n",
       "    <tr>\n",
       "      <th>1</th>\n",
       "      <td>Octavio</td>\n",
       "      <td>25</td>\n",
       "    </tr>\n",
       "    <tr>\n",
       "      <th>2</th>\n",
       "      <td>Fredy</td>\n",
       "      <td>36</td>\n",
       "    </tr>\n",
       "    <tr>\n",
       "      <th>3</th>\n",
       "      <td>Felipe</td>\n",
       "      <td>78</td>\n",
       "    </tr>\n",
       "    <tr>\n",
       "      <th>4</th>\n",
       "      <td>Arturo</td>\n",
       "      <td>90</td>\n",
       "    </tr>\n",
       "    <tr>\n",
       "      <th>5</th>\n",
       "      <td>Anzony</td>\n",
       "      <td>32</td>\n",
       "    </tr>\n",
       "    <tr>\n",
       "      <th>6</th>\n",
       "      <td>Finado</td>\n",
       "      <td>200</td>\n",
       "    </tr>\n",
       "    <tr>\n",
       "      <th>7</th>\n",
       "      <td>Alex</td>\n",
       "      <td>24</td>\n",
       "    </tr>\n",
       "    <tr>\n",
       "      <th>8</th>\n",
       "      <td>Anny</td>\n",
       "      <td>12</td>\n",
       "    </tr>\n",
       "    <tr>\n",
       "      <th>9</th>\n",
       "      <td>Yampi</td>\n",
       "      <td>18</td>\n",
       "    </tr>\n",
       "  </tbody>\n",
       "</table>\n",
       "</div>"
      ],
      "text/plain": [
       "     names  age\n",
       "0  Marcelo   23\n",
       "1  Octavio   25\n",
       "2    Fredy   36\n",
       "3   Felipe   78\n",
       "4   Arturo   90\n",
       "5   Anzony   32\n",
       "6   Finado  200\n",
       "7     Alex   24\n",
       "8     Anny   12\n",
       "9    Yampi   18"
      ]
     },
     "execution_count": 158,
     "metadata": {},
     "output_type": "execute_result"
    }
   ],
   "source": [
    "people"
   ]
  },
  {
   "cell_type": "code",
   "execution_count": 159,
   "metadata": {},
   "outputs": [
    {
     "name": "stdout",
     "output_type": "stream",
     "text": [
      "Ohhh no a phantom\n"
     ]
    }
   ],
   "source": [
    "i = 0\n",
    "# Vamos a ir fila por fila\n",
    "nrows = people.age.count()\n",
    "while i < nrows:\n",
    "  \n",
    "    if people['age'][i] > 150:\n",
    "        print('Ohhh no a phantom')\n",
    "        break\n",
    "    \n",
    "    elif people['age'][i] < 18:\n",
    "        # Hemos creado una nueva columna y la estamos rellenando\n",
    "        people.loc[[i], [\"pass\"]] = \"No pass\"\n",
    "    \n",
    "    else:\n",
    "        people.loc[[i], [\"pass\"]] = \"Pass\"\n",
    "        \n",
    "    i += 1"
   ]
  },
  {
   "cell_type": "code",
   "execution_count": 160,
   "metadata": {},
   "outputs": [
    {
     "data": {
      "text/html": [
       "<div>\n",
       "<style scoped>\n",
       "    .dataframe tbody tr th:only-of-type {\n",
       "        vertical-align: middle;\n",
       "    }\n",
       "\n",
       "    .dataframe tbody tr th {\n",
       "        vertical-align: top;\n",
       "    }\n",
       "\n",
       "    .dataframe thead th {\n",
       "        text-align: right;\n",
       "    }\n",
       "</style>\n",
       "<table border=\"1\" class=\"dataframe\">\n",
       "  <thead>\n",
       "    <tr style=\"text-align: right;\">\n",
       "      <th></th>\n",
       "      <th>names</th>\n",
       "      <th>age</th>\n",
       "      <th>pass</th>\n",
       "    </tr>\n",
       "  </thead>\n",
       "  <tbody>\n",
       "    <tr>\n",
       "      <th>0</th>\n",
       "      <td>Marcelo</td>\n",
       "      <td>23</td>\n",
       "      <td>Pass</td>\n",
       "    </tr>\n",
       "    <tr>\n",
       "      <th>1</th>\n",
       "      <td>Octavio</td>\n",
       "      <td>25</td>\n",
       "      <td>Pass</td>\n",
       "    </tr>\n",
       "    <tr>\n",
       "      <th>2</th>\n",
       "      <td>Fredy</td>\n",
       "      <td>36</td>\n",
       "      <td>Pass</td>\n",
       "    </tr>\n",
       "    <tr>\n",
       "      <th>3</th>\n",
       "      <td>Felipe</td>\n",
       "      <td>78</td>\n",
       "      <td>Pass</td>\n",
       "    </tr>\n",
       "    <tr>\n",
       "      <th>4</th>\n",
       "      <td>Arturo</td>\n",
       "      <td>90</td>\n",
       "      <td>Pass</td>\n",
       "    </tr>\n",
       "    <tr>\n",
       "      <th>5</th>\n",
       "      <td>Anzony</td>\n",
       "      <td>32</td>\n",
       "      <td>Pass</td>\n",
       "    </tr>\n",
       "    <tr>\n",
       "      <th>6</th>\n",
       "      <td>Finado</td>\n",
       "      <td>200</td>\n",
       "      <td>NaN</td>\n",
       "    </tr>\n",
       "    <tr>\n",
       "      <th>7</th>\n",
       "      <td>Alex</td>\n",
       "      <td>24</td>\n",
       "      <td>NaN</td>\n",
       "    </tr>\n",
       "    <tr>\n",
       "      <th>8</th>\n",
       "      <td>Anny</td>\n",
       "      <td>12</td>\n",
       "      <td>NaN</td>\n",
       "    </tr>\n",
       "    <tr>\n",
       "      <th>9</th>\n",
       "      <td>Yampi</td>\n",
       "      <td>18</td>\n",
       "      <td>NaN</td>\n",
       "    </tr>\n",
       "  </tbody>\n",
       "</table>\n",
       "</div>"
      ],
      "text/plain": [
       "     names  age  pass\n",
       "0  Marcelo   23  Pass\n",
       "1  Octavio   25  Pass\n",
       "2    Fredy   36  Pass\n",
       "3   Felipe   78  Pass\n",
       "4   Arturo   90  Pass\n",
       "5   Anzony   32  Pass\n",
       "6   Finado  200   NaN\n",
       "7     Alex   24   NaN\n",
       "8     Anny   12   NaN\n",
       "9    Yampi   18   NaN"
      ]
     },
     "execution_count": 160,
     "metadata": {},
     "output_type": "execute_result"
    }
   ],
   "source": [
    "people"
   ]
  }
 ],
 "metadata": {
  "hide_input": false,
  "kernelspec": {
   "display_name": "Python 3",
   "language": "python",
   "name": "python3"
  },
  "language_info": {
   "codemirror_mode": {
    "name": "ipython",
    "version": 3
   },
   "file_extension": ".py",
   "mimetype": "text/x-python",
   "name": "python",
   "nbconvert_exporter": "python",
   "pygments_lexer": "ipython3",
   "version": "3.8.6"
  }
 },
 "nbformat": 4,
 "nbformat_minor": 4
}
