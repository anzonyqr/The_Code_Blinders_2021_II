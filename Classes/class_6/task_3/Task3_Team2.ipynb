{
 "cells": [
  {
   "cell_type": "markdown",
   "id": "cbc35f13",
   "metadata": {},
   "source": [
    "# Tarea 3\n",
    "### Alvaro Palma"
   ]
  },
  {
   "cell_type": "code",
   "execution_count": null,
   "id": "dddf1fa0",
   "metadata": {},
   "outputs": [],
   "source": [
    "import numpy as np"
   ]
  },
  {
   "cell_type": "code",
   "execution_count": null,
   "id": "d376e83d",
   "metadata": {},
   "outputs": [],
   "source": [
    "#Pregunta 1\n",
    "a = np.array([6,0,0,0])\n",
    "b = np.array([6,6,0,0])\n",
    "c = np.array([6,6,6,0])\n",
    "d = np.array([6,6,6,6])\n",
    "print(a, b, c, d)\n"
   ]
  },
  {
   "cell_type": "code",
   "execution_count": null,
   "id": "04f16291",
   "metadata": {
    "scrolled": true
   },
   "outputs": [],
   "source": [
    "Z = np.concatenate((a,b,c,d), axis = 1)\n",
    "Z"
   ]
  },
  {
   "cell_type": "code",
   "execution_count": null,
   "id": "65536054",
   "metadata": {},
   "outputs": [],
   "source": [
    "Z.reshape((4,4))"
   ]
  },
  {
   "cell_type": "code",
   "execution_count": null,
   "id": "f6093c62",
   "metadata": {},
   "outputs": [],
   "source": [
    "#Otra manera\n",
    "np.vstack((a,b,c,d))"
   ]
  },
  {
   "cell_type": "code",
   "execution_count": null,
   "id": "46239c6a",
   "metadata": {},
   "outputs": [],
   "source": [
    "#Pregunta 2\n",
    "a1 = np.arange(start = 2, stop = 33, step = 2)\n",
    "a1"
   ]
  },
  {
   "cell_type": "code",
   "execution_count": null,
   "id": "d73e45a4",
   "metadata": {},
   "outputs": [],
   "source": [
    "a1.reshape((4,4))"
   ]
  },
  {
   "cell_type": "code",
   "execution_count": null,
   "id": "d5e2830f",
   "metadata": {},
   "outputs": [],
   "source": [
    "#Pregunta 3\n",
    "a2 = np.arange(start=1, stop = 24, step=2)\n",
    "a2"
   ]
  },
  {
   "cell_type": "code",
   "execution_count": null,
   "id": "beebf8bf",
   "metadata": {},
   "outputs": [],
   "source": [
    "a2.reshape((4,3))"
   ]
  },
  {
   "cell_type": "code",
   "execution_count": null,
   "id": "bdf2dba8",
   "metadata": {},
   "outputs": [],
   "source": [
    "#Pregunta 4\n",
    "a3 = np.arange(32)\n",
    "a3"
   ]
  },
  {
   "cell_type": "code",
   "execution_count": null,
   "id": "059af942",
   "metadata": {},
   "outputs": [],
   "source": [
    "#forma1\n",
    "a3.reshape((8,4))"
   ]
  },
  {
   "cell_type": "code",
   "execution_count": null,
   "id": "b53f7736",
   "metadata": {},
   "outputs": [],
   "source": [
    "#forma2\n",
    "a3.reshape((16,2))"
   ]
  },
  {
   "cell_type": "code",
   "execution_count": null,
   "id": "c2431e73",
   "metadata": {},
   "outputs": [],
   "source": [
    "#forma3\n",
    "a3.reshape((1,32))"
   ]
  },
  {
   "cell_type": "code",
   "execution_count": null,
   "id": "fb0bd6c9",
   "metadata": {},
   "outputs": [],
   "source": [
    "#forma4\n",
    "a3.reshape((2,16))"
   ]
  },
  {
   "cell_type": "code",
   "execution_count": null,
   "id": "0b00ea0d",
   "metadata": {},
   "outputs": [],
   "source": [
    "#Pregunta 5\n",
    "a4 = np.eye(5, dtype=int)\n",
    "a4"
   ]
  },
  {
   "cell_type": "code",
   "execution_count": null,
   "id": "2464295e",
   "metadata": {},
   "outputs": [],
   "source": [
    "a5 = np.full_like(a4,2)\n",
    "a5"
   ]
  },
  {
   "cell_type": "code",
   "execution_count": null,
   "id": "42462380",
   "metadata": {},
   "outputs": [],
   "source": [
    "a5[(1,1)] = 0\n",
    "a5[(1,2)] = 0\n",
    "a5[(1,3)] = 0\n",
    "a5[(2,1)] = 0\n",
    "a5[(2,2)] = 16\n",
    "a5[(2,3)] = 0\n",
    "a5[(3,1)]= 0\n",
    "a5[(3,2)]= 0\n",
    "a5[(3,3)]= 0\n",
    "a5"
   ]
  },
  {
   "cell_type": "code",
   "execution_count": null,
   "id": "8cccc06b",
   "metadata": {},
   "outputs": [],
   "source": []
  },
  {
   "cell_type": "markdown",
   "id": "31ebdeb8",
   "metadata": {},
   "source": [
    "### ------------------------------------------------------------------------------------------------------------------------"
   ]
  },
  {
   "cell_type": "markdown",
   "id": "7983f59d",
   "metadata": {},
   "source": [
    "### ARLETHE ARONES RONDON - TAREA 3"
   ]
  },
  {
   "cell_type": "markdown",
   "id": "f801a9aa",
   "metadata": {},
   "source": [
    "### N1\n"
   ]
  },
  {
   "cell_type": "code",
   "execution_count": null,
   "id": "957d8285",
   "metadata": {},
   "outputs": [],
   "source": [
    "import numpy as np\n"
   ]
  },
  {
   "cell_type": "code",
   "execution_count": null,
   "id": "9cca0a6a",
   "metadata": {},
   "outputs": [],
   "source": [
    "A = np.array([[6,0,0,0],[6,6,0,0], [6,6,6,0],[6,6,6,6]])\n",
    "A"
   ]
  },
  {
   "cell_type": "code",
   "execution_count": null,
   "id": "18632bbb",
   "metadata": {},
   "outputs": [],
   "source": [
    "A2= np.tri(4,None,0,dtype= \"int\")\n",
    "A2*6"
   ]
  },
  {
   "cell_type": "markdown",
   "id": "4a01ceed",
   "metadata": {},
   "source": [
    "### N2"
   ]
  },
  {
   "cell_type": "markdown",
   "id": "49637f02",
   "metadata": {},
   "source": [
    "Crear un array de 4x4 con valores pares"
   ]
  },
  {
   "cell_type": "code",
   "execution_count": null,
   "id": "256274db",
   "metadata": {},
   "outputs": [],
   "source": [
    "B = np.arange(0,31,2)\n",
    "B.reshape((4,4))"
   ]
  },
  {
   "cell_type": "markdown",
   "id": "a93c61a0",
   "metadata": {},
   "source": [
    "### N3"
   ]
  },
  {
   "cell_type": "markdown",
   "id": "25033a65",
   "metadata": {},
   "source": [
    "Crear un array de 4x3 con valores impares"
   ]
  },
  {
   "cell_type": "code",
   "execution_count": null,
   "id": "bdec1225",
   "metadata": {},
   "outputs": [],
   "source": [
    "C = np.arange(1,24,2)\n",
    "C.reshape((4,3))"
   ]
  },
  {
   "cell_type": "markdown",
   "id": "af990d27",
   "metadata": {},
   "source": [
    "### N4"
   ]
  },
  {
   "cell_type": "markdown",
   "id": "985a6f1c",
   "metadata": {},
   "source": [
    "Crear un array que contenga 32 elementos y luego darle 4 posibles formas que puede tomar el array creado inicialmente"
   ]
  },
  {
   "cell_type": "code",
   "execution_count": null,
   "id": "b09d2072",
   "metadata": {},
   "outputs": [],
   "source": [
    "D = np.arange(1,33,1)\n",
    "M = D.reshape((4,8))\n",
    "N = D.reshape((8,4))\n",
    "O = D.reshape((16,2))\n",
    "P = D.reshape((2,16))\n"
   ]
  },
  {
   "cell_type": "code",
   "execution_count": null,
   "id": "7e00f4b3",
   "metadata": {
    "scrolled": true
   },
   "outputs": [],
   "source": [
    "M"
   ]
  },
  {
   "cell_type": "code",
   "execution_count": null,
   "id": "3e26b133",
   "metadata": {},
   "outputs": [],
   "source": [
    "N"
   ]
  },
  {
   "cell_type": "code",
   "execution_count": null,
   "id": "4698567d",
   "metadata": {},
   "outputs": [],
   "source": [
    "O"
   ]
  },
  {
   "cell_type": "code",
   "execution_count": null,
   "id": "60a1099e",
   "metadata": {},
   "outputs": [],
   "source": [
    "P"
   ]
  },
  {
   "cell_type": "markdown",
   "id": "ebb38105",
   "metadata": {},
   "source": [
    "### N5"
   ]
  },
  {
   "cell_type": "code",
   "execution_count": null,
   "id": "5f0000a5",
   "metadata": {},
   "outputs": [],
   "source": [
    "tarea = np.array([[2,2,2,2,2],[2,0,0,0,2],[2,0,16,0,2],[2,0,0,0,2],[2,2,2,2,2]])\n",
    "tarea"
   ]
  },
  {
   "cell_type": "code",
   "execution_count": null,
   "id": "cc0890db",
   "metadata": {},
   "outputs": [],
   "source": [
    "X= np.full((5,5),2)\n",
    "X"
   ]
  },
  {
   "cell_type": "code",
   "execution_count": null,
   "id": "5682c025",
   "metadata": {},
   "outputs": [],
   "source": [
    "X[1:4,1:4]=0\n",
    "X"
   ]
  },
  {
   "cell_type": "code",
   "execution_count": null,
   "id": "8fe98e2e",
   "metadata": {
    "scrolled": true
   },
   "outputs": [],
   "source": [
    "X[2,2]=16\n",
    "X"
   ]
  },
  {
   "cell_type": "markdown",
   "id": "c8354ab5",
   "metadata": {},
   "source": [
    "### ---------------------------------------------------------------------------------------------------------------------------"
   ]
  },
  {
   "cell_type": "markdown",
   "id": "6a0def76",
   "metadata": {},
   "source": [
    "# Tarea 3 - Elibeth Cirilo\n",
    "\n",
    "### N1"
   ]
  },
  {
   "cell_type": "code",
   "execution_count": null,
   "id": "4abf451d",
   "metadata": {},
   "outputs": [],
   "source": [
    "import numpy as np\n",
    "\n",
    "A = np.array([[6,0,0,0],[6,6,0,0], [6,6,6,0],[6,6,6,6]])\n",
    "A"
   ]
  },
  {
   "cell_type": "markdown",
   "id": "d5f3d419",
   "metadata": {},
   "source": [
    "**Solution**\n",
    "\n",
    "One way is to create the matrix by hand."
   ]
  },
  {
   "cell_type": "code",
   "execution_count": null,
   "id": "daaec249",
   "metadata": {},
   "outputs": [],
   "source": [
    "a_1 = np.array([6,0,0,0])\n",
    "a_2 = np.array([6,6,0,0])\n",
    "a_3 = np.array([6,6,6,0])\n",
    "a_4 = np.array([6,6,6,6])\n",
    "A = np.vstack((a_1, a_2, a_3, a_4))\n",
    "A"
   ]
  },
  {
   "cell_type": "markdown",
   "id": "9bf43b75",
   "metadata": {},
   "source": [
    "Another way is to create an lower-triangle matrix from an array of four 6."
   ]
  },
  {
   "cell_type": "code",
   "execution_count": null,
   "id": "0dd1a132",
   "metadata": {},
   "outputs": [],
   "source": [
    "sixs = [6,6,6,6]\n",
    "A_1 = np.tril(sixs, k=0)\n",
    "A_1"
   ]
  },
  {
   "cell_type": "markdown",
   "id": "91318a68",
   "metadata": {},
   "source": [
    "### N2"
   ]
  },
  {
   "cell_type": "markdown",
   "id": "29cda4e5",
   "metadata": {},
   "source": [
    "Crear un array de 4x4 con valores pares"
   ]
  },
  {
   "cell_type": "markdown",
   "id": "231585ce",
   "metadata": {},
   "source": [
    "__Solution__"
   ]
  },
  {
   "cell_type": "code",
   "execution_count": null,
   "id": "140fb37a",
   "metadata": {},
   "outputs": [],
   "source": [
    "# creating an arrange of even values \n",
    "b_1 = np.arange(start = 6, stop = 37, step = 2)\n",
    "len(b_1)"
   ]
  },
  {
   "cell_type": "code",
   "execution_count": null,
   "id": "3f8000d1",
   "metadata": {},
   "outputs": [],
   "source": [
    "# reshaping\n",
    "B = b_1.reshape((4,4))\n",
    "B"
   ]
  },
  {
   "cell_type": "markdown",
   "id": "0718cb71",
   "metadata": {},
   "source": [
    "### N3"
   ]
  },
  {
   "cell_type": "markdown",
   "id": "cb420cfa",
   "metadata": {},
   "source": [
    "Crear un array de 4x3 con valores impares"
   ]
  },
  {
   "cell_type": "markdown",
   "id": "35523a35",
   "metadata": {},
   "source": [
    "__Solution__"
   ]
  },
  {
   "cell_type": "code",
   "execution_count": null,
   "id": "54d0dbc1",
   "metadata": {},
   "outputs": [],
   "source": [
    "# creating an arrange of odd values \n",
    "c_1 = np.arange(start = 3, stop = 27, step = 2)\n",
    "len(c_1)"
   ]
  },
  {
   "cell_type": "code",
   "execution_count": null,
   "id": "881b3e4c",
   "metadata": {},
   "outputs": [],
   "source": [
    "C = c_1.reshape((4,3))\n",
    "C"
   ]
  },
  {
   "cell_type": "markdown",
   "id": "dbe1e305",
   "metadata": {},
   "source": [
    "### N4"
   ]
  },
  {
   "cell_type": "markdown",
   "id": "e9ecece5",
   "metadata": {},
   "source": [
    "Crear un array que contenga 32 elementos y luego darle 4 posibles formas que puede tomar el array creado inicialmente"
   ]
  },
  {
   "cell_type": "markdown",
   "id": "29518d49",
   "metadata": {},
   "source": [
    "__Solution__"
   ]
  },
  {
   "cell_type": "markdown",
   "id": "7110f36f",
   "metadata": {},
   "source": [
    "I will create an array of random numbers using <code>random</code> and <code>seed</code>."
   ]
  },
  {
   "cell_type": "code",
   "execution_count": null,
   "id": "76f2de30",
   "metadata": {},
   "outputs": [],
   "source": [
    "# generate random integer values\n",
    "from random import seed\n",
    "from random import randint\n",
    "# seed random number generator\n",
    "seed(2)\n",
    "lista=[]\n",
    "# generate some integers and add them to an array\n",
    "for _ in range(32):\n",
    "    value = randint(0, 100)\n",
    "    lista.append(value)\n",
    "    #print(value)\n",
    "    #print(lista)\n",
    "    arr = np.array(lista)\n",
    "print(len(arr))\n",
    "arr # has 32 values "
   ]
  },
  {
   "cell_type": "markdown",
   "id": "12d72a72",
   "metadata": {},
   "source": [
    "Once the array is created, we can reshape it in 4 different ways. "
   ]
  },
  {
   "cell_type": "code",
   "execution_count": null,
   "id": "5faa3488",
   "metadata": {},
   "outputs": [],
   "source": [
    "arr_1 = arr.reshape((2,16))\n",
    "arr_1"
   ]
  },
  {
   "cell_type": "code",
   "execution_count": null,
   "id": "ff0ba049",
   "metadata": {},
   "outputs": [],
   "source": [
    "arr_2 = arr.reshape((4,8))\n",
    "arr_2"
   ]
  },
  {
   "cell_type": "code",
   "execution_count": null,
   "id": "51f21d9c",
   "metadata": {},
   "outputs": [],
   "source": [
    "arr_3 = arr.reshape((8,4))\n",
    "arr_3"
   ]
  },
  {
   "cell_type": "code",
   "execution_count": null,
   "id": "dafea8bf",
   "metadata": {},
   "outputs": [],
   "source": [
    "arr_4 = arr.reshape((32,1))\n",
    "arr_4"
   ]
  },
  {
   "cell_type": "markdown",
   "id": "1de56616",
   "metadata": {},
   "source": [
    "### N5"
   ]
  },
  {
   "cell_type": "code",
   "execution_count": null,
   "id": "f3e98b61",
   "metadata": {},
   "outputs": [],
   "source": [
    "tarea = np.array([[2,2,2,2,2],[2,0,0,0,2],[2,0,16,0,2],[2,0,0,0,2],[2,2,2,2,2]])\n",
    "tarea"
   ]
  },
  {
   "cell_type": "markdown",
   "id": "f73735a3",
   "metadata": {},
   "source": [
    "__Solution__"
   ]
  },
  {
   "cell_type": "markdown",
   "id": "6c1c9fd9",
   "metadata": {},
   "source": [
    "I will create an array full of 2, and then replace some values (zeros and sixteen)."
   ]
  },
  {
   "cell_type": "code",
   "execution_count": null,
   "id": "69fe735e",
   "metadata": {
    "scrolled": false
   },
   "outputs": [],
   "source": [
    "tarea = np.full((5,5),2)\n",
    "tarea[1:4,1:4] = 0\n",
    "tarea[2,2] = 16\n",
    "tarea"
   ]
  },
  {
   "cell_type": "markdown",
   "id": "097e9387",
   "metadata": {},
   "source": [
    "### ---------------------------------------------------------------------------------------------------------------------------"
   ]
  },
  {
   "cell_type": "markdown",
   "id": "38edfc61",
   "metadata": {},
   "source": [
    "## Patrick Melo ; tarea 3 "
   ]
  },
  {
   "cell_type": "code",
   "execution_count": null,
   "id": "f635e474",
   "metadata": {},
   "outputs": [],
   "source": [
    "### 1.-  import numpy as np\n",
    "\n",
    "import numpy as np\n",
    "\n",
    "#task 1\n",
    "\n",
    "A1 = np.array([[6,0,0,0],[6,6,0,0], [6,6,6,0],[6,6,6,6]])\n",
    "A1"
   ]
  },
  {
   "cell_type": "markdown",
   "id": "92b054ff",
   "metadata": {},
   "source": [
    "### Solution 1    \n"
   ]
  },
  {
   "cell_type": "code",
   "execution_count": null,
   "id": "226861f1",
   "metadata": {},
   "outputs": [],
   "source": [
    "#lo ordeno y planteo \n",
    "a1 = np.array([6,0,0,0])\n",
    "b1 = np.array([6,6,0,0])\n",
    "c1 = np.array([6,6,6,0])\n",
    "d1 = np.array([6,6,6,6])\n",
    "print(a1, b1, c1, d1)"
   ]
  },
  {
   "cell_type": "code",
   "execution_count": null,
   "id": "94692073",
   "metadata": {
    "scrolled": true
   },
   "outputs": [],
   "source": [
    "#simplificado 1 \n",
    "np.vstack((a1,b1,c1,d1))"
   ]
  },
  {
   "cell_type": "code",
   "execution_count": null,
   "id": "5e50b80b",
   "metadata": {},
   "outputs": [],
   "source": [
    "#simplificado 2\n",
    "simpli2 = np.concatenate((a1,b1,c1,d1), axis = 0)\n",
    "simpli2.reshape((4,4))"
   ]
  },
  {
   "cell_type": "markdown",
   "id": "38f41d89",
   "metadata": {},
   "source": [
    "### Solution 02\n",
    "### Crear un array de 4x4 con valores pares"
   ]
  },
  {
   "cell_type": "code",
   "execution_count": null,
   "id": "cf10a9f7",
   "metadata": {},
   "outputs": [],
   "source": [
    "array4x4 = np.arange(4 ,36,2)\n",
    "len(array4x4)\n",
    "array4x4.reshape((4,4))\n"
   ]
  },
  {
   "cell_type": "code",
   "execution_count": null,
   "id": "b1632d6f",
   "metadata": {},
   "outputs": [],
   "source": [
    "print(array4x4.reshape((4,4)))"
   ]
  },
  {
   "cell_type": "markdown",
   "id": "52a0795e",
   "metadata": {},
   "source": [
    "#### Solution 03\n",
    "#### Crear un array de 4x3 con valores impares\n"
   ]
  },
  {
   "cell_type": "code",
   "execution_count": null,
   "id": "59e25494",
   "metadata": {},
   "outputs": [],
   "source": [
    "# realizo los datos correspondientes y confirmo la cantidad de número \n",
    "array4x3= np.arange(start = 7, stop = 31, step = 2)\n",
    "len(array4x3)"
   ]
  },
  {
   "cell_type": "code",
   "execution_count": null,
   "id": "4ae6bdcc",
   "metadata": {},
   "outputs": [],
   "source": [
    "print(array4x3.reshape((4,3)))\n"
   ]
  },
  {
   "cell_type": "markdown",
   "id": "e9445163",
   "metadata": {},
   "source": [
    "### Solution 04\n",
    "### Crear un array que contenga 32 elementos y luego darle 4 posibles formas que puede tomar el array creado inicialmente"
   ]
  },
  {
   "cell_type": "code",
   "execution_count": null,
   "id": "f719af68",
   "metadata": {},
   "outputs": [],
   "source": [
    "Elements = np.arange(32)\n",
    "forma1 = Elements.reshape((8,4))\n",
    "forma2= Elements.reshape((16,2))\n",
    "forma3 = Elements.reshape((32,1))\n",
    "forma4 = Elements.reshape((2,16))"
   ]
  },
  {
   "cell_type": "code",
   "execution_count": null,
   "id": "1cb82684",
   "metadata": {},
   "outputs": [],
   "source": [
    "#Posible forma 1 \n",
    "print(forma1)"
   ]
  },
  {
   "cell_type": "code",
   "execution_count": null,
   "id": "23c54432",
   "metadata": {},
   "outputs": [],
   "source": [
    "#Posible forma 2\n",
    "print(forma2)"
   ]
  },
  {
   "cell_type": "code",
   "execution_count": null,
   "id": "8419924f",
   "metadata": {},
   "outputs": [],
   "source": [
    "#Posible forma 3\n",
    "print(forma3)"
   ]
  },
  {
   "cell_type": "code",
   "execution_count": null,
   "id": "06815f12",
   "metadata": {},
   "outputs": [],
   "source": [
    "#Posible forma 4\n",
    "print(forma4)"
   ]
  },
  {
   "cell_type": "markdown",
   "id": "e9981f48",
   "metadata": {},
   "source": [
    "### Solution 05\n"
   ]
  },
  {
   "cell_type": "code",
   "execution_count": null,
   "id": "f23b82ef",
   "metadata": {},
   "outputs": [],
   "source": [
    "tarea = np.array([[2,2,2,2,2],[2,0,0,0,2],[2,0,16,0,2],[2,0,0,0,2],[2,2,2,2,2]])\n",
    "tarea"
   ]
  },
  {
   "cell_type": "code",
   "execution_count": null,
   "id": "8d6c2bd0",
   "metadata": {},
   "outputs": [],
   "source": [
    "stak = np.full((5,5),2)\n",
    "stak"
   ]
  },
  {
   "cell_type": "code",
   "execution_count": null,
   "id": "5c2297e9",
   "metadata": {},
   "outputs": [],
   "source": [
    "task[1:4,1:4] = 0\n",
    "task"
   ]
  },
  {
   "cell_type": "code",
   "execution_count": null,
   "id": "68dfa117",
   "metadata": {},
   "outputs": [],
   "source": [
    "task[2,2] = 16\n",
    "task"
   ]
  },
  {
   "cell_type": "code",
   "execution_count": null,
   "id": "63ead611",
   "metadata": {},
   "outputs": [],
   "source": []
  },
  {
   "cell_type": "code",
   "execution_count": null,
   "id": "8f9821ec",
   "metadata": {},
   "outputs": [],
   "source": []
  }
 ],
 "metadata": {
  "kernelspec": {
   "display_name": "Python 3",
   "language": "python",
   "name": "python3"
  },
  "language_info": {
   "codemirror_mode": {
    "name": "ipython",
    "version": 3
   },
   "file_extension": ".py",
   "mimetype": "text/x-python",
   "name": "python",
   "nbconvert_exporter": "python",
   "pygments_lexer": "ipython3",
   "version": "3.8.8"
  }
 },
 "nbformat": 4,
 "nbformat_minor": 5
}
