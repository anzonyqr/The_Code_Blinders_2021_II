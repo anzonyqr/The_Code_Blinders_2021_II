{
 "cells": [
  {
   "cell_type": "markdown",
   "id": "cbc35f13",
   "metadata": {},
   "source": [
    "# Tarea 3\n",
    "### Alvaro Palma"
   ]
  },
  {
   "cell_type": "code",
   "execution_count": 1,
   "id": "dddf1fa0",
   "metadata": {},
   "outputs": [],
   "source": [
    "import numpy as np"
   ]
  },
  {
   "cell_type": "code",
   "execution_count": 2,
   "id": "d376e83d",
   "metadata": {},
   "outputs": [
    {
     "name": "stdout",
     "output_type": "stream",
     "text": [
      "[6 0 0 0] [6 6 0 0] [6 6 6 0] [6 6 6 6]\n"
     ]
    }
   ],
   "source": [
    "#Pregunta 1\n",
    "a = np.array([6,0,0,0])\n",
    "b = np.array([6,6,0,0])\n",
    "c = np.array([6,6,6,0])\n",
    "d = np.array([6,6,6,6])\n",
    "print(a, b, c, d)"
   ]
  },
  {
   "cell_type": "code",
   "execution_count": 3,
   "id": "04f16291",
   "metadata": {},
   "outputs": [
    {
     "data": {
      "text/plain": [
       "array([6, 0, 0, 0, 6, 6, 0, 0, 6, 6, 6, 0, 6, 6, 6, 6])"
      ]
     },
     "execution_count": 3,
     "metadata": {},
     "output_type": "execute_result"
    }
   ],
   "source": [
    "Z = np.concatenate((a,b,c,d), axis = 0)\n",
    "Z"
   ]
  },
  {
   "cell_type": "code",
   "execution_count": 4,
   "id": "65536054",
   "metadata": {},
   "outputs": [
    {
     "data": {
      "text/plain": [
       "array([[6, 0, 0, 0],\n",
       "       [6, 6, 0, 0],\n",
       "       [6, 6, 6, 0],\n",
       "       [6, 6, 6, 6]])"
      ]
     },
     "execution_count": 4,
     "metadata": {},
     "output_type": "execute_result"
    }
   ],
   "source": [
    "Z.reshape((4,4))"
   ]
  },
  {
   "cell_type": "code",
   "execution_count": 5,
   "id": "f6093c62",
   "metadata": {},
   "outputs": [
    {
     "data": {
      "text/plain": [
       "array([[6, 0, 0, 0],\n",
       "       [6, 6, 0, 0],\n",
       "       [6, 6, 6, 0],\n",
       "       [6, 6, 6, 6]])"
      ]
     },
     "execution_count": 5,
     "metadata": {},
     "output_type": "execute_result"
    }
   ],
   "source": [
    "#Otra manera\n",
    "np.vstack((a,b,c,d))"
   ]
  },
  {
   "cell_type": "code",
   "execution_count": 6,
   "id": "46239c6a",
   "metadata": {},
   "outputs": [
    {
     "data": {
      "text/plain": [
       "array([ 2,  4,  6,  8, 10, 12, 14, 16, 18, 20, 22, 24, 26, 28, 30, 32])"
      ]
     },
     "execution_count": 6,
     "metadata": {},
     "output_type": "execute_result"
    }
   ],
   "source": [
    "#Pregunta 2\n",
    "a1 = np.arange(start = 2, stop = 33, step = 2)\n",
    "a1"
   ]
  },
  {
   "cell_type": "code",
   "execution_count": 7,
   "id": "d73e45a4",
   "metadata": {},
   "outputs": [
    {
     "data": {
      "text/plain": [
       "array([[ 2,  4,  6,  8],\n",
       "       [10, 12, 14, 16],\n",
       "       [18, 20, 22, 24],\n",
       "       [26, 28, 30, 32]])"
      ]
     },
     "execution_count": 7,
     "metadata": {},
     "output_type": "execute_result"
    }
   ],
   "source": [
    "a1.reshape((4,4))"
   ]
  },
  {
   "cell_type": "code",
   "execution_count": 8,
   "id": "d5e2830f",
   "metadata": {},
   "outputs": [
    {
     "data": {
      "text/plain": [
       "array([ 1,  3,  5,  7,  9, 11, 13, 15, 17, 19, 21, 23])"
      ]
     },
     "execution_count": 8,
     "metadata": {},
     "output_type": "execute_result"
    }
   ],
   "source": [
    "#Pregunta 3\n",
    "a2 = np.arange(start=1, stop = 24, step=2)\n",
    "a2"
   ]
  },
  {
   "cell_type": "code",
   "execution_count": 9,
   "id": "beebf8bf",
   "metadata": {},
   "outputs": [
    {
     "data": {
      "text/plain": [
       "array([[ 1,  3,  5],\n",
       "       [ 7,  9, 11],\n",
       "       [13, 15, 17],\n",
       "       [19, 21, 23]])"
      ]
     },
     "execution_count": 9,
     "metadata": {},
     "output_type": "execute_result"
    }
   ],
   "source": [
    "a2.reshape((4,3))"
   ]
  },
  {
   "cell_type": "code",
   "execution_count": 10,
   "id": "bdf2dba8",
   "metadata": {},
   "outputs": [
    {
     "data": {
      "text/plain": [
       "array([ 0,  1,  2,  3,  4,  5,  6,  7,  8,  9, 10, 11, 12, 13, 14, 15, 16,\n",
       "       17, 18, 19, 20, 21, 22, 23, 24, 25, 26, 27, 28, 29, 30, 31])"
      ]
     },
     "execution_count": 10,
     "metadata": {},
     "output_type": "execute_result"
    }
   ],
   "source": [
    "#Pregunta 4\n",
    "a3 = np.arange(32)\n",
    "a3"
   ]
  },
  {
   "cell_type": "code",
   "execution_count": 11,
   "id": "059af942",
   "metadata": {},
   "outputs": [
    {
     "data": {
      "text/plain": [
       "array([[ 0,  1,  2,  3],\n",
       "       [ 4,  5,  6,  7],\n",
       "       [ 8,  9, 10, 11],\n",
       "       [12, 13, 14, 15],\n",
       "       [16, 17, 18, 19],\n",
       "       [20, 21, 22, 23],\n",
       "       [24, 25, 26, 27],\n",
       "       [28, 29, 30, 31]])"
      ]
     },
     "execution_count": 11,
     "metadata": {},
     "output_type": "execute_result"
    }
   ],
   "source": [
    "#forma1\n",
    "a3.reshape((8,4))"
   ]
  },
  {
   "cell_type": "code",
   "execution_count": 12,
   "id": "b53f7736",
   "metadata": {},
   "outputs": [
    {
     "data": {
      "text/plain": [
       "array([[ 0,  1],\n",
       "       [ 2,  3],\n",
       "       [ 4,  5],\n",
       "       [ 6,  7],\n",
       "       [ 8,  9],\n",
       "       [10, 11],\n",
       "       [12, 13],\n",
       "       [14, 15],\n",
       "       [16, 17],\n",
       "       [18, 19],\n",
       "       [20, 21],\n",
       "       [22, 23],\n",
       "       [24, 25],\n",
       "       [26, 27],\n",
       "       [28, 29],\n",
       "       [30, 31]])"
      ]
     },
     "execution_count": 12,
     "metadata": {},
     "output_type": "execute_result"
    }
   ],
   "source": [
    "#forma2\n",
    "a3.reshape((16,2))"
   ]
  },
  {
   "cell_type": "code",
   "execution_count": 13,
   "id": "c2431e73",
   "metadata": {},
   "outputs": [
    {
     "data": {
      "text/plain": [
       "array([[ 0,  1,  2,  3,  4,  5,  6,  7,  8,  9, 10, 11, 12, 13, 14, 15,\n",
       "        16, 17, 18, 19, 20, 21, 22, 23, 24, 25, 26, 27, 28, 29, 30, 31]])"
      ]
     },
     "execution_count": 13,
     "metadata": {},
     "output_type": "execute_result"
    }
   ],
   "source": [
    "#forma3\n",
    "a3.reshape((1,32))"
   ]
  },
  {
   "cell_type": "code",
   "execution_count": 14,
   "id": "fb0bd6c9",
   "metadata": {},
   "outputs": [
    {
     "data": {
      "text/plain": [
       "array([[ 0,  1,  2,  3,  4,  5,  6,  7,  8,  9, 10, 11, 12, 13, 14, 15],\n",
       "       [16, 17, 18, 19, 20, 21, 22, 23, 24, 25, 26, 27, 28, 29, 30, 31]])"
      ]
     },
     "execution_count": 14,
     "metadata": {},
     "output_type": "execute_result"
    }
   ],
   "source": [
    "#forma4\n",
    "a3.reshape((2,16))"
   ]
  },
  {
   "cell_type": "code",
   "execution_count": 15,
   "id": "0b00ea0d",
   "metadata": {},
   "outputs": [
    {
     "data": {
      "text/plain": [
       "array([[1, 0, 0, 0, 0],\n",
       "       [0, 1, 0, 0, 0],\n",
       "       [0, 0, 1, 0, 0],\n",
       "       [0, 0, 0, 1, 0],\n",
       "       [0, 0, 0, 0, 1]])"
      ]
     },
     "execution_count": 15,
     "metadata": {},
     "output_type": "execute_result"
    }
   ],
   "source": [
    "#Pregunta 5\n",
    "a4 = np.eye(5, dtype=int)\n",
    "a4"
   ]
  },
  {
   "cell_type": "code",
   "execution_count": 16,
   "id": "2464295e",
   "metadata": {},
   "outputs": [
    {
     "data": {
      "text/plain": [
       "array([[2, 2, 2, 2, 2],\n",
       "       [2, 2, 2, 2, 2],\n",
       "       [2, 2, 2, 2, 2],\n",
       "       [2, 2, 2, 2, 2],\n",
       "       [2, 2, 2, 2, 2]])"
      ]
     },
     "execution_count": 16,
     "metadata": {},
     "output_type": "execute_result"
    }
   ],
   "source": [
    "a5 = np.full_like(a4,2)\n",
    "a5"
   ]
  },
  {
   "cell_type": "code",
   "execution_count": 17,
   "id": "42462380",
   "metadata": {},
   "outputs": [
    {
     "data": {
      "text/plain": [
       "array([[ 2,  2,  2,  2,  2],\n",
       "       [ 2,  0,  0,  0,  2],\n",
       "       [ 2,  0, 16,  0,  2],\n",
       "       [ 2,  0,  0,  0,  2],\n",
       "       [ 2,  2,  2,  2,  2]])"
      ]
     },
     "execution_count": 17,
     "metadata": {},
     "output_type": "execute_result"
    }
   ],
   "source": [
    "a5[(1,1)] = 0\n",
    "a5[(1,2)] = 0\n",
    "a5[(1,3)] = 0\n",
    "a5[(2,1)] = 0\n",
    "a5[(2,2)] = 16\n",
    "a5[(2,3)] = 0\n",
    "a5[(3,1)]= 0\n",
    "a5[(3,2)]= 0\n",
    "a5[(3,3)]= 0\n",
    "a5"
   ]
  },
  {
   "cell_type": "code",
   "execution_count": null,
   "id": "8cccc06b",
   "metadata": {},
   "outputs": [],
   "source": []
  },
  {
   "cell_type": "markdown",
   "id": "31ebdeb8",
   "metadata": {},
   "source": [
    "### ------------------------------------------------------------------------------------------------------------------------"
   ]
  },
  {
   "cell_type": "markdown",
   "id": "7983f59d",
   "metadata": {},
   "source": [
    "### ARLETHE ARONES RONDON - TAREA 3"
   ]
  },
  {
   "cell_type": "markdown",
   "id": "f801a9aa",
   "metadata": {},
   "source": [
    "### N1\n"
   ]
  },
  {
   "cell_type": "code",
   "execution_count": 18,
   "id": "957d8285",
   "metadata": {},
   "outputs": [],
   "source": [
    "import numpy as np\n"
   ]
  },
  {
   "cell_type": "code",
   "execution_count": 19,
   "id": "9cca0a6a",
   "metadata": {},
   "outputs": [
    {
     "data": {
      "text/plain": [
       "array([[6, 0, 0, 0],\n",
       "       [6, 6, 0, 0],\n",
       "       [6, 6, 6, 0],\n",
       "       [6, 6, 6, 6]])"
      ]
     },
     "execution_count": 19,
     "metadata": {},
     "output_type": "execute_result"
    }
   ],
   "source": [
    "A = np.array([[6,0,0,0],[6,6,0,0], [6,6,6,0],[6,6,6,6]])\n",
    "A"
   ]
  },
  {
   "cell_type": "code",
   "execution_count": 20,
   "id": "18632bbb",
   "metadata": {},
   "outputs": [
    {
     "data": {
      "text/plain": [
       "array([[6, 0, 0, 0],\n",
       "       [6, 6, 0, 0],\n",
       "       [6, 6, 6, 0],\n",
       "       [6, 6, 6, 6]])"
      ]
     },
     "execution_count": 20,
     "metadata": {},
     "output_type": "execute_result"
    }
   ],
   "source": [
    "A2= np.tri(4,None,0,dtype= \"int\")\n",
    "A2*6"
   ]
  },
  {
   "cell_type": "markdown",
   "id": "4a01ceed",
   "metadata": {},
   "source": [
    "### N2"
   ]
  },
  {
   "cell_type": "markdown",
   "id": "49637f02",
   "metadata": {},
   "source": [
    "Crear un array de 4x4 con valores pares"
   ]
  },
  {
   "cell_type": "code",
   "execution_count": 21,
   "id": "256274db",
   "metadata": {},
   "outputs": [
    {
     "data": {
      "text/plain": [
       "array([[ 0,  2,  4,  6],\n",
       "       [ 8, 10, 12, 14],\n",
       "       [16, 18, 20, 22],\n",
       "       [24, 26, 28, 30]])"
      ]
     },
     "execution_count": 21,
     "metadata": {},
     "output_type": "execute_result"
    }
   ],
   "source": [
    "B = np.arange(0,31,2)\n",
    "B.reshape((4,4))"
   ]
  },
  {
   "cell_type": "markdown",
   "id": "a93c61a0",
   "metadata": {},
   "source": [
    "### N3"
   ]
  },
  {
   "cell_type": "markdown",
   "id": "25033a65",
   "metadata": {},
   "source": [
    "Crear un array de 4x3 con valores impares"
   ]
  },
  {
   "cell_type": "code",
   "execution_count": 22,
   "id": "bdec1225",
   "metadata": {},
   "outputs": [
    {
     "data": {
      "text/plain": [
       "array([[ 1,  3,  5],\n",
       "       [ 7,  9, 11],\n",
       "       [13, 15, 17],\n",
       "       [19, 21, 23]])"
      ]
     },
     "execution_count": 22,
     "metadata": {},
     "output_type": "execute_result"
    }
   ],
   "source": [
    "C = np.arange(1,24,2)\n",
    "C.reshape((4,3))"
   ]
  },
  {
   "cell_type": "markdown",
   "id": "af990d27",
   "metadata": {},
   "source": [
    "### N4"
   ]
  },
  {
   "cell_type": "markdown",
   "id": "985a6f1c",
   "metadata": {},
   "source": [
    "Crear un array que contenga 32 elementos y luego darle 4 posibles formas que puede tomar el array creado inicialmente"
   ]
  },
  {
   "cell_type": "code",
   "execution_count": 23,
   "id": "b09d2072",
   "metadata": {},
   "outputs": [],
   "source": [
    "D = np.arange(1,33,1)\n",
    "M = D.reshape((4,8))\n",
    "N = D.reshape((8,4))\n",
    "O = D.reshape((16,2))\n",
    "P = D.reshape((2,16))\n"
   ]
  },
  {
   "cell_type": "code",
   "execution_count": 24,
   "id": "7e00f4b3",
   "metadata": {},
   "outputs": [
    {
     "data": {
      "text/plain": [
       "array([[ 1,  2,  3,  4,  5,  6,  7,  8],\n",
       "       [ 9, 10, 11, 12, 13, 14, 15, 16],\n",
       "       [17, 18, 19, 20, 21, 22, 23, 24],\n",
       "       [25, 26, 27, 28, 29, 30, 31, 32]])"
      ]
     },
     "execution_count": 24,
     "metadata": {},
     "output_type": "execute_result"
    }
   ],
   "source": [
    "M"
   ]
  },
  {
   "cell_type": "code",
   "execution_count": 25,
   "id": "3e26b133",
   "metadata": {},
   "outputs": [
    {
     "data": {
      "text/plain": [
       "array([[ 1,  2,  3,  4],\n",
       "       [ 5,  6,  7,  8],\n",
       "       [ 9, 10, 11, 12],\n",
       "       [13, 14, 15, 16],\n",
       "       [17, 18, 19, 20],\n",
       "       [21, 22, 23, 24],\n",
       "       [25, 26, 27, 28],\n",
       "       [29, 30, 31, 32]])"
      ]
     },
     "execution_count": 25,
     "metadata": {},
     "output_type": "execute_result"
    }
   ],
   "source": [
    "N"
   ]
  },
  {
   "cell_type": "code",
   "execution_count": 26,
   "id": "4698567d",
   "metadata": {},
   "outputs": [
    {
     "data": {
      "text/plain": [
       "array([[ 1,  2],\n",
       "       [ 3,  4],\n",
       "       [ 5,  6],\n",
       "       [ 7,  8],\n",
       "       [ 9, 10],\n",
       "       [11, 12],\n",
       "       [13, 14],\n",
       "       [15, 16],\n",
       "       [17, 18],\n",
       "       [19, 20],\n",
       "       [21, 22],\n",
       "       [23, 24],\n",
       "       [25, 26],\n",
       "       [27, 28],\n",
       "       [29, 30],\n",
       "       [31, 32]])"
      ]
     },
     "execution_count": 26,
     "metadata": {},
     "output_type": "execute_result"
    }
   ],
   "source": [
    "O"
   ]
  },
  {
   "cell_type": "code",
   "execution_count": 27,
   "id": "60a1099e",
   "metadata": {},
   "outputs": [
    {
     "data": {
      "text/plain": [
       "array([[ 1,  2,  3,  4,  5,  6,  7,  8,  9, 10, 11, 12, 13, 14, 15, 16],\n",
       "       [17, 18, 19, 20, 21, 22, 23, 24, 25, 26, 27, 28, 29, 30, 31, 32]])"
      ]
     },
     "execution_count": 27,
     "metadata": {},
     "output_type": "execute_result"
    }
   ],
   "source": [
    "P"
   ]
  },
  {
   "cell_type": "markdown",
   "id": "ebb38105",
   "metadata": {},
   "source": [
    "### N5"
   ]
  },
  {
   "cell_type": "code",
   "execution_count": 28,
   "id": "5f0000a5",
   "metadata": {},
   "outputs": [
    {
     "data": {
      "text/plain": [
       "array([[ 2,  2,  2,  2,  2],\n",
       "       [ 2,  0,  0,  0,  2],\n",
       "       [ 2,  0, 16,  0,  2],\n",
       "       [ 2,  0,  0,  0,  2],\n",
       "       [ 2,  2,  2,  2,  2]])"
      ]
     },
     "execution_count": 28,
     "metadata": {},
     "output_type": "execute_result"
    }
   ],
   "source": [
    "tarea = np.array([[2,2,2,2,2],[2,0,0,0,2],[2,0,16,0,2],[2,0,0,0,2],[2,2,2,2,2]])\n",
    "tarea"
   ]
  },
  {
   "cell_type": "code",
   "execution_count": 29,
   "id": "cc0890db",
   "metadata": {},
   "outputs": [
    {
     "data": {
      "text/plain": [
       "array([[2, 2, 2, 2, 2],\n",
       "       [2, 2, 2, 2, 2],\n",
       "       [2, 2, 2, 2, 2],\n",
       "       [2, 2, 2, 2, 2],\n",
       "       [2, 2, 2, 2, 2]])"
      ]
     },
     "execution_count": 29,
     "metadata": {},
     "output_type": "execute_result"
    }
   ],
   "source": [
    "X= np.full((5,5),2)\n",
    "X"
   ]
  },
  {
   "cell_type": "code",
   "execution_count": 30,
   "id": "5682c025",
   "metadata": {},
   "outputs": [
    {
     "data": {
      "text/plain": [
       "array([[2, 2, 2, 2, 2],\n",
       "       [2, 0, 0, 0, 2],\n",
       "       [2, 0, 0, 0, 2],\n",
       "       [2, 0, 0, 0, 2],\n",
       "       [2, 2, 2, 2, 2]])"
      ]
     },
     "execution_count": 30,
     "metadata": {},
     "output_type": "execute_result"
    }
   ],
   "source": [
    "X[1:4,1:4]=0\n",
    "X"
   ]
  },
  {
   "cell_type": "code",
   "execution_count": 31,
   "id": "8fe98e2e",
   "metadata": {
    "scrolled": true
   },
   "outputs": [
    {
     "data": {
      "text/plain": [
       "array([[ 2,  2,  2,  2,  2],\n",
       "       [ 2,  0,  0,  0,  2],\n",
       "       [ 2,  0, 16,  0,  2],\n",
       "       [ 2,  0,  0,  0,  2],\n",
       "       [ 2,  2,  2,  2,  2]])"
      ]
     },
     "execution_count": 31,
     "metadata": {},
     "output_type": "execute_result"
    }
   ],
   "source": [
    "X[2,2]=16\n",
    "X"
   ]
  },
  {
   "cell_type": "markdown",
   "id": "c8354ab5",
   "metadata": {},
   "source": [
    "### ---------------------------------------------------------------------------------------------------------------------------"
   ]
  },
  {
   "cell_type": "markdown",
   "id": "6a0def76",
   "metadata": {},
   "source": [
    "# Tarea 3 - Elibeth Cirilo\n",
    "\n",
    "### N1"
   ]
  },
  {
   "cell_type": "code",
   "execution_count": 32,
   "id": "4abf451d",
   "metadata": {},
   "outputs": [
    {
     "data": {
      "text/plain": [
       "array([[6, 0, 0, 0],\n",
       "       [6, 6, 0, 0],\n",
       "       [6, 6, 6, 0],\n",
       "       [6, 6, 6, 6]])"
      ]
     },
     "execution_count": 32,
     "metadata": {},
     "output_type": "execute_result"
    }
   ],
   "source": [
    "import numpy as np\n",
    "\n",
    "A = np.array([[6,0,0,0],[6,6,0,0], [6,6,6,0],[6,6,6,6]])\n",
    "A"
   ]
  },
  {
   "cell_type": "markdown",
   "id": "d5f3d419",
   "metadata": {},
   "source": [
    "**Solution**\n",
    "\n",
    "One way is to create the matrix by hand."
   ]
  },
  {
   "cell_type": "code",
   "execution_count": 33,
   "id": "daaec249",
   "metadata": {},
   "outputs": [
    {
     "data": {
      "text/plain": [
       "array([[6, 0, 0, 0],\n",
       "       [6, 6, 0, 0],\n",
       "       [6, 6, 6, 0],\n",
       "       [6, 6, 6, 6]])"
      ]
     },
     "execution_count": 33,
     "metadata": {},
     "output_type": "execute_result"
    }
   ],
   "source": [
    "a_1 = np.array([6,0,0,0])\n",
    "a_2 = np.array([6,6,0,0])\n",
    "a_3 = np.array([6,6,6,0])\n",
    "a_4 = np.array([6,6,6,6])\n",
    "A = np.vstack((a_1, a_2, a_3, a_4))\n",
    "A"
   ]
  },
  {
   "cell_type": "markdown",
   "id": "9bf43b75",
   "metadata": {},
   "source": [
    "Another way is to create an lower-triangle matrix from an array of four 6."
   ]
  },
  {
   "cell_type": "code",
   "execution_count": 34,
   "id": "0dd1a132",
   "metadata": {},
   "outputs": [
    {
     "data": {
      "text/plain": [
       "array([[6, 0, 0, 0],\n",
       "       [6, 6, 0, 0],\n",
       "       [6, 6, 6, 0],\n",
       "       [6, 6, 6, 6]])"
      ]
     },
     "execution_count": 34,
     "metadata": {},
     "output_type": "execute_result"
    }
   ],
   "source": [
    "sixs = [6,6,6,6]\n",
    "A_1 = np.tril(sixs, k=0)\n",
    "A_1"
   ]
  },
  {
   "cell_type": "markdown",
   "id": "91318a68",
   "metadata": {},
   "source": [
    "### N2"
   ]
  },
  {
   "cell_type": "markdown",
   "id": "29cda4e5",
   "metadata": {},
   "source": [
    "Crear un array de 4x4 con valores pares"
   ]
  },
  {
   "cell_type": "markdown",
   "id": "231585ce",
   "metadata": {},
   "source": [
    "__Solution__"
   ]
  },
  {
   "cell_type": "code",
   "execution_count": 35,
   "id": "140fb37a",
   "metadata": {},
   "outputs": [
    {
     "data": {
      "text/plain": [
       "16"
      ]
     },
     "execution_count": 35,
     "metadata": {},
     "output_type": "execute_result"
    }
   ],
   "source": [
    "# creating an arrange of even values \n",
    "b_1 = np.arange(start = 6, stop = 37, step = 2)\n",
    "len(b_1)"
   ]
  },
  {
   "cell_type": "code",
   "execution_count": 36,
   "id": "3f8000d1",
   "metadata": {},
   "outputs": [
    {
     "data": {
      "text/plain": [
       "array([[ 6,  8, 10, 12],\n",
       "       [14, 16, 18, 20],\n",
       "       [22, 24, 26, 28],\n",
       "       [30, 32, 34, 36]])"
      ]
     },
     "execution_count": 36,
     "metadata": {},
     "output_type": "execute_result"
    }
   ],
   "source": [
    "# reshaping\n",
    "B = b_1.reshape((4,4))\n",
    "B"
   ]
  },
  {
   "cell_type": "markdown",
   "id": "0718cb71",
   "metadata": {},
   "source": [
    "### N3"
   ]
  },
  {
   "cell_type": "markdown",
   "id": "cb420cfa",
   "metadata": {},
   "source": [
    "Crear un array de 4x3 con valores impares"
   ]
  },
  {
   "cell_type": "markdown",
   "id": "35523a35",
   "metadata": {},
   "source": [
    "__Solution__"
   ]
  },
  {
   "cell_type": "code",
   "execution_count": 37,
   "id": "54d0dbc1",
   "metadata": {},
   "outputs": [
    {
     "data": {
      "text/plain": [
       "12"
      ]
     },
     "execution_count": 37,
     "metadata": {},
     "output_type": "execute_result"
    }
   ],
   "source": [
    "# creating an arrange of odd values \n",
    "c_1 = np.arange(start = 3, stop = 27, step = 2)\n",
    "len(c_1)"
   ]
  },
  {
   "cell_type": "code",
   "execution_count": 38,
   "id": "881b3e4c",
   "metadata": {},
   "outputs": [
    {
     "data": {
      "text/plain": [
       "array([[ 3,  5,  7],\n",
       "       [ 9, 11, 13],\n",
       "       [15, 17, 19],\n",
       "       [21, 23, 25]])"
      ]
     },
     "execution_count": 38,
     "metadata": {},
     "output_type": "execute_result"
    }
   ],
   "source": [
    "C = c_1.reshape((4,3))\n",
    "C"
   ]
  },
  {
   "cell_type": "markdown",
   "id": "dbe1e305",
   "metadata": {},
   "source": [
    "### N4"
   ]
  },
  {
   "cell_type": "markdown",
   "id": "e9ecece5",
   "metadata": {},
   "source": [
    "Crear un array que contenga 32 elementos y luego darle 4 posibles formas que puede tomar el array creado inicialmente"
   ]
  },
  {
   "cell_type": "markdown",
   "id": "29518d49",
   "metadata": {},
   "source": [
    "__Solution__"
   ]
  },
  {
   "cell_type": "markdown",
   "id": "7110f36f",
   "metadata": {},
   "source": [
    "I will create an array of random numbers using <code>random</code> and <code>seed</code>."
   ]
  },
  {
   "cell_type": "code",
   "execution_count": 39,
   "id": "76f2de30",
   "metadata": {},
   "outputs": [
    {
     "name": "stdout",
     "output_type": "stream",
     "text": [
      "32\n"
     ]
    },
    {
     "data": {
      "text/plain": [
       "array([ 7, 11, 10, 46, 21, 94, 85, 39, 32, 77, 27, 77,  4, 74, 87, 20, 55,\n",
       "       81, 50, 92, 65, 47, 69, 56, 64, 34,  4,  3, 46, 59, 40, 48])"
      ]
     },
     "execution_count": 39,
     "metadata": {},
     "output_type": "execute_result"
    }
   ],
   "source": [
    "# generate random integer values\n",
    "from random import seed\n",
    "from random import randint\n",
    "# seed random number generator\n",
    "seed(2)\n",
    "lista=[]\n",
    "# generate some integers and add them to an array\n",
    "for _ in range(32):\n",
    "    value = randint(0, 100)\n",
    "    lista.append(value)\n",
    "    #print(value)\n",
    "    #print(lista)\n",
    "    arr = np.array(lista)\n",
    "print(len(arr))\n",
    "arr # has 32 values "
   ]
  },
  {
   "cell_type": "markdown",
   "id": "12d72a72",
   "metadata": {},
   "source": [
    "Once the array is created, we can reshape it in 4 different ways. "
   ]
  },
  {
   "cell_type": "code",
   "execution_count": 40,
   "id": "5faa3488",
   "metadata": {},
   "outputs": [
    {
     "data": {
      "text/plain": [
       "array([[ 7, 11, 10, 46, 21, 94, 85, 39, 32, 77, 27, 77,  4, 74, 87, 20],\n",
       "       [55, 81, 50, 92, 65, 47, 69, 56, 64, 34,  4,  3, 46, 59, 40, 48]])"
      ]
     },
     "execution_count": 40,
     "metadata": {},
     "output_type": "execute_result"
    }
   ],
   "source": [
    "arr_1 = arr.reshape((2,16))\n",
    "arr_1"
   ]
  },
  {
   "cell_type": "code",
   "execution_count": 41,
   "id": "ff0ba049",
   "metadata": {},
   "outputs": [
    {
     "data": {
      "text/plain": [
       "array([[ 7, 11, 10, 46, 21, 94, 85, 39],\n",
       "       [32, 77, 27, 77,  4, 74, 87, 20],\n",
       "       [55, 81, 50, 92, 65, 47, 69, 56],\n",
       "       [64, 34,  4,  3, 46, 59, 40, 48]])"
      ]
     },
     "execution_count": 41,
     "metadata": {},
     "output_type": "execute_result"
    }
   ],
   "source": [
    "arr_2 = arr.reshape((4,8))\n",
    "arr_2"
   ]
  },
  {
   "cell_type": "code",
   "execution_count": 42,
   "id": "51f21d9c",
   "metadata": {},
   "outputs": [
    {
     "data": {
      "text/plain": [
       "array([[ 7, 11, 10, 46],\n",
       "       [21, 94, 85, 39],\n",
       "       [32, 77, 27, 77],\n",
       "       [ 4, 74, 87, 20],\n",
       "       [55, 81, 50, 92],\n",
       "       [65, 47, 69, 56],\n",
       "       [64, 34,  4,  3],\n",
       "       [46, 59, 40, 48]])"
      ]
     },
     "execution_count": 42,
     "metadata": {},
     "output_type": "execute_result"
    }
   ],
   "source": [
    "arr_3 = arr.reshape((8,4))\n",
    "arr_3"
   ]
  },
  {
   "cell_type": "code",
   "execution_count": 43,
   "id": "dafea8bf",
   "metadata": {},
   "outputs": [
    {
     "data": {
      "text/plain": [
       "array([[ 7],\n",
       "       [11],\n",
       "       [10],\n",
       "       [46],\n",
       "       [21],\n",
       "       [94],\n",
       "       [85],\n",
       "       [39],\n",
       "       [32],\n",
       "       [77],\n",
       "       [27],\n",
       "       [77],\n",
       "       [ 4],\n",
       "       [74],\n",
       "       [87],\n",
       "       [20],\n",
       "       [55],\n",
       "       [81],\n",
       "       [50],\n",
       "       [92],\n",
       "       [65],\n",
       "       [47],\n",
       "       [69],\n",
       "       [56],\n",
       "       [64],\n",
       "       [34],\n",
       "       [ 4],\n",
       "       [ 3],\n",
       "       [46],\n",
       "       [59],\n",
       "       [40],\n",
       "       [48]])"
      ]
     },
     "execution_count": 43,
     "metadata": {},
     "output_type": "execute_result"
    }
   ],
   "source": [
    "arr_4 = arr.reshape((32,1))\n",
    "arr_4"
   ]
  },
  {
   "cell_type": "markdown",
   "id": "1de56616",
   "metadata": {},
   "source": [
    "### N5"
   ]
  },
  {
   "cell_type": "code",
   "execution_count": 44,
   "id": "f3e98b61",
   "metadata": {},
   "outputs": [
    {
     "data": {
      "text/plain": [
       "array([[ 2,  2,  2,  2,  2],\n",
       "       [ 2,  0,  0,  0,  2],\n",
       "       [ 2,  0, 16,  0,  2],\n",
       "       [ 2,  0,  0,  0,  2],\n",
       "       [ 2,  2,  2,  2,  2]])"
      ]
     },
     "execution_count": 44,
     "metadata": {},
     "output_type": "execute_result"
    }
   ],
   "source": [
    "tarea = np.array([[2,2,2,2,2],[2,0,0,0,2],[2,0,16,0,2],[2,0,0,0,2],[2,2,2,2,2]])\n",
    "tarea"
   ]
  },
  {
   "cell_type": "markdown",
   "id": "f73735a3",
   "metadata": {},
   "source": [
    "__Solution__"
   ]
  },
  {
   "cell_type": "markdown",
   "id": "6c1c9fd9",
   "metadata": {},
   "source": [
    "I will create an array full of 2, and then replace some values (zeros and sixteen)."
   ]
  },
  {
   "cell_type": "code",
   "execution_count": 45,
   "id": "69fe735e",
   "metadata": {
    "scrolled": false
   },
   "outputs": [
    {
     "data": {
      "text/plain": [
       "array([[ 2,  2,  2,  2,  2],\n",
       "       [ 2,  0,  0,  0,  2],\n",
       "       [ 2,  0, 16,  0,  2],\n",
       "       [ 2,  0,  0,  0,  2],\n",
       "       [ 2,  2,  2,  2,  2]])"
      ]
     },
     "execution_count": 45,
     "metadata": {},
     "output_type": "execute_result"
    }
   ],
   "source": [
    "tarea = np.full((5,5),2)\n",
    "tarea[1:4,1:4] = 0\n",
    "tarea[2,2] = 16\n",
    "tarea"
   ]
  },
  {
   "cell_type": "markdown",
   "id": "097e9387",
   "metadata": {},
   "source": [
    "### ---------------------------------------------------------------------------------------------------------------------------"
   ]
  },
  {
   "cell_type": "code",
   "execution_count": null,
   "id": "9d375d85",
   "metadata": {},
   "outputs": [],
   "source": []
  }
 ],
 "metadata": {
  "kernelspec": {
   "display_name": "Python 3",
   "language": "python",
   "name": "python3"
  },
  "language_info": {
   "codemirror_mode": {
    "name": "ipython",
    "version": 3
   },
   "file_extension": ".py",
   "mimetype": "text/x-python",
   "name": "python",
   "nbconvert_exporter": "python",
   "pygments_lexer": "ipython3",
   "version": "3.8.8"
  }
 },
 "nbformat": 4,
 "nbformat_minor": 5
}
