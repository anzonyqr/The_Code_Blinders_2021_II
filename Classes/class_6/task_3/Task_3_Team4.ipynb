{
 "cells": [
  {
   "cell_type": "code",
   "execution_count": 3,
   "id": "3514312f",
   "metadata": {},
   "outputs": [],
   "source": [
    "import numpy as np"
   ]
  },
  {
   "cell_type": "code",
   "execution_count": 4,
   "id": "ed9b50b3",
   "metadata": {},
   "outputs": [
    {
     "data": {
      "text/plain": [
       "array([[6, 0, 0, 0],\n",
       "       [6, 6, 0, 0],\n",
       "       [6, 6, 6, 0],\n",
       "       [6, 6, 6, 6]])"
      ]
     },
     "execution_count": 4,
     "metadata": {},
     "output_type": "execute_result"
    }
   ],
   "source": [
    "A = np.array([[6,0,0,0],[6,6,0,0], [6,6,6,0],[6,6,6,6]])\n",
    "A"
   ]
  },
  {
   "cell_type": "code",
   "execution_count": 5,
   "id": "235432e2",
   "metadata": {},
   "outputs": [
    {
     "name": "stdout",
     "output_type": "stream",
     "text": [
      "[6 0 0 0] [6 6 0 0] [6 6 6 0] [6 6 6 6]\n"
     ]
    }
   ],
   "source": [
    "#Pregunta 1\n",
    "a = np.array([6,0,0,0])\n",
    "b = np.array([6,6,0,0])\n",
    "c = np.array([6,6,6,0])\n",
    "d = np.array([6,6,6,6])\n",
    "print(a, b, c, d)"
   ]
  },
  {
   "cell_type": "code",
   "execution_count": 6,
   "id": "a2facfdf",
   "metadata": {},
   "outputs": [
    {
     "data": {
      "text/plain": [
       "array([6, 0, 0, 0, 6, 6, 0, 0, 6, 6, 6, 0, 6, 6, 6, 6])"
      ]
     },
     "execution_count": 6,
     "metadata": {},
     "output_type": "execute_result"
    }
   ],
   "source": [
    "A = np.concatenate((a,b,c,d), axis = 0)\n",
    "A"
   ]
  },
  {
   "cell_type": "code",
   "execution_count": 7,
   "id": "5653982c",
   "metadata": {},
   "outputs": [
    {
     "data": {
      "text/plain": [
       "array([[6, 0, 0, 0],\n",
       "       [6, 6, 0, 0],\n",
       "       [6, 6, 6, 0],\n",
       "       [6, 6, 6, 6]])"
      ]
     },
     "execution_count": 7,
     "metadata": {},
     "output_type": "execute_result"
    }
   ],
   "source": [
    "A.reshape((4,4))"
   ]
  },
  {
   "cell_type": "code",
   "execution_count": 8,
   "id": "ae2974e8",
   "metadata": {},
   "outputs": [
    {
     "data": {
      "text/plain": [
       "array([[ 2,  4,  6,  8],\n",
       "       [10, 12, 14, 16],\n",
       "       [18, 20, 22, 24],\n",
       "       [26, 28, 30, 32]])"
      ]
     },
     "execution_count": 8,
     "metadata": {},
     "output_type": "execute_result"
    }
   ],
   "source": [
    "#Pregunta 2\n",
    "a1 = np.arange(start=2, stop=33, step=2)\n",
    "a1\n",
    "a1.reshape(4,4)"
   ]
  },
  {
   "cell_type": "code",
   "execution_count": 9,
   "id": "07c4460d",
   "metadata": {},
   "outputs": [
    {
     "data": {
      "text/plain": [
       "array([[ 1,  3,  5],\n",
       "       [ 7,  9, 11],\n",
       "       [13, 15, 17],\n",
       "       [19, 21, 23]])"
      ]
     },
     "execution_count": 9,
     "metadata": {},
     "output_type": "execute_result"
    }
   ],
   "source": [
    "#Pregunta 3\n",
    "a2 = np.arange(start=1, stop=24, step=2)\n",
    "a2\n",
    "a2.reshape(4,3)"
   ]
  },
  {
   "cell_type": "code",
   "execution_count": 10,
   "id": "4e6e7cd1",
   "metadata": {},
   "outputs": [
    {
     "data": {
      "text/plain": [
       "array([ 0,  1,  2,  3,  4,  5,  6,  7,  8,  9, 10, 11, 12, 13, 14, 15, 16,\n",
       "       17, 18, 19, 20, 21, 22, 23, 24, 25, 26, 27, 28, 29, 30, 31])"
      ]
     },
     "execution_count": 10,
     "metadata": {},
     "output_type": "execute_result"
    }
   ],
   "source": [
    "#Pregunta 4\n",
    "a3 = np.arange(32)\n",
    "a3"
   ]
  },
  {
   "cell_type": "code",
   "execution_count": 11,
   "id": "b43171aa",
   "metadata": {},
   "outputs": [
    {
     "data": {
      "text/plain": [
       "array([[ 0,  1,  2,  3,  4,  5,  6,  7],\n",
       "       [ 8,  9, 10, 11, 12, 13, 14, 15],\n",
       "       [16, 17, 18, 19, 20, 21, 22, 23],\n",
       "       [24, 25, 26, 27, 28, 29, 30, 31]])"
      ]
     },
     "execution_count": 11,
     "metadata": {},
     "output_type": "execute_result"
    }
   ],
   "source": [
    "#Pregunta 4.1\n",
    "a3.reshape(4,8)"
   ]
  },
  {
   "cell_type": "code",
   "execution_count": 12,
   "id": "a74080b6",
   "metadata": {},
   "outputs": [
    {
     "data": {
      "text/plain": [
       "array([[ 0,  1],\n",
       "       [ 2,  3],\n",
       "       [ 4,  5],\n",
       "       [ 6,  7],\n",
       "       [ 8,  9],\n",
       "       [10, 11],\n",
       "       [12, 13],\n",
       "       [14, 15],\n",
       "       [16, 17],\n",
       "       [18, 19],\n",
       "       [20, 21],\n",
       "       [22, 23],\n",
       "       [24, 25],\n",
       "       [26, 27],\n",
       "       [28, 29],\n",
       "       [30, 31]])"
      ]
     },
     "execution_count": 12,
     "metadata": {},
     "output_type": "execute_result"
    }
   ],
   "source": [
    "#Pregunta 4.2\n",
    "a3.reshape(16,2)"
   ]
  },
  {
   "cell_type": "code",
   "execution_count": 13,
   "id": "c6177439",
   "metadata": {},
   "outputs": [
    {
     "data": {
      "text/plain": [
       "array([[ 0,  1,  2,  3],\n",
       "       [ 4,  5,  6,  7],\n",
       "       [ 8,  9, 10, 11],\n",
       "       [12, 13, 14, 15],\n",
       "       [16, 17, 18, 19],\n",
       "       [20, 21, 22, 23],\n",
       "       [24, 25, 26, 27],\n",
       "       [28, 29, 30, 31]])"
      ]
     },
     "execution_count": 13,
     "metadata": {},
     "output_type": "execute_result"
    }
   ],
   "source": [
    "#Pregunta 4.3\n",
    "a3.reshape(8,4)"
   ]
  },
  {
   "cell_type": "code",
   "execution_count": 14,
   "id": "e512815c",
   "metadata": {},
   "outputs": [
    {
     "data": {
      "text/plain": [
       "array([[ 0,  1,  2,  3,  4,  5,  6,  7,  8,  9, 10, 11, 12, 13, 14, 15],\n",
       "       [16, 17, 18, 19, 20, 21, 22, 23, 24, 25, 26, 27, 28, 29, 30, 31]])"
      ]
     },
     "execution_count": 14,
     "metadata": {},
     "output_type": "execute_result"
    }
   ],
   "source": [
    "#Pregunta 4.4\n",
    "a3.reshape(2,16)"
   ]
  },
  {
   "cell_type": "code",
   "execution_count": 15,
   "id": "8a21fbe6",
   "metadata": {},
   "outputs": [
    {
     "data": {
      "text/plain": [
       "array([[ 2,  2,  2,  2,  2],\n",
       "       [ 2,  0,  0,  0,  2],\n",
       "       [ 2,  0, 16,  0,  2],\n",
       "       [ 2,  0,  0,  0,  2],\n",
       "       [ 2,  2,  2,  2,  2]])"
      ]
     },
     "execution_count": 15,
     "metadata": {},
     "output_type": "execute_result"
    }
   ],
   "source": [
    "tarea = np.array([[2,2,2,2,2],[2,0,0,0,2],[2,0,16,0,2],[2,0,0,0,2],[2,2,2,2,2]])\n",
    "tarea"
   ]
  },
  {
   "cell_type": "code",
   "execution_count": 16,
   "id": "495f6f95",
   "metadata": {},
   "outputs": [
    {
     "name": "stdout",
     "output_type": "stream",
     "text": [
      "[2 2 2 2 2] [2 0 0 0 2] [ 2  0 16  0  2] [2 0 0 0 2] [2 2 2 2 2]\n"
     ]
    }
   ],
   "source": [
    "#Pregunta 5\n",
    "a = np.array([2,2,2,2,2])\n",
    "b = np.array([2,0,0,0,2])\n",
    "c = np.array([2,0,16,0,2])\n",
    "d = np.array([2,0,0,0,2])\n",
    "e = np.array([2,2,2,2,2])\n",
    "print(a,b,c,d,e)"
   ]
  },
  {
   "cell_type": "code",
   "execution_count": 17,
   "id": "61857a2d",
   "metadata": {},
   "outputs": [
    {
     "data": {
      "text/plain": [
       "array([ 2,  2,  2,  2,  2,  2,  0,  0,  0,  2,  2,  0, 16,  0,  2,  2,  0,\n",
       "        0,  0,  2,  2,  2,  2,  2,  2])"
      ]
     },
     "execution_count": 17,
     "metadata": {},
     "output_type": "execute_result"
    }
   ],
   "source": [
    "Z = np.concatenate((a,b,c,d,e), axis=0)\n",
    "Z"
   ]
  },
  {
   "cell_type": "code",
   "execution_count": 18,
   "id": "15295400",
   "metadata": {},
   "outputs": [
    {
     "data": {
      "text/plain": [
       "array([[ 2,  2,  2,  2,  2],\n",
       "       [ 2,  0,  0,  0,  2],\n",
       "       [ 2,  0, 16,  0,  2],\n",
       "       [ 2,  0,  0,  0,  2],\n",
       "       [ 2,  2,  2,  2,  2]])"
      ]
     },
     "execution_count": 18,
     "metadata": {},
     "output_type": "execute_result"
    }
   ],
   "source": [
    "Z.reshape((5,5))"
   ]
  }
 ],
 "metadata": {
  "kernelspec": {
   "display_name": "Python 3",
   "language": "python",
   "name": "python3"
  },
  "language_info": {
   "codemirror_mode": {
    "name": "ipython",
    "version": 3
   },
   "file_extension": ".py",
   "mimetype": "text/x-python",
   "name": "python",
   "nbconvert_exporter": "python",
   "pygments_lexer": "ipython3",
   "version": "3.8.8"
  }
 },
 "nbformat": 4,
 "nbformat_minor": 5
}
