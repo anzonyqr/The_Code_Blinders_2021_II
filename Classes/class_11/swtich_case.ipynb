{
 "cells": [
  {
   "cell_type": "markdown",
   "metadata": {},
   "source": [
    "## [Switch Case](https://github.com/mrolarik/basic-python/blob/master/switch-case.ipynb)"
   ]
  },
  {
   "cell_type": "code",
   "execution_count": null,
   "metadata": {},
   "outputs": [],
   "source": [
    "def switch( argument ):      \n",
    "    \n",
    "    # diccionario\n",
    "    options = {\n",
    "        0: zero,\n",
    "        1: one,\n",
    "        2: two,\n",
    "        3: three,\n",
    "    }\n",
    "    \n",
    "    # Get the function from options dictionary\n",
    "    func = options.get(argument, lambda: \"nothing\")\n",
    "    \n",
    "    # Execute the function    \n",
    "    return func()"
   ]
  },
  {
   "cell_type": "code",
   "execution_count": 17,
   "metadata": {
    "scrolled": true
   },
   "outputs": [
    {
     "name": "stdout",
     "output_type": "stream",
     "text": [
      "Function one\n"
     ]
    },
    {
     "data": {
      "text/plain": [
       "'nothing'"
      ]
     },
     "execution_count": 17,
     "metadata": {},
     "output_type": "execute_result"
    }
   ],
   "source": [
    "switch(1)\n",
    "switch(5)"
   ]
  },
  {
   "cell_type": "markdown",
   "metadata": {},
   "source": [
    "## [Switch Case Class](https://github.com/mrolarik/basic-python/blob/master/switch-case.ipynb)"
   ]
  },
  {
   "cell_type": "code",
   "execution_count": 67,
   "metadata": {},
   "outputs": [],
   "source": [
    "class switch_class():\n",
    "    \n",
    "    def __init__(self, *args ):\n",
    "        self.list_fun = args\n",
    "    \n",
    "    \n",
    "    def gen_options( self ):\n",
    "        self.options = {}\n",
    "        i = 0\n",
    "        for fun in self.list_fun:\n",
    "            self.options[ i ] = fun\n",
    "            i = i + 1\n",
    "       \n",
    "    \n",
    "    \n",
    "    def get_aws( self , argument ):\n",
    "        func = self.options.get( argument, lambda: \"nothing\")\n",
    "        return func()        "
   ]
  },
  {
   "cell_type": "code",
   "execution_count": 68,
   "metadata": {},
   "outputs": [],
   "source": [
    "def zero( ):\n",
    "    print( 'Function zero' )\n",
    "    \n",
    "def one():\n",
    "    print( 'Function one' )\n",
    "\n",
    "def two():\n",
    "    print( 'Function two' )\n",
    "    \n",
    "def three():\n",
    "    print( 'Function three' )\n",
    "    \n",
    "def four():\n",
    "    print( 'Function four' )\n",
    "\n",
    "def five():\n",
    "    print( 'Function five' )\n",
    "\n",
    "def six():\n",
    "    print( 'Function six' )"
   ]
  },
  {
   "cell_type": "code",
   "execution_count": 69,
   "metadata": {},
   "outputs": [],
   "source": [
    "switch1 = switch_class( zero, one , two, three, four, five, six )"
   ]
  },
  {
   "cell_type": "code",
   "execution_count": 70,
   "metadata": {},
   "outputs": [],
   "source": [
    "switch1.gen_options()"
   ]
  },
  {
   "cell_type": "code",
   "execution_count": 74,
   "metadata": {},
   "outputs": [
    {
     "name": "stdout",
     "output_type": "stream",
     "text": [
      "Function zero\n"
     ]
    }
   ],
   "source": [
    "switch1.get_aws( 0 )"
   ]
  }
 ],
 "metadata": {
  "hide_input": false,
  "kernelspec": {
   "display_name": "Python 3",
   "language": "python",
   "name": "python3"
  },
  "language_info": {
   "codemirror_mode": {
    "name": "ipython",
    "version": 3
   },
   "file_extension": ".py",
   "mimetype": "text/x-python",
   "name": "python",
   "nbconvert_exporter": "python",
   "pygments_lexer": "ipython3",
   "version": "3.8.6"
  }
 },
 "nbformat": 4,
 "nbformat_minor": 4
}
