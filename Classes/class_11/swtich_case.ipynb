{
 "cells": [
  {
   "cell_type": "markdown",
   "metadata": {},
   "source": [
    "## [Switch Case](https://github.com/mrolarik/basic-python/blob/master/switch-case.ipynb)"
   ]
  },
  {
   "cell_type": "code",
   "execution_count": 6,
   "metadata": {},
   "outputs": [],
   "source": [
    "def sum( ):\n",
    "    print( 'Function zero' )\n",
    "    \n",
    "def one():\n",
    "    print( 'Function one' )\n",
    "\n",
    "def two():\n",
    "    print( 'Function two' )\n",
    "    \n",
    "def three():\n",
    "    print( 'Function three' )\n",
    "    \n",
    "def switch( argument ):      \n",
    "    \n",
    "    options = {\n",
    "        0: zero,\n",
    "        1: one,\n",
    "        2: two,\n",
    "        3: three,\n",
    "    }\n",
    "    \n",
    "    # Get the function from options dictionary\n",
    "    func = options.get(argument, lambda: \"nothing\")\n",
    "    \n",
    "    # Execute the function    \n",
    "    return func()"
   ]
  },
  {
   "cell_type": "code",
   "execution_count": 15,
   "metadata": {},
   "outputs": [
    {
     "name": "stdout",
     "output_type": "stream",
     "text": [
      "Function one\n",
      "Function two\n"
     ]
    }
   ],
   "source": [
    "switch(1)\n",
    "switch(2)"
   ]
  },
  {
   "cell_type": "markdown",
   "metadata": {},
   "source": [
    "## [Switch Case Class](https://github.com/mrolarik/basic-python/blob/master/switch-case.ipynb)"
   ]
  }
 ],
 "metadata": {
  "hide_input": false,
  "kernelspec": {
   "display_name": "Python 3",
   "language": "python",
   "name": "python3"
  },
  "language_info": {
   "codemirror_mode": {
    "name": "ipython",
    "version": 3
   },
   "file_extension": ".py",
   "mimetype": "text/x-python",
   "name": "python",
   "nbconvert_exporter": "python",
   "pygments_lexer": "ipython3",
   "version": "3.8.6"
  }
 },
 "nbformat": 4,
 "nbformat_minor": 4
}
