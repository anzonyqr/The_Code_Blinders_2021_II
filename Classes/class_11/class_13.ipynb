{
 "cells": [
  {
   "cell_type": "markdown",
   "metadata": {},
   "source": [
    "# Class\n",
    "Creating a new class creates a new type of object, allowing new instances of that type to be made. A class is a method for grouping data and functionality. \n",
    "<img src=\"../images\\classes.png\">"
   ]
  },
  {
   "cell_type": "code",
   "execution_count": 8,
   "metadata": {},
   "outputs": [],
   "source": [
    "class MyClass:\n",
    "    x = 5"
   ]
  },
  {
   "cell_type": "code",
   "execution_count": 10,
   "metadata": {},
   "outputs": [
    {
     "name": "stdout",
     "output_type": "stream",
     "text": [
      "5\n"
     ]
    }
   ],
   "source": [
    "a = MyClass()\n",
    "print(a.x)"
   ]
  },
  {
   "cell_type": "markdown",
   "metadata": {},
   "source": [
    "# attribute\n",
    "I use the word attribute for any name following a dot — for example, in the expression `z.real`, `real` is an attribute of the object z."
   ]
  },
  {
   "cell_type": "markdown",
   "metadata": {},
   "source": [
    "# __init__()\n",
    "\n",
    "The instantiation operation (“calling” a class object) creates an empty object. Many classes like to create objects with instances customized to a specific initial state. It contains a collection of statements(i.e. instructions) that are executed at the time of Object creation. It runs as soon as an object of a class is instantiated. The method is useful to do any initialization you want to do with your object."
   ]
  },
  {
   "cell_type": "code",
   "execution_count": 11,
   "metadata": {},
   "outputs": [],
   "source": [
    "class MyClass:\n",
    "    def __init__(self, name, age):\n",
    "        self.name = name\n",
    "        self.age = age"
   ]
  },
  {
   "cell_type": "code",
   "execution_count": 14,
   "metadata": {},
   "outputs": [
    {
     "name": "stdout",
     "output_type": "stream",
     "text": [
      "Jose\n"
     ]
    }
   ],
   "source": [
    "a = MyClass( name = \"Jose\" , age = 22 )\n",
    "print(a.name)"
   ]
  },
  {
   "cell_type": "code",
   "execution_count": null,
   "metadata": {},
   "outputs": [],
   "source": [
    "class Polygon:\n",
    "    def __init__(self, no_of_sides):\n",
    "        self.n = no_of_sides\n",
    "        self.sides = [0 for i in range(no_of_sides)]\n",
    "\n",
    "    def inputSides(self):\n",
    "        self.sides = [float(input(\"Enter side \"+str(i+1)+\" : \")) for i in range(self.n)]\n",
    "\n",
    "    def dispSides(self):\n",
    "        for i in range(self.n):\n",
    "            print(\"Side\",i+1,\"is\",self.sides[i])"
   ]
  },
  {
   "cell_type": "code",
   "execution_count": 115,
   "metadata": {},
   "outputs": [],
   "source": [
    "class BankAccount:\n",
    "    def __init__(self , acc_amount ):\n",
    "        self.acc_amount = acc_amount\n",
    "\n",
    "    def withdraw(self, amount):\n",
    "        self.acc_amount = self.acc_amount - amount\n",
    "        return self.acc_amount\n",
    "\n",
    "    def deposit(self, amount):\n",
    "        self.acc_amount = self.acc_amount - amount\n",
    "        return self.acc_amount"
   ]
  },
  {
   "cell_type": "code",
   "execution_count": 110,
   "metadata": {},
   "outputs": [],
   "source": [
    "a = Polygon( 3)"
   ]
  },
  {
   "cell_type": "code",
   "execution_count": 111,
   "metadata": {},
   "outputs": [
    {
     "name": "stdout",
     "output_type": "stream",
     "text": [
      "Enter side 1 : 8\n",
      "Enter side 2 : 5\n",
      "Enter side 3 : 6\n"
     ]
    }
   ],
   "source": [
    "a.inputSides()"
   ]
  },
  {
   "cell_type": "code",
   "execution_count": 113,
   "metadata": {},
   "outputs": [
    {
     "name": "stdout",
     "output_type": "stream",
     "text": [
      "Side 1 is 8.0\n",
      "Side 2 is 5.0\n",
      "Side 3 is 6.0\n"
     ]
    }
   ],
   "source": [
    "a.dispSides()"
   ]
  },
  {
   "cell_type": "code",
   "execution_count": 116,
   "metadata": {},
   "outputs": [],
   "source": [
    "marcos = BankAccount( acc_amount = 18000)"
   ]
  },
  {
   "cell_type": "code",
   "execution_count": 125,
   "metadata": {},
   "outputs": [
    {
     "data": {
      "text/plain": [
       "<__main__.BankAccount at 0x19217217b20>"
      ]
     },
     "execution_count": 125,
     "metadata": {},
     "output_type": "execute_result"
    }
   ],
   "source": [
    "marcos"
   ]
  },
  {
   "cell_type": "markdown",
   "metadata": {},
   "source": [
    "# [Inheritance](https://www.w3schools.com/python/python_inheritance.asp)\n",
    "Inheritance allows us to define a class that inherits all the methods and properties from another class."
   ]
  },
  {
   "cell_type": "code",
   "execution_count": 114,
   "metadata": {},
   "outputs": [],
   "source": [
    "class Triangle(Polygon):\n",
    "    def __init__(self):\n",
    "        Polygon.__init__(self,3)\n",
    "\n",
    "    def findArea(self):\n",
    "        a, b, c = self.sides\n",
    "        # calculate the semi-perimeter\n",
    "        s = (a + b + c) / 2\n",
    "        area = (s*(s-a)*(s-b)*(s-c)) ** 0.5\n",
    "        print('The area of the triangle is %0.2f' %area)"
   ]
  },
  {
   "cell_type": "code",
   "execution_count": 130,
   "metadata": {},
   "outputs": [],
   "source": [
    "a = Triangle()"
   ]
  },
  {
   "cell_type": "code",
   "execution_count": 131,
   "metadata": {},
   "outputs": [
    {
     "name": "stdout",
     "output_type": "stream",
     "text": [
      "Enter side 1 : 8\n",
      "Enter side 2 : 9\n",
      "Enter side 3 : 5\n"
     ]
    }
   ],
   "source": [
    "a.inputSides()"
   ]
  },
  {
   "cell_type": "code",
   "execution_count": 132,
   "metadata": {},
   "outputs": [
    {
     "name": "stdout",
     "output_type": "stream",
     "text": [
      "The area of the triangle is 19.90\n"
     ]
    }
   ],
   "source": [
    "a.findArea()"
   ]
  },
  {
   "cell_type": "markdown",
   "metadata": {},
   "source": [
    "# Example"
   ]
  },
  {
   "cell_type": "code",
   "execution_count": null,
   "metadata": {},
   "outputs": [],
   "source": [
    "dictionary_places = open( r\"..\\data\\places_result\", \"rb\")\n",
    "places_result = pickle.load( dictionary_places )\n",
    "\n",
    "datas = pd.DataFrame( columns = ['Institucion','latitude','Longitud'] )\n",
    "\n",
    "resultados = places_result['results']\n",
    "\n",
    "for fila in range( 0 , len( resultados ) ):\n",
    "    \n",
    "    datas.loc[fila] = [resultados[ fila ]['name'], \\\n",
    "                       resultados[ fila ]['geometry']['location']['lat'], \\\n",
    "                       resultados[ fila ]['geometry']['location']['lng']]\n",
    "\n",
    "datas\n",
    "\n",
    "# Lista\n",
    "resultados = places_result['results']\n",
    "\n",
    "# Como acceder a cada a la informacion que queremos\n",
    "# resultados[ 0 ]['name']\n",
    "# resultados[ 0 ]['geometry']['location']['lat']\n",
    "# resultados[ 0 ]['geometry']['location']['lng']\n",
    "\n",
    "# Listas\n",
    "latitudes = []\n",
    "longitudes = []\n",
    "instituciones = []\n",
    "\n",
    "\n",
    "# loop para guardar cada uno de los elementos\n",
    "for fila in range( 0 , len( resultados ) ):\n",
    "    # latitude\n",
    "    lat = resultados[ fila ]['geometry']['location']['lat']\n",
    "    \n",
    "    # Longitude\n",
    "    lng = resultados[ fila ]['geometry']['location']['lng']\n",
    "    \n",
    "    # nombre de la institucion\n",
    "    institucion = resultados[ fila ]['name']\n",
    "    \n",
    "    # Save results\n",
    "    latitudes.append( lat )\n",
    "    longitudes.append( lng )\n",
    "    instituciones.append( institucion )\n",
    "\n",
    "\n",
    "# # Diccionario\n",
    "# NIMC = { 'Instituciones': instituciones, 'Latitud' : latitudes, 'Longitud' : longitudes }\n",
    "# # Dataframe\n",
    "# NIMC_DF = pd.DataFrame( NIMC )"
   ]
  },
  {
   "cell_type": "code",
   "execution_count": 133,
   "metadata": {},
   "outputs": [],
   "source": [
    "def dict_tabla( diccionario, retorno = 'resultado_diccionario'):\n",
    "    \n",
    "    # Lista\n",
    "    resultados = diccionario['results']\n",
    "    \n",
    "    # Listas\n",
    "    latitudes = []\n",
    "    longitudes = []\n",
    "    instituciones = []\n",
    "    \n",
    "    for fila in range( 0 , len( resultados ) ):\n",
    "        # latitude\n",
    "        lat = resultados[ fila ]['geometry']['location']['lat']\n",
    "\n",
    "        # Longitude\n",
    "        lng = resultados[ fila ]['geometry']['location']['lng']\n",
    "\n",
    "        # nombre de la institucion\n",
    "        institucion = resultados[ fila ]['name']\n",
    "\n",
    "        # Save results\n",
    "        latitudes.append( lat )\n",
    "        longitudes.append( lng )\n",
    "        instituciones.append( institucion )\n",
    "        \n",
    "    # Diccionario\n",
    "    NIMC = { 'Instituciones': instituciones, 'Latitud' : latitudes, 'Longitud' : longitudes }\n",
    "    # Dataframe\n",
    "    NIMC_DF = pd.DataFrame( NIMC )\n",
    "    \n",
    "    \n",
    "    \n",
    "    \n",
    "    if retorno == 'resultado_dataframe':\n",
    "        return NIMC_DF\n",
    "    elif retorno == 'resultado_listas':\n",
    "        return [instituciones, latitudes, longitudes]\n",
    "    elif retorno == 'resultado_diccionario':\n",
    "        return NIMC\n",
    "    else:\n",
    "        return 'No hay nada'"
   ]
  }
 ],
 "metadata": {
  "hide_input": false,
  "kernelspec": {
   "display_name": "Python 3",
   "language": "python",
   "name": "python3"
  },
  "language_info": {
   "codemirror_mode": {
    "name": "ipython",
    "version": 3
   },
   "file_extension": ".py",
   "mimetype": "text/x-python",
   "name": "python",
   "nbconvert_exporter": "python",
   "pygments_lexer": "ipython3",
   "version": "3.8.6"
  }
 },
 "nbformat": 4,
 "nbformat_minor": 4
}
