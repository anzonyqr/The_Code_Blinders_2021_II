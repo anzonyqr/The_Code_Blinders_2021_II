{
 "cells": [
  {
   "cell_type": "markdown",
   "id": "04ff2439",
   "metadata": {},
   "source": [
    "# Franklin Gomez Hilario "
   ]
  },
  {
   "cell_type": "markdown",
   "id": "637cb864",
   "metadata": {},
   "source": [
    "1.- Crear el diccionario \"covid\" a partir de la gráfica ( 10 paises con mas muertes por el COVID_19) <br>\n",
    "key (llave):Paises  \n",
    "value(valores): Número de fallecidos"
   ]
  },
  {
   "cell_type": "code",
   "execution_count": 1,
   "id": "650a33ed",
   "metadata": {},
   "outputs": [
    {
     "name": "stdout",
     "output_type": "stream",
     "text": [
      "['guatemala', 'paraguay', 'bolivia', 'ecuador', 'chile', 'argentina', 'colombia', 'perú', 'méxico', 'brasil']\n"
     ]
    }
   ],
   "source": [
    "paises= [\"guatemala\",\"paraguay\",\"bolivia\",\"ecuador\",\"chile\",\"argentina\",\"colombia\",\"perú\",\"méxico\",\"brasil\"]\n",
    "print(paises)"
   ]
  },
  {
   "cell_type": "code",
   "execution_count": 2,
   "id": "8435d195",
   "metadata": {},
   "outputs": [
    {
     "data": {
      "text/plain": [
       "[11615, 15633, 18350, 32134, 36748, 110966, 124474, 198031, 255452, 576645]"
      ]
     },
     "execution_count": 2,
     "metadata": {},
     "output_type": "execute_result"
    }
   ],
   "source": [
    "muertes= [11615,15633,18350,32134,36748,110966,124474,198031,255452,576645]\n",
    "muertes"
   ]
  },
  {
   "cell_type": "code",
   "execution_count": 3,
   "id": "ed4f5199",
   "metadata": {},
   "outputs": [
    {
     "name": "stdout",
     "output_type": "stream",
     "text": [
      "{'guatemala': 11615, 'paraguay': 15633, 'bolivia': 18350, 'ecuador': 32134, 'chile': 36748, 'argentina': 110966, 'colombia': 124474, 'perú': 198031, 'méxico': 255452, 'brasil': 576645}\n"
     ]
    }
   ],
   "source": [
    "covid = zip(paises, muertes)\n",
    "covid = dict(covid)\n",
    "print(covid)"
   ]
  },
  {
   "cell_type": "markdown",
   "id": "2766bdf8",
   "metadata": {},
   "source": [
    "#### Muestre llaves y valores del dicionario covid."
   ]
  },
  {
   "cell_type": "code",
   "execution_count": 4,
   "id": "7c4d59b9",
   "metadata": {},
   "outputs": [
    {
     "data": {
      "text/plain": [
       "{'guatemala': 11615,\n",
       " 'paraguay': 15633,\n",
       " 'bolivia': 18350,\n",
       " 'ecuador': 32134,\n",
       " 'chile': 36748,\n",
       " 'argentina': 110966,\n",
       " 'colombia': 124474,\n",
       " 'perú': 198031,\n",
       " 'méxico': 255452,\n",
       " 'brasil': 576645}"
      ]
     },
     "execution_count": 4,
     "metadata": {},
     "output_type": "execute_result"
    }
   ],
   "source": [
    "covid"
   ]
  },
  {
   "cell_type": "markdown",
   "id": "424d408c",
   "metadata": {},
   "source": [
    "### 3.- Actualice el diccionario covid ya que las ultimas noticias indican que en Uruguay aumento el número de fallecidos por el COVID-19 en 14528 y Perú en 210250."
   ]
  },
  {
   "cell_type": "code",
   "execution_count": 5,
   "id": "2930e3ed",
   "metadata": {},
   "outputs": [
    {
     "data": {
      "text/plain": [
       "{'guatemala': 11615,\n",
       " 'paraguay': 15633,\n",
       " 'bolivia': 18350,\n",
       " 'ecuador': 32134,\n",
       " 'chile': 36748,\n",
       " 'argentina': 110966,\n",
       " 'colombia': 124474,\n",
       " 'perú': 198031,\n",
       " 'méxico': 255452,\n",
       " 'brasil': 576645,\n",
       " 'uruguay': 14528}"
      ]
     },
     "execution_count": 5,
     "metadata": {},
     "output_type": "execute_result"
    }
   ],
   "source": [
    "covid[\"uruguay\"]=14528\n",
    "covid"
   ]
  },
  {
   "cell_type": "code",
   "execution_count": 6,
   "id": "d3a5ba53",
   "metadata": {},
   "outputs": [
    {
     "data": {
      "text/plain": [
       "{'guatemala': 11615,\n",
       " 'paraguay': 15633,\n",
       " 'bolivia': 18350,\n",
       " 'ecuador': 32134,\n",
       " 'chile': 36748,\n",
       " 'argentina': 110966,\n",
       " 'colombia': 124474,\n",
       " 'perú': 210250,\n",
       " 'méxico': 255452,\n",
       " 'brasil': 576645,\n",
       " 'uruguay': 14528}"
      ]
     },
     "execution_count": 6,
     "metadata": {},
     "output_type": "execute_result"
    }
   ],
   "source": [
    "covid[\"perú\"]=210250\n",
    "covid"
   ]
  },
  {
   "cell_type": "code",
   "execution_count": 7,
   "id": "0ec8e0b3",
   "metadata": {},
   "outputs": [
    {
     "name": "stdout",
     "output_type": "stream",
     "text": [
      "{'paraguay': 15633, 'bolivia': 18350, 'ecuador': 32134, 'chile': 36748, 'argentina': 110966, 'colombia': 124474, 'perú': 210250, 'méxico': 255452, 'brasil': 576645, 'uruguay': 14528}\n"
     ]
    }
   ],
   "source": [
    "covid.pop(\"guatemala\")\n",
    "print(covid)"
   ]
  },
  {
   "cell_type": "code",
   "execution_count": 8,
   "id": "dbb4812a",
   "metadata": {},
   "outputs": [
    {
     "data": {
      "text/plain": [
       "10"
      ]
     },
     "execution_count": 8,
     "metadata": {},
     "output_type": "execute_result"
    }
   ],
   "source": [
    "len(covid)"
   ]
  },
  {
   "cell_type": "markdown",
   "id": "a4b7abcf",
   "metadata": {},
   "source": [
    "### 4.- Crear el diccionario \"dic1\" a partir de las listas:\n",
    "\n",
    "lista1=[10, 20, 30] y\n",
    "lista2[(1, 2 ,3),['Pedro',100],['control','educación']]"
   ]
  },
  {
   "cell_type": "code",
   "execution_count": 9,
   "id": "3b0583c1",
   "metadata": {},
   "outputs": [],
   "source": [
    "lista1=[10, 20, 30] \n",
    "lista2=[(1, 2 ,3),['Pedro',100],['control','educación']]"
   ]
  },
  {
   "cell_type": "code",
   "execution_count": 16,
   "id": "33b20186",
   "metadata": {},
   "outputs": [
    {
     "data": {
      "text/plain": [
       "{10: (1, 2, 3), 20: ['Pedro', 100], 30: ['control', 'educación']}"
      ]
     },
     "execution_count": 16,
     "metadata": {},
     "output_type": "execute_result"
    }
   ],
   "source": [
    "dict1 = zip(lista1, lista2)\n",
    "dict1 = dict(dict1)\n",
    "dict1"
   ]
  },
  {
   "cell_type": "markdown",
   "id": "9f5640fa",
   "metadata": {},
   "source": [
    "### 5.- Escriba el código que permita acceder a la cadena 'educación' del diccinario dic1."
   ]
  },
  {
   "cell_type": "code",
   "execution_count": 21,
   "id": "502821cb",
   "metadata": {},
   "outputs": [
    {
     "data": {
      "text/plain": [
       "'educación'"
      ]
     },
     "execution_count": 21,
     "metadata": {},
     "output_type": "execute_result"
    }
   ],
   "source": [
    "dict1[30][1]"
   ]
  },
  {
   "cell_type": "markdown",
   "id": "914cb204",
   "metadata": {},
   "source": [
    "### 6.- Escriba el código que permita cambiar la cadena 'Pedro' por 'Alfredo' en diccinario dic1."
   ]
  },
  {
   "cell_type": "code",
   "execution_count": 36,
   "id": "c53d5019",
   "metadata": {},
   "outputs": [],
   "source": [
    "dict1[20][0]= \"alfredo\" "
   ]
  },
  {
   "cell_type": "code",
   "execution_count": 38,
   "id": "a4e84c88",
   "metadata": {},
   "outputs": [
    {
     "data": {
      "text/plain": [
       "{10: (1, 2, 3), 20: ['alfredo', 100], 30: ['control', 'educación']}"
      ]
     },
     "execution_count": 38,
     "metadata": {},
     "output_type": "execute_result"
    }
   ],
   "source": [
    "dict1"
   ]
  },
  {
   "cell_type": "markdown",
   "id": "adee5237",
   "metadata": {},
   "source": [
    "### 7.- Crear el diccionario \"cod\" a partir de las listas:\n",
    "\n",
    "Localidad = ['Fray Martin','Santa Rosa de Puquio','Cuchicorral','Santiago de Punchauca','La Cruz (11 Amigos)','Cerro Cañon','Cabaña Suche','San Lorenzo','Jose Carlos Mariategui','Pascal','La Esperanza','Fundo Pancha Paula','Olfa','Rio Seco','Paraiso','El Rosario','Cerro Puquio','La Campana','Las Animas','Vetancio','Roma Alta','San Jose','San Pedro de Carabayllo','Huacoy','Fundo Pampa Libre','Ex Fundo Santa Ines','Reposo','Carmelito','Santa Elena','Don Luis','Santa Ines Parcela','Asociacion Santa Ines','Roma Baja','Residencial Santa Lucia','San Francisco','Santa Margarita - Molinos','Sipan Peru','Fundo Cuadros','Bello Horizonte','El Hueco','Ex Fundo Mariategui','Naranjito','Vista Hermosa','El Sabroso de Jose Carlos Mariategui','Granja Carabayllo','Agropecuario Valle el Chillon','Camino Real','Copacabana','El Trebol','Tablada la Virgen','San Fernando de Carabayllo','San Fernando de Copacabana','La Manzana','Chacra Grande','Torres de Copacabana','San Pedro de Carabayllo','San Lorenzo','Chaclacayo','Chorrillos','Cieneguilla','Lindero','Pichicato','San Isidro','San Vicente','Piedra Liza','Santa Rosa de Chontay (Chontay)','La Libertad','El Agustino','Independencia','Jesus Maria','La Molina','La Victoria','Lince','Las Palmeras','Chosica','Lurin','Los Almacigos','Rinconada del Puruhuay','Fundo Santa Genoveva','Los Maderos','Casco Viejo','Vista Alegre','Buena Vista Alta','Lomas Pucara','Fundo la Querencia','Magdalena del Mar','Pueblo Libre','Miraflores','Pachacamac','Puente Manchay','Tambo Inga','Pampa Flores','Manchay Alto Lote B','Invasion Cementerio','Manchay Bajo','Santa Rosa de Mal Paso','Cardal','Jatosisa','Tomina','Pucusana','Honda','Quipa','Los Pelicanos','Playa Puerto Bello','Ñaves','Granja Santa Elena','Alvatroz II','Poseidon - Lobo Varado','Playa Minka Mar','Playa Acantilado','Puente Piedra','Punta Hermosa','Capilla Lucumo','Cucuya','Pampapacta','Avicola San Cirilo de Loma Negra - 03','Avicola San Cirilo de Loma Negra - 02','Avicola San Cirilo de Loma Negra - 01','Pampa Mamay','Cerro Botija','Agricultores y Ganaderos','Pampa Malanche Avicola Puma','Punta Negra','Chancheria','Rimac','San Bartolo','Plantel 41','Granja 4','Granja 5','Granja 07','Granja 44','Granja 47','Santa Maria I','Las Torres Santa Fe','San Francisco de Borja','San Isidro','San Juan de Lurigancho','Ciudad de Dios','San Luis','Barrio Obrero Industrial','San Miguel','Santa Anita - los Ficus','Santa Maria del Mar','Don Bruno','Santa Rosa','Santiago de Surco','Surquillo','Villa el Salvador','Villa Maria del Triunfo']\n",
    "Cod_Postal=[15001,15003,15004,15006,15018,15019,15046,15072,15079,15081,15082,15083,15088,15123,15004,15011,15012,15019,15022,15023,15026,15476,15479,15483,15487,15491,15494,15498,15047,15049,15063,15082,15083,15121,15122,15313,15316,15318,15319,15320,15321,15324,15320,15320,15320,15320,15320,15320,15121,15320,15320,15121,15320,15320,15121,15121,15122,15122,15121,15121,15121,15320,15320,15320,15320,15320,15320,15121,15121,15121,15320,15121,15319,15121,15121,15121,15320,15320,15121,15121,15121,15121,15320,15320,15320,15122,15122,15122,15122,15122,15122,15122,15122,15121,15121,15122,15122,15121,15121,15122,15122,15121,15122,15122,15122,15472,15476,15054,15056,15057,15058,15063,15064,15066,15067,15593,15594,15593,15593,15593,15593,15593,15593,15593,15311,15312,15313,15314,15316,15324,15326,15327,15328,15332,15003,15004,15006,15007,15008,15009,15011,15018,15022,15311,15328,15331,15332,15333,15046]"
   ]
  },
  {
   "cell_type": "code",
   "execution_count": 41,
   "id": "9a84d1b4",
   "metadata": {},
   "outputs": [
    {
     "data": {
      "text/plain": [
       "['Fray Martin',\n",
       " 'Santa Rosa de Puquio',\n",
       " 'Cuchicorral',\n",
       " 'Santiago de Punchauca',\n",
       " 'La Cruz (11 Amigos)',\n",
       " 'Cerro Cañon',\n",
       " 'Cabaña Suche',\n",
       " 'San Lorenzo',\n",
       " 'Jose Carlos Mariategui',\n",
       " 'Pascal',\n",
       " 'La Esperanza',\n",
       " 'Fundo Pancha Paula',\n",
       " 'Olfa',\n",
       " 'Rio Seco',\n",
       " 'Paraiso',\n",
       " 'El Rosario',\n",
       " 'Cerro Puquio',\n",
       " 'La Campana',\n",
       " 'Las Animas',\n",
       " 'Vetancio',\n",
       " 'Roma Alta',\n",
       " 'San Jose',\n",
       " 'San Pedro de Carabayllo',\n",
       " 'Huacoy',\n",
       " 'Fundo Pampa Libre',\n",
       " 'Ex Fundo Santa Ines',\n",
       " 'Reposo',\n",
       " 'Carmelito',\n",
       " 'Santa Elena',\n",
       " 'Don Luis',\n",
       " 'Santa Ines Parcela',\n",
       " 'Asociacion Santa Ines',\n",
       " 'Roma Baja',\n",
       " 'Residencial Santa Lucia',\n",
       " 'San Francisco',\n",
       " 'Santa Margarita - Molinos',\n",
       " 'Sipan Peru',\n",
       " 'Fundo Cuadros',\n",
       " 'Bello Horizonte',\n",
       " 'El Hueco',\n",
       " 'Ex Fundo Mariategui',\n",
       " 'Naranjito',\n",
       " 'Vista Hermosa',\n",
       " 'El Sabroso de Jose Carlos Mariategui',\n",
       " 'Granja Carabayllo',\n",
       " 'Agropecuario Valle el Chillon',\n",
       " 'Camino Real',\n",
       " 'Copacabana',\n",
       " 'El Trebol',\n",
       " 'Tablada la Virgen',\n",
       " 'San Fernando de Carabayllo',\n",
       " 'San Fernando de Copacabana',\n",
       " 'La Manzana',\n",
       " 'Chacra Grande',\n",
       " 'Torres de Copacabana',\n",
       " 'San Pedro de Carabayllo',\n",
       " 'San Lorenzo',\n",
       " 'Chaclacayo',\n",
       " 'Chorrillos',\n",
       " 'Cieneguilla',\n",
       " 'Lindero',\n",
       " 'Pichicato',\n",
       " 'San Isidro',\n",
       " 'San Vicente',\n",
       " 'Piedra Liza',\n",
       " 'Santa Rosa de Chontay (Chontay)',\n",
       " 'La Libertad',\n",
       " 'El Agustino',\n",
       " 'Independencia',\n",
       " 'Jesus Maria',\n",
       " 'La Molina',\n",
       " 'La Victoria',\n",
       " 'Lince',\n",
       " 'Las Palmeras',\n",
       " 'Chosica',\n",
       " 'Lurin',\n",
       " 'Los Almacigos',\n",
       " 'Rinconada del Puruhuay',\n",
       " 'Fundo Santa Genoveva',\n",
       " 'Los Maderos',\n",
       " 'Casco Viejo',\n",
       " 'Vista Alegre',\n",
       " 'Buena Vista Alta',\n",
       " 'Lomas Pucara',\n",
       " 'Fundo la Querencia',\n",
       " 'Magdalena del Mar',\n",
       " 'Pueblo Libre',\n",
       " 'Miraflores',\n",
       " 'Pachacamac',\n",
       " 'Puente Manchay',\n",
       " 'Tambo Inga',\n",
       " 'Pampa Flores',\n",
       " 'Manchay Alto Lote B',\n",
       " 'Invasion Cementerio',\n",
       " 'Manchay Bajo',\n",
       " 'Santa Rosa de Mal Paso',\n",
       " 'Cardal',\n",
       " 'Jatosisa',\n",
       " 'Tomina',\n",
       " 'Pucusana',\n",
       " 'Honda',\n",
       " 'Quipa',\n",
       " 'Los Pelicanos',\n",
       " 'Playa Puerto Bello',\n",
       " 'Ñaves',\n",
       " 'Granja Santa Elena',\n",
       " 'Alvatroz II',\n",
       " 'Poseidon - Lobo Varado',\n",
       " 'Playa Minka Mar',\n",
       " 'Playa Acantilado',\n",
       " 'Puente Piedra',\n",
       " 'Punta Hermosa',\n",
       " 'Capilla Lucumo',\n",
       " 'Cucuya',\n",
       " 'Pampapacta',\n",
       " 'Avicola San Cirilo de Loma Negra - 03',\n",
       " 'Avicola San Cirilo de Loma Negra - 02',\n",
       " 'Avicola San Cirilo de Loma Negra - 01',\n",
       " 'Pampa Mamay',\n",
       " 'Cerro Botija',\n",
       " 'Agricultores y Ganaderos',\n",
       " 'Pampa Malanche Avicola Puma',\n",
       " 'Punta Negra',\n",
       " 'Chancheria',\n",
       " 'Rimac',\n",
       " 'San Bartolo',\n",
       " 'Plantel 41',\n",
       " 'Granja 4',\n",
       " 'Granja 5',\n",
       " 'Granja 07',\n",
       " 'Granja 44',\n",
       " 'Granja 47',\n",
       " 'Santa Maria I',\n",
       " 'Las Torres Santa Fe',\n",
       " 'San Francisco de Borja',\n",
       " 'San Isidro',\n",
       " 'San Juan de Lurigancho',\n",
       " 'Ciudad de Dios',\n",
       " 'San Luis',\n",
       " 'Barrio Obrero Industrial',\n",
       " 'San Miguel',\n",
       " 'Santa Anita - los Ficus',\n",
       " 'Santa Maria del Mar',\n",
       " 'Don Bruno',\n",
       " 'Santa Rosa',\n",
       " 'Santiago de Surco',\n",
       " 'Surquillo',\n",
       " 'Villa el Salvador',\n",
       " 'Villa Maria del Triunfo']"
      ]
     },
     "execution_count": 41,
     "metadata": {},
     "output_type": "execute_result"
    }
   ],
   "source": [
    "Localidad = ['Fray Martin','Santa Rosa de Puquio','Cuchicorral','Santiago de Punchauca','La Cruz (11 Amigos)','Cerro Cañon','Cabaña Suche','San Lorenzo','Jose Carlos Mariategui','Pascal','La Esperanza','Fundo Pancha Paula','Olfa','Rio Seco','Paraiso','El Rosario','Cerro Puquio','La Campana','Las Animas','Vetancio','Roma Alta','San Jose','San Pedro de Carabayllo','Huacoy','Fundo Pampa Libre','Ex Fundo Santa Ines','Reposo','Carmelito','Santa Elena','Don Luis','Santa Ines Parcela','Asociacion Santa Ines','Roma Baja','Residencial Santa Lucia','San Francisco','Santa Margarita - Molinos','Sipan Peru','Fundo Cuadros','Bello Horizonte','El Hueco','Ex Fundo Mariategui','Naranjito','Vista Hermosa','El Sabroso de Jose Carlos Mariategui','Granja Carabayllo','Agropecuario Valle el Chillon','Camino Real','Copacabana','El Trebol','Tablada la Virgen','San Fernando de Carabayllo','San Fernando de Copacabana','La Manzana','Chacra Grande','Torres de Copacabana','San Pedro de Carabayllo','San Lorenzo','Chaclacayo','Chorrillos','Cieneguilla','Lindero','Pichicato','San Isidro','San Vicente','Piedra Liza','Santa Rosa de Chontay (Chontay)','La Libertad','El Agustino','Independencia','Jesus Maria','La Molina','La Victoria','Lince','Las Palmeras','Chosica','Lurin','Los Almacigos','Rinconada del Puruhuay','Fundo Santa Genoveva','Los Maderos','Casco Viejo','Vista Alegre','Buena Vista Alta','Lomas Pucara','Fundo la Querencia','Magdalena del Mar','Pueblo Libre','Miraflores','Pachacamac','Puente Manchay','Tambo Inga','Pampa Flores','Manchay Alto Lote B','Invasion Cementerio','Manchay Bajo','Santa Rosa de Mal Paso','Cardal','Jatosisa','Tomina','Pucusana','Honda','Quipa','Los Pelicanos','Playa Puerto Bello','Ñaves','Granja Santa Elena','Alvatroz II','Poseidon - Lobo Varado','Playa Minka Mar','Playa Acantilado','Puente Piedra','Punta Hermosa','Capilla Lucumo','Cucuya','Pampapacta','Avicola San Cirilo de Loma Negra - 03','Avicola San Cirilo de Loma Negra - 02','Avicola San Cirilo de Loma Negra - 01','Pampa Mamay','Cerro Botija','Agricultores y Ganaderos','Pampa Malanche Avicola Puma','Punta Negra','Chancheria','Rimac','San Bartolo','Plantel 41','Granja 4','Granja 5','Granja 07','Granja 44','Granja 47','Santa Maria I','Las Torres Santa Fe','San Francisco de Borja','San Isidro','San Juan de Lurigancho','Ciudad de Dios','San Luis','Barrio Obrero Industrial','San Miguel','Santa Anita - los Ficus','Santa Maria del Mar','Don Bruno','Santa Rosa','Santiago de Surco','Surquillo','Villa el Salvador','Villa Maria del Triunfo']\n",
    "Localidad "
   ]
  },
  {
   "cell_type": "code",
   "execution_count": 43,
   "id": "295fd5ca",
   "metadata": {},
   "outputs": [
    {
     "data": {
      "text/plain": [
       "[15001,\n",
       " 15003,\n",
       " 15004,\n",
       " 15006,\n",
       " 15018,\n",
       " 15019,\n",
       " 15046,\n",
       " 15072,\n",
       " 15079,\n",
       " 15081,\n",
       " 15082,\n",
       " 15083,\n",
       " 15088,\n",
       " 15123,\n",
       " 15004,\n",
       " 15011,\n",
       " 15012,\n",
       " 15019,\n",
       " 15022,\n",
       " 15023,\n",
       " 15026,\n",
       " 15476,\n",
       " 15479,\n",
       " 15483,\n",
       " 15487,\n",
       " 15491,\n",
       " 15494,\n",
       " 15498,\n",
       " 15047,\n",
       " 15049,\n",
       " 15063,\n",
       " 15082,\n",
       " 15083,\n",
       " 15121,\n",
       " 15122,\n",
       " 15313,\n",
       " 15316,\n",
       " 15318,\n",
       " 15319,\n",
       " 15320,\n",
       " 15321,\n",
       " 15324,\n",
       " 15320,\n",
       " 15320,\n",
       " 15320,\n",
       " 15320,\n",
       " 15320,\n",
       " 15320,\n",
       " 15121,\n",
       " 15320,\n",
       " 15320,\n",
       " 15121,\n",
       " 15320,\n",
       " 15320,\n",
       " 15121,\n",
       " 15121,\n",
       " 15122,\n",
       " 15122,\n",
       " 15121,\n",
       " 15121,\n",
       " 15121,\n",
       " 15320,\n",
       " 15320,\n",
       " 15320,\n",
       " 15320,\n",
       " 15320,\n",
       " 15320,\n",
       " 15121,\n",
       " 15121,\n",
       " 15121,\n",
       " 15320,\n",
       " 15121,\n",
       " 15319,\n",
       " 15121,\n",
       " 15121,\n",
       " 15121,\n",
       " 15320,\n",
       " 15320,\n",
       " 15121,\n",
       " 15121,\n",
       " 15121,\n",
       " 15121,\n",
       " 15320,\n",
       " 15320,\n",
       " 15320,\n",
       " 15122,\n",
       " 15122,\n",
       " 15122,\n",
       " 15122,\n",
       " 15122,\n",
       " 15122,\n",
       " 15122,\n",
       " 15122,\n",
       " 15121,\n",
       " 15121,\n",
       " 15122,\n",
       " 15122,\n",
       " 15121,\n",
       " 15121,\n",
       " 15122,\n",
       " 15122,\n",
       " 15121,\n",
       " 15122,\n",
       " 15122,\n",
       " 15122,\n",
       " 15472,\n",
       " 15476,\n",
       " 15054,\n",
       " 15056,\n",
       " 15057,\n",
       " 15058,\n",
       " 15063,\n",
       " 15064,\n",
       " 15066,\n",
       " 15067,\n",
       " 15593,\n",
       " 15594,\n",
       " 15593,\n",
       " 15593,\n",
       " 15593,\n",
       " 15593,\n",
       " 15593,\n",
       " 15593,\n",
       " 15593,\n",
       " 15311,\n",
       " 15312,\n",
       " 15313,\n",
       " 15314,\n",
       " 15316,\n",
       " 15324,\n",
       " 15326,\n",
       " 15327,\n",
       " 15328,\n",
       " 15332,\n",
       " 15003,\n",
       " 15004,\n",
       " 15006,\n",
       " 15007,\n",
       " 15008,\n",
       " 15009,\n",
       " 15011,\n",
       " 15018,\n",
       " 15022,\n",
       " 15311,\n",
       " 15328,\n",
       " 15331,\n",
       " 15332,\n",
       " 15333,\n",
       " 15046]"
      ]
     },
     "execution_count": 43,
     "metadata": {},
     "output_type": "execute_result"
    }
   ],
   "source": [
    "Cod_Postal=[15001,15003,15004,15006,15018,15019,15046,15072,15079,15081,15082,15083,15088,15123,15004,15011,15012,15019,15022,15023,15026,15476,15479,15483,15487,15491,15494,15498,15047,15049,15063,15082,15083,15121,15122,15313,15316,15318,15319,15320,15321,15324,15320,15320,15320,15320,15320,15320,15121,15320,15320,15121,15320,15320,15121,15121,15122,15122,15121,15121,15121,15320,15320,15320,15320,15320,15320,15121,15121,15121,15320,15121,15319,15121,15121,15121,15320,15320,15121,15121,15121,15121,15320,15320,15320,15122,15122,15122,15122,15122,15122,15122,15122,15121,15121,15122,15122,15121,15121,15122,15122,15121,15122,15122,15122,15472,15476,15054,15056,15057,15058,15063,15064,15066,15067,15593,15594,15593,15593,15593,15593,15593,15593,15593,15311,15312,15313,15314,15316,15324,15326,15327,15328,15332,15003,15004,15006,15007,15008,15009,15011,15018,15022,15311,15328,15331,15332,15333,15046]\n",
    "Cod_Postal"
   ]
  },
  {
   "cell_type": "code",
   "execution_count": 46,
   "id": "8b4592a1",
   "metadata": {},
   "outputs": [
    {
     "data": {
      "text/plain": [
       "{'Fray Martin': 15001,\n",
       " 'Santa Rosa de Puquio': 15003,\n",
       " 'Cuchicorral': 15004,\n",
       " 'Santiago de Punchauca': 15006,\n",
       " 'La Cruz (11 Amigos)': 15018,\n",
       " 'Cerro Cañon': 15019,\n",
       " 'Cabaña Suche': 15046,\n",
       " 'San Lorenzo': 15122,\n",
       " 'Jose Carlos Mariategui': 15079,\n",
       " 'Pascal': 15081,\n",
       " 'La Esperanza': 15082,\n",
       " 'Fundo Pancha Paula': 15083,\n",
       " 'Olfa': 15088,\n",
       " 'Rio Seco': 15123,\n",
       " 'Paraiso': 15004,\n",
       " 'El Rosario': 15011,\n",
       " 'Cerro Puquio': 15012,\n",
       " 'La Campana': 15019,\n",
       " 'Las Animas': 15022,\n",
       " 'Vetancio': 15023,\n",
       " 'Roma Alta': 15026,\n",
       " 'San Jose': 15476,\n",
       " 'San Pedro de Carabayllo': 15121,\n",
       " 'Huacoy': 15483,\n",
       " 'Fundo Pampa Libre': 15487,\n",
       " 'Ex Fundo Santa Ines': 15491,\n",
       " 'Reposo': 15494,\n",
       " 'Carmelito': 15498,\n",
       " 'Santa Elena': 15047,\n",
       " 'Don Luis': 15049,\n",
       " 'Santa Ines Parcela': 15063,\n",
       " 'Asociacion Santa Ines': 15082,\n",
       " 'Roma Baja': 15083,\n",
       " 'Residencial Santa Lucia': 15121,\n",
       " 'San Francisco': 15122,\n",
       " 'Santa Margarita - Molinos': 15313,\n",
       " 'Sipan Peru': 15316,\n",
       " 'Fundo Cuadros': 15318,\n",
       " 'Bello Horizonte': 15319,\n",
       " 'El Hueco': 15320,\n",
       " 'Ex Fundo Mariategui': 15321,\n",
       " 'Naranjito': 15324,\n",
       " 'Vista Hermosa': 15320,\n",
       " 'El Sabroso de Jose Carlos Mariategui': 15320,\n",
       " 'Granja Carabayllo': 15320,\n",
       " 'Agropecuario Valle el Chillon': 15320,\n",
       " 'Camino Real': 15320,\n",
       " 'Copacabana': 15320,\n",
       " 'El Trebol': 15121,\n",
       " 'Tablada la Virgen': 15320,\n",
       " 'San Fernando de Carabayllo': 15320,\n",
       " 'San Fernando de Copacabana': 15121,\n",
       " 'La Manzana': 15320,\n",
       " 'Chacra Grande': 15320,\n",
       " 'Torres de Copacabana': 15121,\n",
       " 'Chaclacayo': 15122,\n",
       " 'Chorrillos': 15121,\n",
       " 'Cieneguilla': 15121,\n",
       " 'Lindero': 15121,\n",
       " 'Pichicato': 15320,\n",
       " 'San Isidro': 15004,\n",
       " 'San Vicente': 15320,\n",
       " 'Piedra Liza': 15320,\n",
       " 'Santa Rosa de Chontay (Chontay)': 15320,\n",
       " 'La Libertad': 15320,\n",
       " 'El Agustino': 15121,\n",
       " 'Independencia': 15121,\n",
       " 'Jesus Maria': 15121,\n",
       " 'La Molina': 15320,\n",
       " 'La Victoria': 15121,\n",
       " 'Lince': 15319,\n",
       " 'Las Palmeras': 15121,\n",
       " 'Chosica': 15121,\n",
       " 'Lurin': 15121,\n",
       " 'Los Almacigos': 15320,\n",
       " 'Rinconada del Puruhuay': 15320,\n",
       " 'Fundo Santa Genoveva': 15121,\n",
       " 'Los Maderos': 15121,\n",
       " 'Casco Viejo': 15121,\n",
       " 'Vista Alegre': 15121,\n",
       " 'Buena Vista Alta': 15320,\n",
       " 'Lomas Pucara': 15320,\n",
       " 'Fundo la Querencia': 15320,\n",
       " 'Magdalena del Mar': 15122,\n",
       " 'Pueblo Libre': 15122,\n",
       " 'Miraflores': 15122,\n",
       " 'Pachacamac': 15122,\n",
       " 'Puente Manchay': 15122,\n",
       " 'Tambo Inga': 15122,\n",
       " 'Pampa Flores': 15122,\n",
       " 'Manchay Alto Lote B': 15122,\n",
       " 'Invasion Cementerio': 15121,\n",
       " 'Manchay Bajo': 15121,\n",
       " 'Santa Rosa de Mal Paso': 15122,\n",
       " 'Cardal': 15122,\n",
       " 'Jatosisa': 15121,\n",
       " 'Tomina': 15121,\n",
       " 'Pucusana': 15122,\n",
       " 'Honda': 15122,\n",
       " 'Quipa': 15121,\n",
       " 'Los Pelicanos': 15122,\n",
       " 'Playa Puerto Bello': 15122,\n",
       " 'Ñaves': 15122,\n",
       " 'Granja Santa Elena': 15472,\n",
       " 'Alvatroz II': 15476,\n",
       " 'Poseidon - Lobo Varado': 15054,\n",
       " 'Playa Minka Mar': 15056,\n",
       " 'Playa Acantilado': 15057,\n",
       " 'Puente Piedra': 15058,\n",
       " 'Punta Hermosa': 15063,\n",
       " 'Capilla Lucumo': 15064,\n",
       " 'Cucuya': 15066,\n",
       " 'Pampapacta': 15067,\n",
       " 'Avicola San Cirilo de Loma Negra - 03': 15593,\n",
       " 'Avicola San Cirilo de Loma Negra - 02': 15594,\n",
       " 'Avicola San Cirilo de Loma Negra - 01': 15593,\n",
       " 'Pampa Mamay': 15593,\n",
       " 'Cerro Botija': 15593,\n",
       " 'Agricultores y Ganaderos': 15593,\n",
       " 'Pampa Malanche Avicola Puma': 15593,\n",
       " 'Punta Negra': 15593,\n",
       " 'Chancheria': 15593,\n",
       " 'Rimac': 15311,\n",
       " 'San Bartolo': 15312,\n",
       " 'Plantel 41': 15313,\n",
       " 'Granja 4': 15314,\n",
       " 'Granja 5': 15316,\n",
       " 'Granja 07': 15324,\n",
       " 'Granja 44': 15326,\n",
       " 'Granja 47': 15327,\n",
       " 'Santa Maria I': 15328,\n",
       " 'Las Torres Santa Fe': 15332,\n",
       " 'San Francisco de Borja': 15003,\n",
       " 'San Juan de Lurigancho': 15006,\n",
       " 'Ciudad de Dios': 15007,\n",
       " 'San Luis': 15008,\n",
       " 'Barrio Obrero Industrial': 15009,\n",
       " 'San Miguel': 15011,\n",
       " 'Santa Anita - los Ficus': 15018,\n",
       " 'Santa Maria del Mar': 15022,\n",
       " 'Don Bruno': 15311,\n",
       " 'Santa Rosa': 15328,\n",
       " 'Santiago de Surco': 15331,\n",
       " 'Surquillo': 15332,\n",
       " 'Villa el Salvador': 15333,\n",
       " 'Villa Maria del Triunfo': 15046}"
      ]
     },
     "execution_count": 46,
     "metadata": {},
     "output_type": "execute_result"
    }
   ],
   "source": [
    "cod = zip(Localidad, Cod_Postal)\n",
    "cod = dict(cod)\n",
    "cod"
   ]
  },
  {
   "cell_type": "markdown",
   "id": "df72c7f5",
   "metadata": {},
   "source": [
    "### 8.- Cambiar el código postal de 'San Isidro' a 66666 y muestre el resultado."
   ]
  },
  {
   "cell_type": "code",
   "execution_count": 51,
   "id": "52128bf1",
   "metadata": {},
   "outputs": [
    {
     "data": {
      "text/plain": [
       "{'Fray Martin': 15001,\n",
       " 'Santa Rosa de Puquio': 15003,\n",
       " 'Cuchicorral': 15004,\n",
       " 'Santiago de Punchauca': 15006,\n",
       " 'La Cruz (11 Amigos)': 15018,\n",
       " 'Cerro Cañon': 15019,\n",
       " 'Cabaña Suche': 15046,\n",
       " 'San Lorenzo': 15122,\n",
       " 'Jose Carlos Mariategui': 15079,\n",
       " 'Pascal': 15081,\n",
       " 'La Esperanza': 15082,\n",
       " 'Fundo Pancha Paula': 15083,\n",
       " 'Olfa': 15088,\n",
       " 'Rio Seco': 15123,\n",
       " 'Paraiso': 15004,\n",
       " 'El Rosario': 15011,\n",
       " 'Cerro Puquio': 15012,\n",
       " 'La Campana': 15019,\n",
       " 'Las Animas': 15022,\n",
       " 'Vetancio': 15023,\n",
       " 'Roma Alta': 15026,\n",
       " 'San Jose': 15476,\n",
       " 'San Pedro de Carabayllo': 15121,\n",
       " 'Huacoy': 15483,\n",
       " 'Fundo Pampa Libre': 15487,\n",
       " 'Ex Fundo Santa Ines': 15491,\n",
       " 'Reposo': 15494,\n",
       " 'Carmelito': 15498,\n",
       " 'Santa Elena': 15047,\n",
       " 'Don Luis': 15049,\n",
       " 'Santa Ines Parcela': 15063,\n",
       " 'Asociacion Santa Ines': 15082,\n",
       " 'Roma Baja': 15083,\n",
       " 'Residencial Santa Lucia': 15121,\n",
       " 'San Francisco': 15122,\n",
       " 'Santa Margarita - Molinos': 15313,\n",
       " 'Sipan Peru': 15316,\n",
       " 'Fundo Cuadros': 15318,\n",
       " 'Bello Horizonte': 15319,\n",
       " 'El Hueco': 15320,\n",
       " 'Ex Fundo Mariategui': 15321,\n",
       " 'Naranjito': 15324,\n",
       " 'Vista Hermosa': 15320,\n",
       " 'El Sabroso de Jose Carlos Mariategui': 15320,\n",
       " 'Granja Carabayllo': 15320,\n",
       " 'Agropecuario Valle el Chillon': 15320,\n",
       " 'Camino Real': 15320,\n",
       " 'Copacabana': 15320,\n",
       " 'El Trebol': 15121,\n",
       " 'Tablada la Virgen': 15320,\n",
       " 'San Fernando de Carabayllo': 15320,\n",
       " 'San Fernando de Copacabana': 15121,\n",
       " 'La Manzana': 15320,\n",
       " 'Chacra Grande': 15320,\n",
       " 'Torres de Copacabana': 15121,\n",
       " 'Chaclacayo': 15122,\n",
       " 'Chorrillos': 15121,\n",
       " 'Cieneguilla': 15121,\n",
       " 'Lindero': 15121,\n",
       " 'Pichicato': 15320,\n",
       " 'San Isidro': 66666,\n",
       " 'San Vicente': 15320,\n",
       " 'Piedra Liza': 15320,\n",
       " 'Santa Rosa de Chontay (Chontay)': 15320,\n",
       " 'La Libertad': 15320,\n",
       " 'El Agustino': 15121,\n",
       " 'Independencia': 15121,\n",
       " 'Jesus Maria': 15121,\n",
       " 'La Molina': 15320,\n",
       " 'La Victoria': 15121,\n",
       " 'Lince': 15319,\n",
       " 'Las Palmeras': 15121,\n",
       " 'Chosica': 15121,\n",
       " 'Lurin': 15121,\n",
       " 'Los Almacigos': 15320,\n",
       " 'Rinconada del Puruhuay': 15320,\n",
       " 'Fundo Santa Genoveva': 15121,\n",
       " 'Los Maderos': 15121,\n",
       " 'Casco Viejo': 15121,\n",
       " 'Vista Alegre': 15121,\n",
       " 'Buena Vista Alta': 15320,\n",
       " 'Lomas Pucara': 15320,\n",
       " 'Fundo la Querencia': 15320,\n",
       " 'Magdalena del Mar': 15122,\n",
       " 'Pueblo Libre': 15122,\n",
       " 'Miraflores': 15122,\n",
       " 'Pachacamac': 15122,\n",
       " 'Puente Manchay': 15122,\n",
       " 'Tambo Inga': 15122,\n",
       " 'Pampa Flores': 15122,\n",
       " 'Manchay Alto Lote B': 15122,\n",
       " 'Invasion Cementerio': 15121,\n",
       " 'Manchay Bajo': 15121,\n",
       " 'Santa Rosa de Mal Paso': 15122,\n",
       " 'Cardal': 15122,\n",
       " 'Jatosisa': 15121,\n",
       " 'Tomina': 15121,\n",
       " 'Pucusana': 15122,\n",
       " 'Honda': 15122,\n",
       " 'Quipa': 15121,\n",
       " 'Los Pelicanos': 15122,\n",
       " 'Playa Puerto Bello': 15122,\n",
       " 'Ñaves': 15122,\n",
       " 'Granja Santa Elena': 15472,\n",
       " 'Alvatroz II': 15476,\n",
       " 'Poseidon - Lobo Varado': 15054,\n",
       " 'Playa Minka Mar': 15056,\n",
       " 'Playa Acantilado': 15057,\n",
       " 'Puente Piedra': 15058,\n",
       " 'Punta Hermosa': 15063,\n",
       " 'Capilla Lucumo': 15064,\n",
       " 'Cucuya': 15066,\n",
       " 'Pampapacta': 15067,\n",
       " 'Avicola San Cirilo de Loma Negra - 03': 15593,\n",
       " 'Avicola San Cirilo de Loma Negra - 02': 15594,\n",
       " 'Avicola San Cirilo de Loma Negra - 01': 15593,\n",
       " 'Pampa Mamay': 15593,\n",
       " 'Cerro Botija': 15593,\n",
       " 'Agricultores y Ganaderos': 15593,\n",
       " 'Pampa Malanche Avicola Puma': 15593,\n",
       " 'Punta Negra': 15593,\n",
       " 'Chancheria': 15593,\n",
       " 'Rimac': 15311,\n",
       " 'San Bartolo': 15312,\n",
       " 'Plantel 41': 15313,\n",
       " 'Granja 4': 15314,\n",
       " 'Granja 5': 15316,\n",
       " 'Granja 07': 15324,\n",
       " 'Granja 44': 15326,\n",
       " 'Granja 47': 15327,\n",
       " 'Santa Maria I': 15328,\n",
       " 'Las Torres Santa Fe': 15332,\n",
       " 'San Francisco de Borja': 15003,\n",
       " 'San Juan de Lurigancho': 15006,\n",
       " 'Ciudad de Dios': 15007,\n",
       " 'San Luis': 15008,\n",
       " 'Barrio Obrero Industrial': 15009,\n",
       " 'San Miguel': 15011,\n",
       " 'Santa Anita - los Ficus': 15018,\n",
       " 'Santa Maria del Mar': 15022,\n",
       " 'Don Bruno': 15311,\n",
       " 'Santa Rosa': 15328,\n",
       " 'Santiago de Surco': 15331,\n",
       " 'Surquillo': 15332,\n",
       " 'Villa el Salvador': 15333,\n",
       " 'Villa Maria del Triunfo': 15046}"
      ]
     },
     "execution_count": 51,
     "metadata": {},
     "output_type": "execute_result"
    }
   ],
   "source": [
    "cod[\"San Isidro\"]=66666\n",
    "cod"
   ]
  },
  {
   "cell_type": "code",
   "execution_count": null,
   "id": "38842972",
   "metadata": {},
   "outputs": [],
   "source": []
  },
  {
   "cell_type": "markdown",
   "id": "a32e96da",
   "metadata": {},
   "source": [
    "# Yamil Caballero Yali"
   ]
  },
  {
   "cell_type": "markdown",
   "id": "88386832",
   "metadata": {},
   "source": [
    "1.- Crear el diccionario \"covid\" a partir de la gráfica ( 10 paises con mas muertes por el COVID_19) <br>\n",
    "key (llave):Paises  \n",
    "value(valores): Número de fallecidos\n",
    "\n",
    "<img src=\"imagenes/COVID.png\" alt=\"REPO\" width=\"500\" title = \"REPO\"/>"
   ]
  },
  {
   "cell_type": "code",
   "execution_count": null,
   "id": "22896f4a",
   "metadata": {},
   "outputs": [],
   "source": []
  }
 ],
 "metadata": {
  "kernelspec": {
   "display_name": "Python 3",
   "language": "python",
   "name": "python3"
  },
  "language_info": {
   "codemirror_mode": {
    "name": "ipython",
    "version": 3
   },
   "file_extension": ".py",
   "mimetype": "text/x-python",
   "name": "python",
   "nbconvert_exporter": "python",
   "pygments_lexer": "ipython3",
   "version": "3.8.8"
  }
 },
 "nbformat": 4,
 "nbformat_minor": 5
}
