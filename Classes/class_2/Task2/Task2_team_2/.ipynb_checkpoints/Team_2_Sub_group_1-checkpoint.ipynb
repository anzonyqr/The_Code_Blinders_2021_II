{
 "cells": [
  {
   "cell_type": "markdown",
   "id": "32284555",
   "metadata": {},
   "source": [
    "## Task 2 - Team 2- Subgroup 2 - Elibeth Cirilo"
   ]
  },
  {
   "cell_type": "markdown",
   "id": "cd00d2b1",
   "metadata": {},
   "source": [
    "1.- Crear el diccionario \"covid\" a partir de la gráfica ( 10 paises con mas muertes por el COVID_19) <br>\n",
    "key (llave):Paises  \n",
    "value(valores): Número de fallecidos\n",
    "\n",
    "<img src=\"imágenes/COVID.png\" alt=\"REPO\" width=\"500\" title = \"REPO\"/>"
   ]
  },
  {
   "cell_type": "markdown",
   "id": "8d27cf64",
   "metadata": {},
   "source": [
    "We first create the \"covid\" dictionary with countries as keys and number of deaths as values."
   ]
  },
  {
   "cell_type": "code",
   "execution_count": null,
   "id": "46896240",
   "metadata": {},
   "outputs": [],
   "source": [
    "covid = {\"Guatemala\" : 11615  ,\n",
    "         \"Paraguay\"  : 15633  ,\n",
    "         \"Bolivia\"   : 18350  ,\n",
    "         \"Ecuador\"   : 32134  ,\n",
    "         \"Chile\"     : 36748  ,\n",
    "         \"Argentina\" : 110966 ,\n",
    "         \"Colombia\"  : 124474 ,\n",
    "         \"Peru\"      : 198031 ,\n",
    "         \"Mexico\"    : 255452 ,\n",
    "         \"Brasil\"    : 576645\n",
    "        }"
   ]
  },
  {
   "cell_type": "markdown",
   "id": "1a016f77",
   "metadata": {},
   "source": [
    "2. Muestre llaves y valores del dicionario covid."
   ]
  },
  {
   "cell_type": "markdown",
   "id": "742bde71",
   "metadata": {},
   "source": [
    "Then, we display the \"covid\" dictionary"
   ]
  },
  {
   "cell_type": "markdown",
   "id": "c76a2bae",
   "metadata": {},
   "source": [
    "1. First way: I can simply display keys by using  _keys_ method."
   ]
  },
  {
   "cell_type": "code",
   "execution_count": null,
   "id": "80c819e6",
   "metadata": {
    "scrolled": true
   },
   "outputs": [],
   "source": [
    "print(\"This dictionary has number of deaths in\", covid.keys())"
   ]
  },
  {
   "cell_type": "markdown",
   "id": "10a65e82",
   "metadata": {},
   "source": [
    "2. Second way: Instead, I can display countries."
   ]
  },
  {
   "cell_type": "code",
   "execution_count": null,
   "id": "977c6e11",
   "metadata": {},
   "outputs": [],
   "source": [
    "countries = []\n",
    "countries_str = \"\"\n",
    "for i in covid.keys():\n",
    "    countries.append(i)\n",
    "    countries_str = countries_str + \", \" + i"
   ]
  },
  {
   "cell_type": "code",
   "execution_count": null,
   "id": "14eeb6e8",
   "metadata": {
    "scrolled": true
   },
   "outputs": [],
   "source": [
    "print(\"This dictionary has number of deaths in\", countries)"
   ]
  },
  {
   "cell_type": "code",
   "execution_count": null,
   "id": "b376a263",
   "metadata": {
    "scrolled": true
   },
   "outputs": [],
   "source": [
    "print(\"This dictionary has number of deaths in\", countries_str)"
   ]
  },
  {
   "cell_type": "markdown",
   "id": "15850443",
   "metadata": {},
   "source": [
    "1. First way: Once again, I can simply display values using _values_ method"
   ]
  },
  {
   "cell_type": "code",
   "execution_count": null,
   "id": "ff417343",
   "metadata": {
    "scrolled": false
   },
   "outputs": [],
   "source": [
    "print(\"This dictionary has number of deaths, which are\", covid.values())"
   ]
  },
  {
   "cell_type": "markdown",
   "id": "5b7085bd",
   "metadata": {},
   "source": [
    "2. Second way: Instead, I can display number of deaths as follows."
   ]
  },
  {
   "cell_type": "code",
   "execution_count": null,
   "id": "ef23ab01",
   "metadata": {},
   "outputs": [],
   "source": [
    "deaths = []\n",
    "deaths_str = \"\"\n",
    "for i in covid.values():\n",
    "    deaths.append(i)\n",
    "    i = str(i)\n",
    "    deaths_str = deaths_str + \", \" + i"
   ]
  },
  {
   "cell_type": "code",
   "execution_count": null,
   "id": "d2279df5",
   "metadata": {},
   "outputs": [],
   "source": [
    "print(\"This dictionary has number of deaths, which are\", deaths)"
   ]
  },
  {
   "cell_type": "code",
   "execution_count": null,
   "id": "1f83e05c",
   "metadata": {
    "scrolled": true
   },
   "outputs": [],
   "source": [
    "print(\"This dictionary has number of deaths, which are:\", deaths_str)"
   ]
  },
  {
   "cell_type": "markdown",
   "id": "da344347",
   "metadata": {},
   "source": [
    "3. Third way: Alternatevely, I can display values and keys together using:"
   ]
  },
  {
   "cell_type": "code",
   "execution_count": null,
   "id": "d4ed54d3",
   "metadata": {},
   "outputs": [],
   "source": [
    "iteration = 0\n",
    "print(\"This dictionary contains number of deaths in each country:\\n\")\n",
    "for k,v in covid.items():\n",
    "    print(k, \"has\", v, \"number of deaths.\")\n",
    "    iteration=iteration+1"
   ]
  },
  {
   "cell_type": "markdown",
   "id": "39c2b74e",
   "metadata": {},
   "source": [
    "3.- Actualice el diccionario covid ya que las ultimas noticias indican que en Uruguay aumento el número de fallecidos<br> \n",
    "por el COVID-19 en 14528 y Perú  en 210250."
   ]
  },
  {
   "cell_type": "markdown",
   "id": "2d287c7a",
   "metadata": {},
   "source": [
    "1. First way: adding a new observation (Uruguay), and updating Peru. Then sorting the values and select the top 10."
   ]
  },
  {
   "cell_type": "code",
   "execution_count": null,
   "id": "059bb0d6",
   "metadata": {},
   "outputs": [],
   "source": [
    "# Adding Uruguay and updating Peru\n",
    "covid_eli = covid\n",
    "covid_eli[\"Uruguay\"] = 14528\n",
    "covid_eli[\"Peru\"] = 210250"
   ]
  },
  {
   "cell_type": "code",
   "execution_count": null,
   "id": "0be38f49",
   "metadata": {},
   "outputs": [],
   "source": [
    "covid_sort = dict(sorted(covid_eli.items(), key=lambda item: item[1]))"
   ]
  },
  {
   "cell_type": "code",
   "execution_count": null,
   "id": "5d64026e",
   "metadata": {},
   "outputs": [],
   "source": [
    "covid_sort"
   ]
  },
  {
   "cell_type": "code",
   "execution_count": null,
   "id": "e5d5fc39",
   "metadata": {},
   "outputs": [],
   "source": [
    "min_val = min(covid_sort.values())\n",
    "min_val"
   ]
  },
  {
   "cell_type": "code",
   "execution_count": null,
   "id": "d40642ae",
   "metadata": {},
   "outputs": [],
   "source": [
    "highest = covid_sort.keys() - (k for k, v in covid_sort.items() if v == min_val)\n",
    "highest"
   ]
  },
  {
   "cell_type": "code",
   "execution_count": null,
   "id": "8c7cc16e",
   "metadata": {},
   "outputs": [],
   "source": [
    "covid_new = {k: v for k, v in covid_sort.items() if v > min_val}"
   ]
  },
  {
   "cell_type": "markdown",
   "id": "153141d1",
   "metadata": {},
   "source": [
    "This will have the 10 highest values after updating"
   ]
  },
  {
   "cell_type": "code",
   "execution_count": null,
   "id": "8ff0a54a",
   "metadata": {},
   "outputs": [],
   "source": [
    "covid_new"
   ]
  },
  {
   "cell_type": "markdown",
   "id": "aae6cb98",
   "metadata": {},
   "source": [
    "2. A second way: A more manually way coul be done by dropping Guatemala (the new lowest) and adding Uruguay. Uruguay will replace Guatemala since it has more deaths. "
   ]
  },
  {
   "cell_type": "code",
   "execution_count": null,
   "id": "cf3f95e1",
   "metadata": {},
   "outputs": [],
   "source": [
    "# deleting Guatemala\n",
    "del covid[\"Guatemala\"]\n",
    "\n",
    "# Adding Uruguay\n",
    "covid[\"Uruguay\"] = 14528 "
   ]
  },
  {
   "cell_type": "code",
   "execution_count": null,
   "id": "6d836c48",
   "metadata": {},
   "outputs": [],
   "source": [
    "covid[\"Uruguay\"]"
   ]
  },
  {
   "cell_type": "markdown",
   "id": "3a6bb590",
   "metadata": {},
   "source": [
    "Updating Peru"
   ]
  },
  {
   "cell_type": "code",
   "execution_count": null,
   "id": "6cfbcd69",
   "metadata": {},
   "outputs": [],
   "source": [
    "covid[\"Peru\"] = 210250"
   ]
  },
  {
   "cell_type": "code",
   "execution_count": null,
   "id": "4d5da628",
   "metadata": {
    "scrolled": false
   },
   "outputs": [],
   "source": [
    "covid[\"Peru\"] "
   ]
  },
  {
   "cell_type": "markdown",
   "id": "914fdf94",
   "metadata": {},
   "source": [
    "Finally, here we have the updated dictionary."
   ]
  },
  {
   "cell_type": "code",
   "execution_count": null,
   "id": "71bcfc25",
   "metadata": {},
   "outputs": [],
   "source": [
    "covid"
   ]
  },
  {
   "cell_type": "markdown",
   "id": "dd781114",
   "metadata": {},
   "source": [
    "The dictionary will be up to date including Uruguay."
   ]
  },
  {
   "cell_type": "code",
   "execution_count": null,
   "id": "de92d403",
   "metadata": {
    "scrolled": true
   },
   "outputs": [],
   "source": [
    "print(\"This dictionary has been updated\\n\", covid)"
   ]
  },
  {
   "cell_type": "code",
   "execution_count": null,
   "id": "57e84fe6",
   "metadata": {},
   "outputs": [],
   "source": [
    "iteration = 0\n",
    "print(\"This dictionary has been updated for Peru and Uruguay has been added. It still shows the number of deaths in each country: \\n\")\n",
    "for k,v in covid.items():\n",
    "    print(k, \"has\", v, \"number of deaths.\")\n",
    "    iteration=iteration+1"
   ]
  },
  {
   "cell_type": "markdown",
   "id": "000594ba",
   "metadata": {},
   "source": [
    "4.- Crear el diccionario \"dic1\" a partir de las listas:\n",
    "+ lista1=[10, 20, 30] y \n",
    "+ lista2[(1, 2 ,3),['Pedro',100],['control','educación']]\n"
   ]
  },
  {
   "cell_type": "code",
   "execution_count": null,
   "id": "c4b7843d",
   "metadata": {},
   "outputs": [],
   "source": [
    "lista1 = [10, 20, 30]\n",
    "lista2 = [(1, 2 ,3), ['Pedro',100], ['control','educación']]"
   ]
  },
  {
   "cell_type": "code",
   "execution_count": null,
   "id": "08a7d7cd",
   "metadata": {},
   "outputs": [],
   "source": [
    "dic1 = dict(zip(lista1,lista2))"
   ]
  },
  {
   "cell_type": "code",
   "execution_count": null,
   "id": "051a3638",
   "metadata": {},
   "outputs": [],
   "source": [
    "print(\"Este es el diccionario:\")\n",
    "print(dic1)"
   ]
  },
  {
   "cell_type": "markdown",
   "id": "2ce26a64",
   "metadata": {},
   "source": [
    "5.- Escriba el código que permita acceder a la cadena 'educación' del diccinario dic1.<br>\n"
   ]
  },
  {
   "cell_type": "code",
   "execution_count": null,
   "id": "992aef30",
   "metadata": {},
   "outputs": [],
   "source": [
    "dic1[30][1]"
   ]
  },
  {
   "cell_type": "markdown",
   "id": "99bbafc3",
   "metadata": {},
   "source": [
    "6.- Escriba el código que permita cambiar  la cadena 'Pedro' por 'Alfredo' en  diccinario dic1."
   ]
  },
  {
   "cell_type": "markdown",
   "id": "ba328bbe",
   "metadata": {},
   "source": [
    "Changing Pedro for Alfredo"
   ]
  },
  {
   "cell_type": "code",
   "execution_count": null,
   "id": "e45446f9",
   "metadata": {},
   "outputs": [],
   "source": [
    "dic1[20][0] = \"Alfredo\" "
   ]
  },
  {
   "cell_type": "markdown",
   "id": "751e5b62",
   "metadata": {},
   "source": [
    "Showing the result"
   ]
  },
  {
   "cell_type": "code",
   "execution_count": null,
   "id": "52eaaeab",
   "metadata": {
    "scrolled": true
   },
   "outputs": [],
   "source": [
    "dic1[20][0]"
   ]
  },
  {
   "cell_type": "code",
   "execution_count": null,
   "id": "91ad4d0f",
   "metadata": {},
   "outputs": [],
   "source": [
    "print(\"After the exercise, Pedro has changed to\", dic1[20][0])"
   ]
  },
  {
   "cell_type": "markdown",
   "id": "e0d85e5e",
   "metadata": {},
   "source": [
    "7.- Crear el diccionario \"cod\" a partir de las listas:<br>\n",
    "\n",
    "Localidad = ['Fray Martin','Santa Rosa de Puquio','Cuchicorral','Santiago de Punchauca','La Cruz (11 Amigos)','Cerro Cañon','Cabaña Suche','San Lorenzo','Jose Carlos Mariategui','Pascal','La Esperanza','Fundo Pancha Paula','Olfa','Rio Seco','Paraiso','El Rosario','Cerro Puquio','La Campana','Las Animas','Vetancio','Roma Alta','San Jose','San Pedro de Carabayllo','Huacoy','Fundo Pampa Libre','Ex Fundo Santa Ines','Reposo','Carmelito','Santa Elena','Don Luis','Santa Ines Parcela','Asociacion Santa Ines','Roma Baja','Residencial Santa Lucia','San Francisco','Santa Margarita - Molinos','Sipan Peru','Fundo Cuadros','Bello Horizonte','El Hueco','Ex Fundo Mariategui','Naranjito','Vista Hermosa','El Sabroso de Jose Carlos Mariategui','Granja Carabayllo','Agropecuario Valle el Chillon','Camino Real','Copacabana','El Trebol','Tablada la Virgen','San Fernando de Carabayllo','San Fernando de Copacabana','La Manzana','Chacra Grande','Torres de Copacabana','San Pedro de Carabayllo','San Lorenzo','Chaclacayo','Chorrillos','Cieneguilla','Lindero','Pichicato','San Isidro','San Vicente','Piedra Liza','Santa Rosa de Chontay (Chontay)','La Libertad','El Agustino','Independencia','Jesus Maria','La Molina','La Victoria','Lince','Las Palmeras','Chosica','Lurin','Los Almacigos','Rinconada del Puruhuay','Fundo Santa Genoveva','Los Maderos','Casco Viejo','Vista Alegre','Buena Vista Alta','Lomas Pucara','Fundo la Querencia','Magdalena del Mar','Pueblo Libre','Miraflores','Pachacamac','Puente Manchay','Tambo Inga','Pampa Flores','Manchay Alto Lote B','Invasion Cementerio','Manchay Bajo','Santa Rosa de Mal Paso','Cardal','Jatosisa','Tomina','Pucusana','Honda','Quipa','Los Pelicanos','Playa Puerto Bello','Ñaves','Granja Santa Elena','Alvatroz II','Poseidon - Lobo Varado','Playa Minka Mar','Playa Acantilado','Puente Piedra','Punta Hermosa','Capilla Lucumo','Cucuya','Pampapacta','Avicola San Cirilo de Loma Negra - 03','Avicola San Cirilo de Loma Negra - 02','Avicola San Cirilo de Loma Negra - 01','Pampa Mamay','Cerro Botija','Agricultores y Ganaderos','Pampa Malanche Avicola Puma','Punta Negra','Chancheria','Rimac','San Bartolo','Plantel 41','Granja 4','Granja 5','Granja 07','Granja 44','Granja 47','Santa Maria I','Las Torres Santa Fe','San Francisco de Borja','San Isidro','San Juan de Lurigancho','Ciudad de Dios','San Luis','Barrio Obrero Industrial','San Miguel','Santa Anita - los Ficus','Santa Maria del Mar','Don Bruno','Santa Rosa','Santiago de Surco','Surquillo','Villa el Salvador','Villa Maria del Triunfo']<br>\n",
    "\n",
    "<br> Cod_Postal=[15001,15003,15004,15006,15018,15019,15046,15072,15079,15081,15082,15083,15088,15123,15004,15011,15012,15019,15022,15023,15026,15476,15479,15483,15487,15491,15494,15498,15047,15049,15063,15082,15083,15121,15122,15313,15316,15318,15319,15320,15321,15324,15320,15320,15320,15320,15320,15320,15121,15320,15320,15121,15320,15320,15121,15121,15122,15122,15121,15121,15121,15320,15320,15320,15320,15320,15320,15121,15121,15121,15320,15121,15319,15121,15121,15121,15320,15320,15121,15121,15121,15121,15320,15320,15320,15122,15122,15122,15122,15122,15122,15122,15122,15121,15121,15122,15122,15121,15121,15122,15122,15121,15122,15122,15122,15472,15476,15054,15056,15057,15058,15063,15064,15066,15067,15593,15594,15593,15593,15593,15593,15593,15593,15593,15311,15312,15313,15314,15316,15324,15326,15327,15328,15332,15003,15004,15006,15007,15008,15009,15011,15018,15022,15311,15328,15331,15332,15333,15046]<br>\n"
   ]
  },
  {
   "cell_type": "markdown",
   "id": "53f83a23",
   "metadata": {},
   "source": [
    "1. Creating the dictionary _cod_"
   ]
  },
  {
   "cell_type": "code",
   "execution_count": null,
   "id": "98d8fffa",
   "metadata": {},
   "outputs": [],
   "source": [
    "Localidad = ['Fray Martin','Santa Rosa de Puquio','Cuchicorral','Santiago de Punchauca','La Cruz (11 Amigos)','Cerro Cañon','Cabaña Suche','San Lorenzo','Jose Carlos Mariategui','Pascal','La Esperanza','Fundo Pancha Paula','Olfa','Rio Seco','Paraiso','El Rosario','Cerro Puquio','La Campana','Las Animas','Vetancio','Roma Alta','San Jose','San Pedro de Carabayllo','Huacoy','Fundo Pampa Libre','Ex Fundo Santa Ines','Reposo','Carmelito','Santa Elena','Don Luis','Santa Ines Parcela','Asociacion Santa Ines','Roma Baja','Residencial Santa Lucia','San Francisco','Santa Margarita - Molinos','Sipan Peru','Fundo Cuadros','Bello Horizonte','El Hueco','Ex Fundo Mariategui','Naranjito','Vista Hermosa','El Sabroso de Jose Carlos Mariategui','Granja Carabayllo','Agropecuario Valle el Chillon','Camino Real','Copacabana','El Trebol','Tablada la Virgen','San Fernando de Carabayllo','San Fernando de Copacabana','La Manzana','Chacra Grande','Torres de Copacabana','San Pedro de Carabayllo','San Lorenzo','Chaclacayo','Chorrillos','Cieneguilla','Lindero','Pichicato','San Isidro','San Vicente','Piedra Liza','Santa Rosa de Chontay (Chontay)','La Libertad','El Agustino','Independencia','Jesus Maria','La Molina','La Victoria','Lince','Las Palmeras','Chosica','Lurin','Los Almacigos','Rinconada del Puruhuay','Fundo Santa Genoveva','Los Maderos','Casco Viejo','Vista Alegre','Buena Vista Alta','Lomas Pucara','Fundo la Querencia','Magdalena del Mar','Pueblo Libre','Miraflores','Pachacamac','Puente Manchay','Tambo Inga','Pampa Flores','Manchay Alto Lote B','Invasion Cementerio','Manchay Bajo','Santa Rosa de Mal Paso','Cardal','Jatosisa','Tomina','Pucusana','Honda','Quipa','Los Pelicanos','Playa Puerto Bello','Ñaves','Granja Santa Elena','Alvatroz II','Poseidon - Lobo Varado','Playa Minka Mar','Playa Acantilado','Puente Piedra','Punta Hermosa','Capilla Lucumo','Cucuya','Pampapacta','Avicola San Cirilo de Loma Negra - 03','Avicola San Cirilo de Loma Negra - 02','Avicola San Cirilo de Loma Negra - 01','Pampa Mamay','Cerro Botija','Agricultores y Ganaderos','Pampa Malanche Avicola Puma','Punta Negra','Chancheria','Rimac','San Bartolo','Plantel 41','Granja 4','Granja 5','Granja 07','Granja 44','Granja 47','Santa Maria I','Las Torres Santa Fe','San Francisco de Borja','San Isidro','San Juan de Lurigancho','Ciudad de Dios','San Luis','Barrio Obrero Industrial','San Miguel','Santa Anita - los Ficus','Santa Maria del Mar','Don Bruno','Santa Rosa','Santiago de Surco','Surquillo','Villa el Salvador','Villa Maria del Triunfo']"
   ]
  },
  {
   "cell_type": "code",
   "execution_count": null,
   "id": "bba6e969",
   "metadata": {},
   "outputs": [],
   "source": [
    "Cod_Postal=[15001,15003,15004,15006,15018,15019,15046,15072,15079,15081,15082,15083,15088,15123,15004,15011,15012,15019,15022,15023,15026,15476,15479,15483,15487,15491,15494,15498,15047,15049,15063,15082,15083,15121,15122,15313,15316,15318,15319,15320,15321,15324,15320,15320,15320,15320,15320,15320,15121,15320,15320,15121,15320,15320,15121,15121,15122,15122,15121,15121,15121,15320,15320,15320,15320,15320,15320,15121,15121,15121,15320,15121,15319,15121,15121,15121,15320,15320,15121,15121,15121,15121,15320,15320,15320,15122,15122,15122,15122,15122,15122,15122,15122,15121,15121,15122,15122,15121,15121,15122,15122,15121,15122,15122,15122,15472,15476,15054,15056,15057,15058,15063,15064,15066,15067,15593,15594,15593,15593,15593,15593,15593,15593,15593,15311,15312,15313,15314,15316,15324,15326,15327,15328,15332,15003,15004,15006,15007,15008,15009,15011,15018,15022,15311,15328,15331,15332,15333,15046]"
   ]
  },
  {
   "cell_type": "code",
   "execution_count": null,
   "id": "9251b84e",
   "metadata": {},
   "outputs": [],
   "source": [
    "cod = dict(zip(Localidad, Cod_Postal))"
   ]
  },
  {
   "cell_type": "code",
   "execution_count": null,
   "id": "5aad8365",
   "metadata": {},
   "outputs": [],
   "source": [
    "cod"
   ]
  },
  {
   "cell_type": "markdown",
   "id": "4692887b",
   "metadata": {},
   "source": [
    "8.- Cambiar el código postal de 'San Isidro' a 66666 y muestre el resultado."
   ]
  },
  {
   "cell_type": "markdown",
   "id": "04d73aae",
   "metadata": {},
   "source": [
    "Changing the zip code for San Isidro"
   ]
  },
  {
   "cell_type": "code",
   "execution_count": null,
   "id": "21b8aad4",
   "metadata": {},
   "outputs": [],
   "source": [
    "cod[\"San Isidro\"] = 66666"
   ]
  },
  {
   "cell_type": "markdown",
   "id": "3a88fb77",
   "metadata": {},
   "source": [
    "Showing the result"
   ]
  },
  {
   "cell_type": "code",
   "execution_count": null,
   "id": "660e9a8b",
   "metadata": {},
   "outputs": [],
   "source": [
    "print(\"After the change, San Isidro has the new zip code\", cod[\"San Isidro\"])"
   ]
  },
  {
   "cell_type": "markdown",
   "id": "5c78f68a",
   "metadata": {},
   "source": [
    "# Task 2 - Team 2- Subgroup 2 -  Brayahm Najarro "
   ]
  },
  {
   "cell_type": "markdown",
   "id": "b9261ada",
   "metadata": {},
   "source": [
    "1.- Crear el diccionario \"covid\" a partir de la gráfica ( 10 paises con mas muertes por el COVID_19) <br>\n",
    "key (llave):Paises  \n",
    "value(valores): Número de fallecidos"
   ]
  },
  {
   "cell_type": "code",
   "execution_count": 60,
   "id": "7e5d1388",
   "metadata": {
    "collapsed": true
   },
   "outputs": [
    {
     "data": {
      "text/plain": [
       "['Brasil',\n",
       " 'México',\n",
       " 'Perú',\n",
       " 'Colombia',\n",
       " 'Argentina',\n",
       " 'Chile',\n",
       " 'Ecuador',\n",
       " 'Bolivia',\n",
       " 'Paraguay',\n",
       " 'Guatemala']"
      ]
     },
     "execution_count": 60,
     "metadata": {},
     "output_type": "execute_result"
    }
   ],
   "source": [
    "paises=[\"Brasil\",\"México\",\"Perú\",\"Colombia\",\"Argentina\",\"Chile\",\"Ecuador\",\"Bolivia\",\"Paraguay\",\"Guatemala\"]\n",
    "paises"
   ]
  },
  {
   "cell_type": "code",
   "execution_count": 50,
   "id": "8a5785e0",
   "metadata": {
    "collapsed": true
   },
   "outputs": [
    {
     "data": {
      "text/plain": [
       "[576645, 255452, 198031, 124474, 110966, 36748, 32134, 18350, 15633, 11615]"
      ]
     },
     "execution_count": 50,
     "metadata": {},
     "output_type": "execute_result"
    }
   ],
   "source": [
    "muertes=[576645,255452,198031,124474,110966,36748,32134,18350,15633,11615]\n",
    "muertes"
   ]
  },
  {
   "cell_type": "code",
   "execution_count": 51,
   "id": "c355695f",
   "metadata": {
    "collapsed": true
   },
   "outputs": [
    {
     "data": {
      "text/plain": [
       "<zip at 0x1087ca300>"
      ]
     },
     "execution_count": 51,
     "metadata": {},
     "output_type": "execute_result"
    }
   ],
   "source": [
    "pandemia= zip(paises, muertes)\n",
    "pandemia"
   ]
  },
  {
   "cell_type": "markdown",
   "id": "10f92cc7",
   "metadata": {},
   "source": [
    "2. Muestre llaves y valores del dicionario covid."
   ]
  },
  {
   "cell_type": "code",
   "execution_count": 52,
   "id": "a1da39a8",
   "metadata": {
    "collapsed": true
   },
   "outputs": [
    {
     "name": "stdout",
     "output_type": "stream",
     "text": [
      "{'Brasil': 576645, 'México': 255452, 'Perú': 198031, 'Colombia': 124474, 'Argentina': 110966, 'Chile': 36748, 'Ecuador': 32134, 'Bolivia': 18350, 'Paraguay': 15633, 'Guatemala': 11615}\n"
     ]
    },
    {
     "data": {
      "text/plain": [
       "10"
      ]
     },
     "execution_count": 52,
     "metadata": {},
     "output_type": "execute_result"
    }
   ],
   "source": [
    "covid=dict(pandemia)\n",
    "print(covid)\n",
    "len(covid)"
   ]
  },
  {
   "cell_type": "markdown",
   "id": "27d4a2ec",
   "metadata": {},
   "source": [
    "3.- Actualice el diccionario covid ya que las ultimas noticias indican que en Uruguay aumento el número de fallecidos<br> \n",
    "por el COVID-19 en 14528 y Perú  en 210250."
   ]
  },
  {
   "cell_type": "code",
   "execution_count": 99,
   "id": "8bb0f1eb",
   "metadata": {
    "collapsed": true
   },
   "outputs": [
    {
     "data": {
      "text/plain": [
       "{'Brasil': 576645,\n",
       " 'México': 255452,\n",
       " 'Perú': 210250,\n",
       " 'Colombia': 124474,\n",
       " 'Argentina': 110966,\n",
       " 'Chile': 36748,\n",
       " 'Ecuador': 32134,\n",
       " 'Bolivia': 18350,\n",
       " 'Paraguay': 15633,\n",
       " 'Uruguay': 14528}"
      ]
     },
     "execution_count": 99,
     "metadata": {},
     "output_type": "execute_result"
    }
   ],
   "source": [
    "covid"
   ]
  },
  {
   "cell_type": "code",
   "execution_count": 100,
   "id": "dc2b41e7",
   "metadata": {
    "collapsed": true
   },
   "outputs": [
    {
     "data": {
      "text/plain": [
       "{'Brasil': 576645,\n",
       " 'México': 255452,\n",
       " 'Perú': 210250,\n",
       " 'Colombia': 124474,\n",
       " 'Argentina': 110966,\n",
       " 'Chile': 36748,\n",
       " 'Ecuador': 32134,\n",
       " 'Bolivia': 18350,\n",
       " 'Paraguay': 15633,\n",
       " 'Uruguay': 14528}"
      ]
     },
     "execution_count": 100,
     "metadata": {},
     "output_type": "execute_result"
    }
   ],
   "source": [
    "covid[\"Uruguay\"]=14528\n",
    "covid"
   ]
  },
  {
   "cell_type": "code",
   "execution_count": 101,
   "id": "62598089",
   "metadata": {
    "collapsed": true
   },
   "outputs": [
    {
     "data": {
      "text/plain": [
       "{'Brasil': 576645,\n",
       " 'México': 255452,\n",
       " 'Perú': 210250,\n",
       " 'Colombia': 124474,\n",
       " 'Argentina': 110966,\n",
       " 'Chile': 36748,\n",
       " 'Ecuador': 32134,\n",
       " 'Bolivia': 18350,\n",
       " 'Paraguay': 15633,\n",
       " 'Uruguay': 14528}"
      ]
     },
     "execution_count": 101,
     "metadata": {},
     "output_type": "execute_result"
    }
   ],
   "source": [
    "covid[\"Perú\"]=210250\n",
    "covid"
   ]
  },
  {
   "cell_type": "markdown",
   "id": "b3753e67",
   "metadata": {},
   "source": [
    "4.- Crear el diccionario \"dic1\" a partir de las listas:\n",
    "+ lista1=[10, 20, 30] y \n",
    "+ lista2[(1, 2 ,3),['Pedro',100],['control','educación']]"
   ]
  },
  {
   "cell_type": "code",
   "execution_count": 103,
   "id": "edd51136",
   "metadata": {
    "collapsed": true
   },
   "outputs": [
    {
     "data": {
      "text/plain": [
       "[10, 20, 30]"
      ]
     },
     "execution_count": 103,
     "metadata": {},
     "output_type": "execute_result"
    }
   ],
   "source": [
    "lista1=[10, 20, 30]\n",
    "lista1"
   ]
  },
  {
   "cell_type": "code",
   "execution_count": 70,
   "id": "3a97d4dd",
   "metadata": {
    "collapsed": true
   },
   "outputs": [
    {
     "data": {
      "text/plain": [
       "[(1, 2, 3), ['Pedro', 100], ['control', 'educación']]"
      ]
     },
     "execution_count": 70,
     "metadata": {},
     "output_type": "execute_result"
    }
   ],
   "source": [
    "lista2=[(1,2,3),['Pedro',100],['control','educación']]\n",
    "lista2"
   ]
  },
  {
   "cell_type": "code",
   "execution_count": 74,
   "id": "be0cd3e8",
   "metadata": {
    "scrolled": true
   },
   "outputs": [
    {
     "name": "stdout",
     "output_type": "stream",
     "text": [
      "{10: (1, 2, 3), 20: ['Pedro', 100], 30: ['control', 'educación']}\n"
     ]
    }
   ],
   "source": [
    "dic1=dict(zip(lista1,lista2))\n",
    "print(dic1)"
   ]
  },
  {
   "cell_type": "markdown",
   "id": "d7233c86",
   "metadata": {},
   "source": [
    "5.- Escriba el código que permita acceder a la cadena 'educación' del diccinario dic1.<br>\n"
   ]
  },
  {
   "cell_type": "code",
   "execution_count": 120,
   "id": "6975e454",
   "metadata": {
    "collapsed": true
   },
   "outputs": [
    {
     "data": {
      "text/plain": [
       "'educación'"
      ]
     },
     "execution_count": 120,
     "metadata": {},
     "output_type": "execute_result"
    }
   ],
   "source": [
    "dic1[30][1]"
   ]
  },
  {
   "cell_type": "markdown",
   "id": "7c955f93",
   "metadata": {},
   "source": [
    "6.- Escriba el código que permita cambiar  la cadena 'Pedro' por 'Alfredo' en  diccinario dic1."
   ]
  },
  {
   "cell_type": "code",
   "execution_count": 163,
   "id": "b4373e52",
   "metadata": {
    "collapsed": true
   },
   "outputs": [
    {
     "name": "stdout",
     "output_type": "stream",
     "text": [
      "La cadena Pedro sera sustituida por ['Alfredo']\n"
     ]
    }
   ],
   "source": [
    "dic1[20][0]\n",
    "print(\"La cadena Pedro sera sustituida por\",dic1[20][0])"
   ]
  },
  {
   "cell_type": "markdown",
   "id": "ebb367d7",
   "metadata": {},
   "source": [
    "7.- Crear el diccionario \"cod\" a partir de las listas:<br>\n",
    "\n",
    "Localidad = ['Fray Martin','Santa Rosa de Puquio','Cuchicorral','Santiago de Punchauca','La Cruz (11 Amigos)','Cerro Cañon','Cabaña Suche','San Lorenzo','Jose Carlos Mariategui','Pascal','La Esperanza','Fundo Pancha Paula','Olfa','Rio Seco','Paraiso','El Rosario','Cerro Puquio','La Campana','Las Animas','Vetancio','Roma Alta','San Jose','San Pedro de Carabayllo','Huacoy','Fundo Pampa Libre','Ex Fundo Santa Ines','Reposo','Carmelito','Santa Elena','Don Luis','Santa Ines Parcela','Asociacion Santa Ines','Roma Baja','Residencial Santa Lucia','San Francisco','Santa Margarita - Molinos','Sipan Peru','Fundo Cuadros','Bello Horizonte','El Hueco','Ex Fundo Mariategui','Naranjito','Vista Hermosa','El Sabroso de Jose Carlos Mariategui','Granja Carabayllo','Agropecuario Valle el Chillon','Camino Real','Copacabana','El Trebol','Tablada la Virgen','San Fernando de Carabayllo','San Fernando de Copacabana','La Manzana','Chacra Grande','Torres de Copacabana','San Pedro de Carabayllo','San Lorenzo','Chaclacayo','Chorrillos','Cieneguilla','Lindero','Pichicato','San Isidro','San Vicente','Piedra Liza','Santa Rosa de Chontay (Chontay)','La Libertad','El Agustino','Independencia','Jesus Maria','La Molina','La Victoria','Lince','Las Palmeras','Chosica','Lurin','Los Almacigos','Rinconada del Puruhuay','Fundo Santa Genoveva','Los Maderos','Casco Viejo','Vista Alegre','Buena Vista Alta','Lomas Pucara','Fundo la Querencia','Magdalena del Mar','Pueblo Libre','Miraflores','Pachacamac','Puente Manchay','Tambo Inga','Pampa Flores','Manchay Alto Lote B','Invasion Cementerio','Manchay Bajo','Santa Rosa de Mal Paso','Cardal','Jatosisa','Tomina','Pucusana','Honda','Quipa','Los Pelicanos','Playa Puerto Bello','Ñaves','Granja Santa Elena','Alvatroz II','Poseidon - Lobo Varado','Playa Minka Mar','Playa Acantilado','Puente Piedra','Punta Hermosa','Capilla Lucumo','Cucuya','Pampapacta','Avicola San Cirilo de Loma Negra - 03','Avicola San Cirilo de Loma Negra - 02','Avicola San Cirilo de Loma Negra - 01','Pampa Mamay','Cerro Botija','Agricultores y Ganaderos','Pampa Malanche Avicola Puma','Punta Negra','Chancheria','Rimac','San Bartolo','Plantel 41','Granja 4','Granja 5','Granja 07','Granja 44','Granja 47','Santa Maria I','Las Torres Santa Fe','San Francisco de Borja','San Isidro','San Juan de Lurigancho','Ciudad de Dios','San Luis','Barrio Obrero Industrial','San Miguel','Santa Anita - los Ficus','Santa Maria del Mar','Don Bruno','Santa Rosa','Santiago de Surco','Surquillo','Villa el Salvador','Villa Maria del Triunfo']<br>\n",
    "\n",
    "<br> Cod_Postal=[15001,15003,15004,15006,15018,15019,15046,15072,15079,15081,15082,15083,15088,15123,15004,15011,15012,15019,15022,15023,15026,15476,15479,15483,15487,15491,15494,15498,15047,15049,15063,15082,15083,15121,15122,15313,15316,15318,15319,15320,15321,15324,15320,15320,15320,15320,15320,15320,15121,15320,15320,15121,15320,15320,15121,15121,15122,15122,15121,15121,15121,15320,15320,15320,15320,15320,15320,15121,15121,15121,15320,15121,15319,15121,15121,15121,15320,15320,15121,15121,15121,15121,15320,15320,15320,15122,15122,15122,15122,15122,15122,15122,15122,15121,15121,15122,15122,15121,15121,15122,15122,15121,15122,15122,15122,15472,15476,15054,15056,15057,15058,15063,15064,15066,15067,15593,15594,15593,15593,15593,15593,15593,15593,15593,15311,15312,15313,15314,15316,15324,15326,15327,15328,15332,15003,15004,15006,15007,15008,15009,15011,15018,15022,15311,15328,15331,15332,15333,15046]<br>"
   ]
  },
  {
   "cell_type": "code",
   "execution_count": 139,
   "id": "fcb343b5",
   "metadata": {},
   "outputs": [],
   "source": [
    "Localidad = ['Fray Martin','Santa Rosa de Puquio','Cuchicorral','Santiago de Punchauca','La Cruz (11 Amigos)','Cerro Cañon','Cabaña Suche','San Lorenzo','Jose Carlos Mariategui','Pascal','La Esperanza','Fundo Pancha Paula','Olfa','Rio Seco','Paraiso','El Rosario','Cerro Puquio','La Campana','Las Animas','Vetancio','Roma Alta','San Jose','San Pedro de Carabayllo','Huacoy','Fundo Pampa Libre','Ex Fundo Santa Ines','Reposo','Carmelito','Santa Elena','Don Luis','Santa Ines Parcela','Asociacion Santa Ines','Roma Baja','Residencial Santa Lucia','San Francisco','Santa Margarita - Molinos','Sipan Peru','Fundo Cuadros','Bello Horizonte','El Hueco','Ex Fundo Mariategui','Naranjito','Vista Hermosa','El Sabroso de Jose Carlos Mariategui','Granja Carabayllo','Agropecuario Valle el Chillon','Camino Real','Copacabana','El Trebol','Tablada la Virgen','San Fernando de Carabayllo','San Fernando de Copacabana','La Manzana','Chacra Grande','Torres de Copacabana','San Pedro de Carabayllo','San Lorenzo','Chaclacayo','Chorrillos','Cieneguilla','Lindero','Pichicato','San Isidro','San Vicente','Piedra Liza','Santa Rosa de Chontay (Chontay)','La Libertad','El Agustino','Independencia','Jesus Maria','La Molina','La Victoria','Lince','Las Palmeras','Chosica','Lurin','Los Almacigos','Rinconada del Puruhuay','Fundo Santa Genoveva','Los Maderos','Casco Viejo','Vista Alegre','Buena Vista Alta','Lomas Pucara','Fundo la Querencia','Magdalena del Mar','Pueblo Libre','Miraflores','Pachacamac','Puente Manchay','Tambo Inga','Pampa Flores','Manchay Alto Lote B','Invasion Cementerio','Manchay Bajo','Santa Rosa de Mal Paso','Cardal','Jatosisa','Tomina','Pucusana','Honda','Quipa','Los Pelicanos','Playa Puerto Bello','Ñaves','Granja Santa Elena','Alvatroz II','Poseidon - Lobo Varado','Playa Minka Mar','Playa Acantilado','Puente Piedra','Punta Hermosa','Capilla Lucumo','Cucuya','Pampapacta','Avicola San Cirilo de Loma Negra - 03','Avicola San Cirilo de Loma Negra - 02','Avicola San Cirilo de Loma Negra - 01','Pampa Mamay','Cerro Botija','Agricultores y Ganaderos','Pampa Malanche Avicola Puma','Punta Negra','Chancheria','Rimac','San Bartolo','Plantel 41','Granja 4','Granja 5','Granja 07','Granja 44','Granja 47','Santa Maria I','Las Torres Santa Fe','San Francisco de Borja','San Isidro','San Juan de Lurigancho','Ciudad de Dios','San Luis','Barrio Obrero Industrial','San Miguel','Santa Anita - los Ficus','Santa Maria del Mar','Don Bruno','Santa Rosa','Santiago de Surco','Surquillo','Villa el Salvador','Villa Maria del Triunfo']\n"
   ]
  },
  {
   "cell_type": "code",
   "execution_count": 136,
   "id": "ffbe8ac0",
   "metadata": {},
   "outputs": [],
   "source": [
    "Cod_Postal=[15001,15003,15004,15006,15018,15019,15046,15072,15079,15081,15082,15083,15088,15123,15004,15011,15012,15019,15022,15023,15026,15476,15479,15483,15487,15491,15494,15498,15047,15049,15063,15082,15083,15121,15122,15313,15316,15318,15319,15320,15321,15324,15320,15320,15320,15320,15320,15320,15121,15320,15320,15121,15320,15320,15121,15121,15122,15122,15121,15121,15121,15320,15320,15320,15320,15320,15320,15121,15121,15121,15320,15121,15319,15121,15121,15121,15320,15320,15121,15121,15121,15121,15320,15320,15320,15122,15122,15122,15122,15122,15122,15122,15122,15121,15121,15122,15122,15121,15121,15122,15122,15121,15122,15122,15122,15472,15476,15054,15056,15057,15058,15063,15064,15066,15067,15593,15594,15593,15593,15593,15593,15593,15593,15593,15311,15312,15313,15314,15316,15324,15326,15327,15328,15332,15003,15004,15006,15007,15008,15009,15011,15018,15022,15311,15328,15331,15332,15333,15046]"
   ]
  },
  {
   "cell_type": "code",
   "execution_count": 137,
   "id": "38775f54",
   "metadata": {
    "collapsed": true
   },
   "outputs": [
    {
     "data": {
      "text/plain": [
       "{'Fray Martin': 15001,\n",
       " 'Santa Rosa de Puquio': 15003,\n",
       " 'Cuchicorral': 15004,\n",
       " 'Santiago de Punchauca': 15006,\n",
       " 'La Cruz (11 Amigos)': 15018,\n",
       " 'Cerro Cañon': 15019,\n",
       " 'Cabaña Suche': 15046,\n",
       " 'San Lorenzo': 15122,\n",
       " 'Jose Carlos Mariategui': 15079,\n",
       " 'Pascal': 15081,\n",
       " 'La Esperanza': 15082,\n",
       " 'Fundo Pancha Paula': 15083,\n",
       " 'Olfa': 15088,\n",
       " 'Rio Seco': 15123,\n",
       " 'Paraiso': 15004,\n",
       " 'El Rosario': 15011,\n",
       " 'Cerro Puquio': 15012,\n",
       " 'La Campana': 15019,\n",
       " 'Las Animas': 15022,\n",
       " 'Vetancio': 15023,\n",
       " 'Roma Alta': 15026,\n",
       " 'San Jose': 15476,\n",
       " 'San Pedro de Carabayllo': 15121,\n",
       " 'Huacoy': 15483,\n",
       " 'Fundo Pampa Libre': 15487,\n",
       " 'Ex Fundo Santa Ines': 15491,\n",
       " 'Reposo': 15494,\n",
       " 'Carmelito': 15498,\n",
       " 'Santa Elena': 15047,\n",
       " 'Don Luis': 15049,\n",
       " 'Santa Ines Parcela': 15063,\n",
       " 'Asociacion Santa Ines': 15082,\n",
       " 'Roma Baja': 15083,\n",
       " 'Residencial Santa Lucia': 15121,\n",
       " 'San Francisco': 15122,\n",
       " 'Santa Margarita - Molinos': 15313,\n",
       " 'Sipan Peru': 15316,\n",
       " 'Fundo Cuadros': 15318,\n",
       " 'Bello Horizonte': 15319,\n",
       " 'El Hueco': 15320,\n",
       " 'Ex Fundo Mariategui': 15321,\n",
       " 'Naranjito': 15324,\n",
       " 'Vista Hermosa': 15320,\n",
       " 'El Sabroso de Jose Carlos Mariategui': 15320,\n",
       " 'Granja Carabayllo': 15320,\n",
       " 'Agropecuario Valle el Chillon': 15320,\n",
       " 'Camino Real': 15320,\n",
       " 'Copacabana': 15320,\n",
       " 'El Trebol': 15121,\n",
       " 'Tablada la Virgen': 15320,\n",
       " 'San Fernando de Carabayllo': 15320,\n",
       " 'San Fernando de Copacabana': 15121,\n",
       " 'La Manzana': 15320,\n",
       " 'Chacra Grande': 15320,\n",
       " 'Torres de Copacabana': 15121,\n",
       " 'Chaclacayo': 15122,\n",
       " 'Chorrillos': 15121,\n",
       " 'Cieneguilla': 15121,\n",
       " 'Lindero': 15121,\n",
       " 'Pichicato': 15320,\n",
       " 'San Isidro': 15004,\n",
       " 'San Vicente': 15320,\n",
       " 'Piedra Liza': 15320,\n",
       " 'Santa Rosa de Chontay (Chontay)': 15320,\n",
       " 'La Libertad': 15320,\n",
       " 'El Agustino': 15121,\n",
       " 'Independencia': 15121,\n",
       " 'Jesus Maria': 15121,\n",
       " 'La Molina': 15320,\n",
       " 'La Victoria': 15121,\n",
       " 'Lince': 15319,\n",
       " 'Las Palmeras': 15121,\n",
       " 'Chosica': 15121,\n",
       " 'Lurin': 15121,\n",
       " 'Los Almacigos': 15320,\n",
       " 'Rinconada del Puruhuay': 15320,\n",
       " 'Fundo Santa Genoveva': 15121,\n",
       " 'Los Maderos': 15121,\n",
       " 'Casco Viejo': 15121,\n",
       " 'Vista Alegre': 15121,\n",
       " 'Buena Vista Alta': 15320,\n",
       " 'Lomas Pucara': 15320,\n",
       " 'Fundo la Querencia': 15320,\n",
       " 'Magdalena del Mar': 15122,\n",
       " 'Pueblo Libre': 15122,\n",
       " 'Miraflores': 15122,\n",
       " 'Pachacamac': 15122,\n",
       " 'Puente Manchay': 15122,\n",
       " 'Tambo Inga': 15122,\n",
       " 'Pampa Flores': 15122,\n",
       " 'Manchay Alto Lote B': 15122,\n",
       " 'Invasion Cementerio': 15121,\n",
       " 'Manchay Bajo': 15121,\n",
       " 'Santa Rosa de Mal Paso': 15122,\n",
       " 'Cardal': 15122,\n",
       " 'Jatosisa': 15121,\n",
       " 'Tomina': 15121,\n",
       " 'Pucusana': 15122,\n",
       " 'Honda': 15122,\n",
       " 'Quipa': 15121,\n",
       " 'Los Pelicanos': 15122,\n",
       " 'Playa Puerto Bello': 15122,\n",
       " 'Ñaves': 15122,\n",
       " 'Granja Santa Elena': 15472,\n",
       " 'Alvatroz II': 15476,\n",
       " 'Poseidon - Lobo Varado': 15054,\n",
       " 'Playa Minka Mar': 15056,\n",
       " 'Playa Acantilado': 15057,\n",
       " 'Puente Piedra': 15058,\n",
       " 'Punta Hermosa': 15063,\n",
       " 'Capilla Lucumo': 15064,\n",
       " 'Cucuya': 15066,\n",
       " 'Pampapacta': 15067,\n",
       " 'Avicola San Cirilo de Loma Negra - 03': 15593,\n",
       " 'Avicola San Cirilo de Loma Negra - 02': 15594,\n",
       " 'Avicola San Cirilo de Loma Negra - 01': 15593,\n",
       " 'Pampa Mamay': 15593,\n",
       " 'Cerro Botija': 15593,\n",
       " 'Agricultores y Ganaderos': 15593,\n",
       " 'Pampa Malanche Avicola Puma': 15593,\n",
       " 'Punta Negra': 15593,\n",
       " 'Chancheria': 15593,\n",
       " 'Rimac': 15311,\n",
       " 'San Bartolo': 15312,\n",
       " 'Plantel 41': 15313,\n",
       " 'Granja 4': 15314,\n",
       " 'Granja 5': 15316,\n",
       " 'Granja 07': 15324,\n",
       " 'Granja 44': 15326,\n",
       " 'Granja 47': 15327,\n",
       " 'Santa Maria I': 15328,\n",
       " 'Las Torres Santa Fe': 15332,\n",
       " 'San Francisco de Borja': 15003,\n",
       " 'San Juan de Lurigancho': 15006,\n",
       " 'Ciudad de Dios': 15007,\n",
       " 'San Luis': 15008,\n",
       " 'Barrio Obrero Industrial': 15009,\n",
       " 'San Miguel': 15011,\n",
       " 'Santa Anita - los Ficus': 15018,\n",
       " 'Santa Maria del Mar': 15022,\n",
       " 'Don Bruno': 15311,\n",
       " 'Santa Rosa': 15328,\n",
       " 'Santiago de Surco': 15331,\n",
       " 'Surquillo': 15332,\n",
       " 'Villa el Salvador': 15333,\n",
       " 'Villa Maria del Triunfo': 15046}"
      ]
     },
     "execution_count": 137,
     "metadata": {},
     "output_type": "execute_result"
    }
   ],
   "source": [
    "cod=dict(zip(Localidad,Cod_Postal))\n",
    "cod"
   ]
  },
  {
   "cell_type": "markdown",
   "id": "89d1af97",
   "metadata": {},
   "source": [
    "8.- Cambiar el código postal de 'San Isidro' a 66666 y muestre el resultado."
   ]
  },
  {
   "cell_type": "code",
   "execution_count": 153,
   "id": "dfcf0ba6",
   "metadata": {},
   "outputs": [
    {
     "name": "stdout",
     "output_type": "stream",
     "text": [
      "Se cambio el codigo postal de San Isidro por 666666\n"
     ]
    }
   ],
   "source": [
    "cod['San Isidro']=666666\n",
    "print(\"Se cambio el codigo postal de San Isidro por\", cod[\"San Isidro\"])"
   ]
  },
  {
   "cell_type": "markdown",
   "id": "5a1e6011",
   "metadata": {},
   "source": [
    "# GRACIAS!!"
   ]
  }
 ],
 "metadata": {
  "kernelspec": {
   "display_name": "Python 3",
   "language": "python",
   "name": "python3"
  },
  "language_info": {
   "codemirror_mode": {
    "name": "ipython",
    "version": 3
   },
   "file_extension": ".py",
   "mimetype": "text/x-python",
   "name": "python",
   "nbconvert_exporter": "python",
   "pygments_lexer": "ipython3",
   "version": "3.8.8"
  }
 },
 "nbformat": 4,
 "nbformat_minor": 5
}
