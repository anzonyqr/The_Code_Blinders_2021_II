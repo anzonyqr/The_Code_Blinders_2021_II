{
 "cells": [
  {
   "cell_type": "markdown",
   "metadata": {},
   "source": [
    "# PREGUNTA 4\n"
   ]
  },
  {
   "cell_type": "code",
   "execution_count": 2,
   "metadata": {},
   "outputs": [
    {
     "name": "stdout",
     "output_type": "stream",
     "text": [
      "{10: (1, 2, 3), 20: ['Pedro', 100], 30: ['control', 'educación']}\n"
     ]
    }
   ],
   "source": [
    "lista1=[10, 20, 30]\n",
    "lista2=[(1, 2 ,3),['Pedro',100],['control','educación']]\n",
    "dic1=dict(zip(lista1, lista2))\n",
    "print(dic1)"
   ]
  },
  {
   "cell_type": "markdown",
   "metadata": {},
   "source": [
    "# PREGUNTA 5"
   ]
  },
  {
   "cell_type": "code",
   "execution_count": 3,
   "metadata": {},
   "outputs": [
    {
     "data": {
      "text/plain": [
       "'educación'"
      ]
     },
     "execution_count": 3,
     "metadata": {},
     "output_type": "execute_result"
    }
   ],
   "source": [
    "dic1[30][1]"
   ]
  },
  {
   "cell_type": "markdown",
   "metadata": {},
   "source": [
    "# PREGUNTA 6"
   ]
  },
  {
   "cell_type": "code",
   "execution_count": 4,
   "metadata": {},
   "outputs": [
    {
     "name": "stdout",
     "output_type": "stream",
     "text": [
      "{10: (1, 2, 3), 20: ['alfredo', 100], 30: ['control', 'educación']}\n"
     ]
    }
   ],
   "source": [
    "dic1[20][0]='alfredo'\n",
    "print(dic1)"
   ]
  },
  {
   "cell_type": "markdown",
   "metadata": {},
   "source": [
    "# PREGUNTA 7"
   ]
  },
  {
   "cell_type": "code",
   "execution_count": 5,
   "metadata": {},
   "outputs": [
    {
     "name": "stdout",
     "output_type": "stream",
     "text": [
      "{'Fray Martin': 15001, 'Santa Rosa de Puquio': 15003, 'Cuchicorral': 15004, 'Santiago de Punchauca': 15006, 'La Cruz (11 Amigos)': 15018, 'Cerro Cañon': 15019, 'Cabaña Suche': 15046, 'San Lorenzo': 15122, 'Jose Carlos Mariategui': 15079, 'Pascal': 15081, 'La Esperanza': 15082, 'Fundo Pancha Paula': 15083, 'Olfa': 15088, 'Rio Seco': 15123, 'Paraiso': 15004, 'El Rosario': 15011, 'Cerro Puquio': 15012, 'La Campana': 15019, 'Las Animas': 15022, 'Vetancio': 15023, 'Roma Alta': 15026, 'San Jose': 15476, 'San Pedro de Carabayllo': 15121, 'Huacoy': 15483, 'Fundo Pampa Libre': 15487, 'Ex Fundo Santa Ines': 15491, 'Reposo': 15494, 'Carmelito': 15498, 'Santa Elena': 15047, 'Don Luis': 15049, 'Santa Ines Parcela': 15063, 'Asociacion Santa Ines': 15082, 'Roma Baja': 15083, 'Residencial Santa Lucia': 15121, 'San Francisco': 15122, 'Santa Margarita - Molinos': 15313, 'Sipan Peru': 15316, 'Fundo Cuadros': 15318, 'Bello Horizonte': 15319, 'El Hueco': 15320, 'Ex Fundo Mariategui': 15321, 'Naranjito': 15324, 'Vista Hermosa': 15320, 'El Sabroso de Jose Carlos Mariategui': 15320, 'Granja Carabayllo': 15320, 'Agropecuario Valle el Chillon': 15320, 'Camino Real': 15320, 'Copacabana': 15320, 'El Trebol': 15121, 'Tablada la Virgen': 15320, 'San Fernando de Carabayllo': 15320, 'San Fernando de Copacabana': 15121, 'La Manzana': 15320, 'Chacra Grande': 15320, 'Torres de Copacabana': 15121, 'Chaclacayo': 15122, 'Chorrillos': 15121, 'Cieneguilla': 15121, 'Lindero': 15121, 'Pichicato': 15320, 'San Isidro': 15004, 'San Vicente': 15320, 'Piedra Liza': 15320, 'Santa Rosa de Chontay (Chontay)': 15320, 'La Libertad': 15320, 'El Agustino': 15121, 'Independencia': 15121, 'Jesus Maria': 15121, 'La Molina': 15320, 'La Victoria': 15121, 'Lince': 15319, 'Las Palmeras': 15121, 'Chosica': 15121, 'Lurin': 15121, 'Los Almacigos': 15320, 'Rinconada del Puruhuay': 15320, 'Fundo Santa Genoveva': 15121, 'Los Maderos': 15121, 'Casco Viejo': 15121, 'Vista Alegre': 15121, 'Buena Vista Alta': 15320, 'Lomas Pucara': 15320, 'Fundo la Querencia': 15320, 'Magdalena del Mar': 15122, 'Pueblo Libre': 15122, 'Miraflores': 15122, 'Pachacamac': 15122, 'Puente Manchay': 15122, 'Tambo Inga': 15122, 'Pampa Flores': 15122, 'Manchay Alto Lote B': 15122, 'Invasion Cementerio': 15121, 'Manchay Bajo': 15121, 'Santa Rosa de Mal Paso': 15122, 'Cardal': 15122, 'Jatosisa': 15121, 'Tomina': 15121, 'Pucusana': 15122, 'Honda': 15122, 'Quipa': 15121, 'Los Pelicanos': 15122, 'Playa Puerto Bello': 15122, 'Ñaves': 15122, 'Granja Santa Elena': 15472, 'Alvatroz II': 15476, 'Poseidon - Lobo Varado': 15054, 'Playa Minka Mar': 15056, 'Playa Acantilado': 15057, 'Puente Piedra': 15058, 'Punta Hermosa': 15063, 'Capilla Lucumo': 15064, 'Cucuya': 15066, 'Pampapacta': 15067, 'Avicola San Cirilo de Loma Negra - 03': 15593, 'Avicola San Cirilo de Loma Negra - 02': 15594, 'Avicola San Cirilo de Loma Negra - 01': 15593, 'Pampa Mamay': 15593, 'Cerro Botija': 15593, 'Agricultores y Ganaderos': 15593, 'Pampa Malanche Avicola Puma': 15593, 'Punta Negra': 15593, 'Chancheria': 15593, 'Rimac': 15311, 'San Bartolo': 15312, 'Plantel 41': 15313, 'Granja 4': 15314, 'Granja 5': 15316, 'Granja 07': 15324, 'Granja 44': 15326, 'Granja 47': 15327, 'Santa Maria I': 15328, 'Las Torres Santa Fe': 15332, 'San Francisco de Borja': 15003, 'San Juan de Lurigancho': 15006, 'Ciudad de Dios': 15007, 'San Luis': 15008, 'Barrio Obrero Industrial': 15009, 'San Miguel': 15011, 'Santa Anita - los Ficus': 15018, 'Santa Maria del Mar': 15022, 'Don Bruno': 15311, 'Santa Rosa': 15328, 'Santiago de Surco': 15331, 'Surquillo': 15332, 'Villa el Salvador': 15333, 'Villa Maria del Triunfo': 15046}\n"
     ]
    }
   ],
   "source": [
    "Localidad = ['Fray Martin','Santa Rosa de Puquio','Cuchicorral','Santiago de Punchauca','La Cruz (11 Amigos)','Cerro Cañon','Cabaña Suche','San Lorenzo','Jose Carlos Mariategui','Pascal','La Esperanza','Fundo Pancha Paula','Olfa','Rio Seco','Paraiso','El Rosario','Cerro Puquio','La Campana','Las Animas','Vetancio','Roma Alta','San Jose','San Pedro de Carabayllo','Huacoy','Fundo Pampa Libre','Ex Fundo Santa Ines','Reposo','Carmelito','Santa Elena','Don Luis','Santa Ines Parcela','Asociacion Santa Ines','Roma Baja','Residencial Santa Lucia','San Francisco','Santa Margarita - Molinos','Sipan Peru','Fundo Cuadros','Bello Horizonte','El Hueco','Ex Fundo Mariategui','Naranjito','Vista Hermosa','El Sabroso de Jose Carlos Mariategui','Granja Carabayllo','Agropecuario Valle el Chillon','Camino Real','Copacabana','El Trebol','Tablada la Virgen','San Fernando de Carabayllo','San Fernando de Copacabana','La Manzana','Chacra Grande','Torres de Copacabana','San Pedro de Carabayllo','San Lorenzo','Chaclacayo','Chorrillos','Cieneguilla','Lindero','Pichicato','San Isidro','San Vicente','Piedra Liza','Santa Rosa de Chontay (Chontay)','La Libertad','El Agustino','Independencia','Jesus Maria','La Molina','La Victoria','Lince','Las Palmeras','Chosica','Lurin','Los Almacigos','Rinconada del Puruhuay','Fundo Santa Genoveva','Los Maderos','Casco Viejo','Vista Alegre','Buena Vista Alta','Lomas Pucara','Fundo la Querencia','Magdalena del Mar','Pueblo Libre','Miraflores','Pachacamac','Puente Manchay','Tambo Inga','Pampa Flores','Manchay Alto Lote B','Invasion Cementerio','Manchay Bajo','Santa Rosa de Mal Paso','Cardal','Jatosisa','Tomina','Pucusana','Honda','Quipa','Los Pelicanos','Playa Puerto Bello','Ñaves','Granja Santa Elena','Alvatroz II','Poseidon - Lobo Varado','Playa Minka Mar','Playa Acantilado','Puente Piedra','Punta Hermosa','Capilla Lucumo','Cucuya','Pampapacta','Avicola San Cirilo de Loma Negra - 03','Avicola San Cirilo de Loma Negra - 02','Avicola San Cirilo de Loma Negra - 01','Pampa Mamay','Cerro Botija','Agricultores y Ganaderos','Pampa Malanche Avicola Puma','Punta Negra','Chancheria','Rimac','San Bartolo','Plantel 41','Granja 4','Granja 5','Granja 07','Granja 44','Granja 47','Santa Maria I','Las Torres Santa Fe','San Francisco de Borja','San Isidro','San Juan de Lurigancho','Ciudad de Dios','San Luis','Barrio Obrero Industrial','San Miguel','Santa Anita - los Ficus','Santa Maria del Mar','Don Bruno','Santa Rosa','Santiago de Surco','Surquillo','Villa el Salvador','Villa Maria del Triunfo']\n",
    "Cod_Postal=[15001,15003,15004,15006,15018,15019,15046,15072,15079,15081,15082,15083,15088,15123,15004,15011,15012,15019,15022,15023,15026,15476,15479,15483,15487,15491,15494,15498,15047,15049,15063,15082,15083,15121,15122,15313,15316,15318,15319,15320,15321,15324,15320,15320,15320,15320,15320,15320,15121,15320,15320,15121,15320,15320,15121,15121,15122,15122,15121,15121,15121,15320,15320,15320,15320,15320,15320,15121,15121,15121,15320,15121,15319,15121,15121,15121,15320,15320,15121,15121,15121,15121,15320,15320,15320,15122,15122,15122,15122,15122,15122,15122,15122,15121,15121,15122,15122,15121,15121,15122,15122,15121,15122,15122,15122,15472,15476,15054,15056,15057,15058,15063,15064,15066,15067,15593,15594,15593,15593,15593,15593,15593,15593,15593,15311,15312,15313,15314,15316,15324,15326,15327,15328,15332,15003,15004,15006,15007,15008,15009,15011,15018,15022,15311,15328,15331,15332,15333,15046]\n",
    "cod=dict(zip(Localidad,Cod_Postal))\n",
    "print(cod)"
   ]
  },
  {
   "cell_type": "markdown",
   "metadata": {},
   "source": [
    "# PREGUNTA 8"
   ]
  },
  {
   "cell_type": "code",
   "execution_count": 6,
   "metadata": {},
   "outputs": [
    {
     "data": {
      "text/plain": [
       "66666"
      ]
     },
     "execution_count": 6,
     "metadata": {},
     "output_type": "execute_result"
    }
   ],
   "source": [
    "cod['San Isidro']=66666\n",
    "cod['San Isidro']"
   ]
  }
 ],
 "metadata": {
  "kernelspec": {
   "display_name": "Python 3",
   "language": "python",
   "name": "python3"
  },
  "language_info": {
   "codemirror_mode": {
    "name": "ipython",
    "version": 3
   },
   "file_extension": ".py",
   "mimetype": "text/x-python",
   "name": "python",
   "nbconvert_exporter": "python",
   "pygments_lexer": "ipython3",
   "version": "3.8.5"
  }
 },
 "nbformat": 4,
 "nbformat_minor": 4
}
