{
 "cells": [
  {
   "cell_type": "code",
   "execution_count": null,
   "id": "1b8e14e5",
   "metadata": {},
   "outputs": [],
   "source": [
    "# Pregunta 1.\n",
    "pais=[\"Guatemala\",\"Paraguay\",\"Bolivia\",\"Ecuador\",\"Chile\",\"Argentina\",\"Colombia\",\"Peru\",\"Mexico\",\"Brasil\"]\n",
    "habs=[11615,15633,18350,32134,36748,110966,124474,198031,255452,576645]\n",
    "covid_dic=dict(zip(pais,habs))\n",
    "\n",
    "print(covid_dic)\n"
   ]
  },
  {
   "cell_type": "code",
   "execution_count": null,
   "id": "5a901a7b",
   "metadata": {},
   "outputs": [],
   "source": [
    "# Pregunta 2.\n",
    "for key in covid_dic:\n",
    "  print (key, \":\", covid_dic[key])\n",
    "\n",
    "\n"
   ]
  },
  {
   "cell_type": "code",
   "execution_count": null,
   "id": "3d335bfe",
   "metadata": {},
   "outputs": [],
   "source": [
    "# Pregunta 3.\n",
    "covid_dic[\"Paraguay\"]=covid_dic[\"Paraguay\"]+14528\n",
    "covid_dic[\"Peru\"]=covid_dic[\"Peru\"]+210250\n",
    "\n",
    "print(covid_dic)"
   ]
  },
  {
   "cell_type": "code",
   "execution_count": 1,
   "id": "371dba89",
   "metadata": {},
   "outputs": [
    {
     "name": "stdout",
     "output_type": "stream",
     "text": [
      "{10: (1, 2, 3), 20: ['Pedro', 100], 30: ['control', 'educación']}\n"
     ]
    }
   ],
   "source": [
    "\n",
    "# Pregunta 4.\n",
    "lista1=[10,20,30]\n",
    "lista2=[(1,2,3),[\"Pedro\",100],[\"control\",\"educación\"]]\n",
    "dic1 = dict(zip(lista1, lista2))\n",
    "\n",
    "print(dic1)"
   ]
  },
  {
   "cell_type": "code",
   "execution_count": null,
   "id": "1ca40147",
   "metadata": {},
   "outputs": [],
   "source": [
    "# Pregunta 5.\n",
    "dic1[30][1]\n",
    "\n",
    "print(dic1)"
   ]
  },
  {
   "cell_type": "code",
   "execution_count": null,
   "id": "2851230f",
   "metadata": {},
   "outputs": [],
   "source": [
    "# Pregunta 6.\n",
    "dic1[20][0]=\"Alfredo\"\n",
    "\n",
    "print(dic1)"
   ]
  },
  {
   "cell_type": "code",
   "execution_count": 2,
   "id": "bc93e813",
   "metadata": {},
   "outputs": [
    {
     "name": "stdout",
     "output_type": "stream",
     "text": [
      "['Fray Martin', 'Santa Rosa de Puquio', 'Cuchicorral', 'Santiago de Punchauca', 'La Cruz (11 Amigos)', 'Cerro Cañon', 'Cabaña Suche', 'San Lorenzo', 'Jose Carlos Mariategui', 'Pascal', 'La Esperanza', 'Fundo Pancha Paula', 'Olfa', 'Rio Seco', 'Paraiso', 'El Rosario', 'Cerro Puquio', 'La Campana', 'Las Animas', 'Vetancio', 'Roma Alta', 'San Jose', 'San Pedro de Carabayllo', 'Huacoy', 'Fundo Pampa Libre', 'Ex Fundo Santa Ines', 'Reposo', 'Carmelito', 'Santa Elena', 'Don Luis', 'Santa Ines Parcela', 'Asociacion Santa Ines', 'Roma Baja', 'Residencial Santa Lucia', 'San Francisco', 'Santa Margarita - Molinos', 'Sipan Peru', 'Fundo Cuadros', 'Bello Horizonte', 'El Hueco', 'Ex Fundo Mariategui', 'Naranjito', 'Vista Hermosa', 'El Sabroso de Jose Carlos Mariategui', 'Granja Carabayllo', 'Agropecuario Valle el Chillon', 'Camino Real', 'Copacabana', 'El Trebol', 'Tablada la Virgen', 'San Fernando de Carabayllo', 'San Fernando de Copacabana', 'La Manzana', 'Chacra Grande', 'Torres de Copacabana', 'San Pedro de Carabayllo', 'San Lorenzo', 'Chaclacayo', 'Chorrillos', 'Cieneguilla', 'Lindero', 'Pichicato', 'San Isidro', 'San Vicente', 'Piedra Liza', 'Santa Rosa de Chontay (Chontay)', 'La Libertad', 'El Agustino', 'Independencia', 'Jesus Maria', 'La Molina', 'La Victoria', 'Lince', 'Las Palmeras', 'Chosica', 'Lurin', 'Los Almacigos', 'Rinconada del Puruhuay', 'Fundo Santa Genoveva', 'Los Maderos', 'Casco Viejo', 'Vista Alegre', 'Buena Vista Alta', 'Lomas Pucara', 'Fundo la Querencia', 'Magdalena del Mar', 'Pueblo Libre', 'Miraflores', 'Pachacamac', 'Puente Manchay', 'Tambo Inga', 'Pampa Flores', 'Manchay Alto Lote B', 'Invasion Cementerio', 'Manchay Bajo', 'Santa Rosa de Mal Paso', 'Cardal', 'Jatosisa', 'Tomina', 'Pucusana', 'Honda', 'Quipa', 'Los Pelicanos', 'Playa Puerto Bello', 'Ñaves', 'Granja Santa Elena', 'Alvatroz II', 'Poseidon - Lobo Varado', 'Playa Minka Mar', 'Playa Acantilado', 'Puente Piedra', 'Punta Hermosa', 'Capilla Lucumo', 'Cucuya', 'Pampapacta', 'Avicola San Cirilo de Loma Negra - 03', 'Avicola San Cirilo de Loma Negra - 02', 'Avicola San Cirilo de Loma Negra - 01', 'Pampa Mamay', 'Cerro Botija', 'Agricultores y Ganaderos', 'Pampa Malanche Avicola Puma', 'Punta Negra', 'Chancheria', 'Rimac', 'San Bartolo', 'Plantel 41', 'Granja 4', 'Granja 5', 'Granja 07', 'Granja 44', 'Granja 47', 'Santa Maria I', 'Las Torres Santa Fe', 'San Francisco de Borja', 'San Isidro', 'San Juan de Lurigancho', 'Ciudad de Dios', 'San Luis', 'Barrio Obrero Industrial', 'San Miguel', 'Santa Anita - los Ficus', 'Santa Maria del Mar', 'Don Bruno', 'Santa Rosa', 'Santiago de Surco', 'Surquillo', 'Villa el Salvador', 'Villa Maria del Triunfo']\n",
      "[15001, 15003, 15004, 15006, 15018, 15019, 15046, 15072, 15079, 15081, 15082, 15083, 15088, 15123, 15004, 15011, 15012, 15019, 15022, 15023, 15026, 15476, 15479, 15483, 15487, 15491, 15494, 15498, 15047, 15049, 15063, 15082, 15083, 15121, 15122, 15313, 15316, 15318, 15319, 15320, 15321, 15324, 15320, 15320, 15320, 15320, 15320, 15320, 15121, 15320, 15320, 15121, 15320, 15320, 15121, 15121, 15122, 15122, 15121, 15121, 15121, 15320, 15320, 15320, 15320, 15320, 15320, 15121, 15121, 15121, 15320, 15121, 15319, 15121, 15121, 15121, 15320, 15320, 15121, 15121, 15121, 15121, 15320, 15320, 15320, 15122, 15122, 15122, 15122, 15122, 15122, 15122, 15122, 15121, 15121, 15122, 15122, 15121, 15121, 15122, 15122, 15121, 15122, 15122, 15122, 15472, 15476, 15054, 15056, 15057, 15058, 15063, 15064, 15066, 15067, 15593, 15594, 15593, 15593, 15593, 15593, 15593, 15593, 15593, 15311, 15312, 15313, 15314, 15316, 15324, 15326, 15327, 15328, 15332, 15003, 15004, 15006, 15007, 15008, 15009, 15011, 15018, 15022, 15311, 15328, 15331, 15332, 15333, 15046]\n"
     ]
    }
   ],
   "source": [
    "Localidad = ['Fray Martin','Santa Rosa de Puquio','Cuchicorral','Santiago de Punchauca','La Cruz (11 Amigos)','Cerro Cañon','Cabaña Suche','San Lorenzo','Jose Carlos Mariategui','Pascal','La Esperanza','Fundo Pancha Paula','Olfa','Rio Seco','Paraiso','El Rosario','Cerro Puquio','La Campana','Las Animas','Vetancio','Roma Alta','San Jose','San Pedro de Carabayllo','Huacoy','Fundo Pampa Libre','Ex Fundo Santa Ines','Reposo','Carmelito','Santa Elena','Don Luis','Santa Ines Parcela','Asociacion Santa Ines','Roma Baja','Residencial Santa Lucia','San Francisco','Santa Margarita - Molinos','Sipan Peru','Fundo Cuadros','Bello Horizonte','El Hueco','Ex Fundo Mariategui','Naranjito','Vista Hermosa','El Sabroso de Jose Carlos Mariategui','Granja Carabayllo','Agropecuario Valle el Chillon','Camino Real','Copacabana','El Trebol','Tablada la Virgen','San Fernando de Carabayllo','San Fernando de Copacabana','La Manzana','Chacra Grande','Torres de Copacabana','San Pedro de Carabayllo','San Lorenzo','Chaclacayo','Chorrillos','Cieneguilla','Lindero','Pichicato','San Isidro','San Vicente','Piedra Liza','Santa Rosa de Chontay (Chontay)','La Libertad','El Agustino','Independencia','Jesus Maria','La Molina','La Victoria','Lince','Las Palmeras','Chosica','Lurin','Los Almacigos','Rinconada del Puruhuay','Fundo Santa Genoveva','Los Maderos','Casco Viejo','Vista Alegre','Buena Vista Alta','Lomas Pucara','Fundo la Querencia','Magdalena del Mar','Pueblo Libre','Miraflores','Pachacamac','Puente Manchay','Tambo Inga','Pampa Flores','Manchay Alto Lote B','Invasion Cementerio','Manchay Bajo','Santa Rosa de Mal Paso','Cardal','Jatosisa','Tomina','Pucusana','Honda','Quipa','Los Pelicanos','Playa Puerto Bello','Ñaves','Granja Santa Elena','Alvatroz II','Poseidon - Lobo Varado','Playa Minka Mar','Playa Acantilado','Puente Piedra','Punta Hermosa','Capilla Lucumo','Cucuya','Pampapacta','Avicola San Cirilo de Loma Negra - 03','Avicola San Cirilo de Loma Negra - 02','Avicola San Cirilo de Loma Negra - 01','Pampa Mamay','Cerro Botija','Agricultores y Ganaderos','Pampa Malanche Avicola Puma','Punta Negra','Chancheria','Rimac','San Bartolo','Plantel 41','Granja 4','Granja 5','Granja 07','Granja 44','Granja 47','Santa Maria I','Las Torres Santa Fe','San Francisco de Borja','San Isidro','San Juan de Lurigancho','Ciudad de Dios','San Luis','Barrio Obrero Industrial','San Miguel','Santa Anita - los Ficus','Santa Maria del Mar','Don Bruno','Santa Rosa','Santiago de Surco','Surquillo','Villa el Salvador','Villa Maria del Triunfo']\n",
    "print(Localidad)\n",
    "\n",
    "Cod_Postal=[15001,15003,15004,15006,15018,15019,15046,15072,15079,15081,15082,15083,15088,15123,15004,15011,15012,15019,15022,15023,15026,15476,15479,15483,15487,15491,15494,15498,15047,15049,15063,15082,15083,15121,15122,15313,15316,15318,15319,15320,15321,15324,15320,15320,15320,15320,15320,15320,15121,15320,15320,15121,15320,15320,15121,15121,15122,15122,15121,15121,15121,15320,15320,15320,15320,15320,15320,15121,15121,15121,15320,15121,15319,15121,15121,15121,15320,15320,15121,15121,15121,15121,15320,15320,15320,15122,15122,15122,15122,15122,15122,15122,15122,15121,15121,15122,15122,15121,15121,15122,15122,15121,15122,15122,15122,15472,15476,15054,15056,15057,15058,15063,15064,15066,15067,15593,15594,15593,15593,15593,15593,15593,15593,15593,15311,15312,15313,15314,15316,15324,15326,15327,15328,15332,15003,15004,15006,15007,15008,15009,15011,15018,15022,15311,15328,15331,15332,15333,15046]\n",
    "print(Cod_Postal)\n",
    "\n",
    "dic2 = dict(zip(Localidad, Cod_Postal))\n"
   ]
  },
  {
   "cell_type": "code",
   "execution_count": 5,
   "id": "e56051a6",
   "metadata": {},
   "outputs": [
    {
     "name": "stdout",
     "output_type": "stream",
     "text": [
      "66666\n"
     ]
    }
   ],
   "source": [
    "dic2['San Isidro']=66666\n",
    "\n",
    "print(dic2['San Isidro'])"
   ]
  },
  {
   "cell_type": "markdown",
   "id": "b03e6112",
   "metadata": {},
   "source": [
    "Integrantes: Alessandra Hidalgo y Miguel Salcedo"
   ]
  }
 ],
 "metadata": {
  "kernelspec": {
   "display_name": "Python 3",
   "language": "python",
   "name": "python3"
  },
  "language_info": {
   "codemirror_mode": {
    "name": "ipython",
    "version": 3
   },
   "file_extension": ".py",
   "mimetype": "text/x-python",
   "name": "python",
   "nbconvert_exporter": "python",
   "pygments_lexer": "ipython3",
   "version": "3.8.8"
  }
 },
 "nbformat": 4,
 "nbformat_minor": 5
}
