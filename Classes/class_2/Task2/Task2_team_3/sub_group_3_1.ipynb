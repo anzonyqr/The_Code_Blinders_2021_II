{
 "cells": [
  {
   "cell_type": "code",
   "execution_count": 2,
   "id": "fa3b41d4",
   "metadata": {},
   "outputs": [],
   "source": [
    "#Pregunta_1\n",
    "Paises = ['BRASIL', 'MEXICO', 'PERU', 'COLOMBIA', 'ARGENTINA', 'CHILE', 'ECUADOR', 'BOLIVIA', 'PARAGUAY', 'GUATEMALA']\n",
    "Número_de_fallecidos = [576645, 255452, 198031, 124474, 110966, 36748, 32134, 18350, 15633, 11615]\n",
    "covid = dict(zip(Paises,Número_de_fallecidos))"
   ]
  },
  {
   "cell_type": "code",
   "execution_count": 3,
   "id": "453c8c9f",
   "metadata": {},
   "outputs": [
    {
     "name": "stdout",
     "output_type": "stream",
     "text": [
      "{'BRASIL': 576645, 'MEXICO': 255452, 'PERU': 198031, 'COLOMBIA': 124474, 'ARGENTINA': 110966, 'CHILE': 36748, 'ECUADOR': 32134, 'BOLIVIA': 18350, 'PARAGUAY': 15633, 'GUATEMALA': 11615}\n"
     ]
    }
   ],
   "source": [
    "#Pregunta_2\n",
    "print(covid)"
   ]
  },
  {
   "cell_type": "code",
   "execution_count": 4,
   "id": "9c6de61f",
   "metadata": {},
   "outputs": [
    {
     "name": "stdout",
     "output_type": "stream",
     "text": [
      "{'BRASIL': 576645, 'MEXICO': 255452, 'PERU': 210250, 'COLOMBIA': 124474, 'ARGENTINA': 110966, 'CHILE': 36748, 'ECUADOR': 32134, 'BOLIVIA': 18350, 'PARAGUAY': 15633, 'URUGUAY': 14528}\n"
     ]
    }
   ],
   "source": [
    "#Pregunta_3\n",
    "covid['URUGUAY']=14528\n",
    "covid.pop('GUATEMALA')\n",
    "covid['PERU']=210250\n",
    "print(covid)"
   ]
  },
  {
   "cell_type": "code",
   "execution_count": 5,
   "id": "998e95b6",
   "metadata": {},
   "outputs": [
    {
     "name": "stdout",
     "output_type": "stream",
     "text": [
      "{10: (1, 2, 3), 20: ['Pedro', 100], 30: ['control', 'educación']}\n"
     ]
    }
   ],
   "source": [
    "#Pregunta_4\n",
    "lista1=[10,20,30]\n",
    "lista2=[(1,2,3),['Pedro',100],['control','educación']]\n",
    "dic1=dict(zip(lista1,lista2))\n",
    "print(dic1)"
   ]
  },
  {
   "cell_type": "code",
   "execution_count": null,
   "id": "a8675a3b",
   "metadata": {},
   "outputs": [],
   "source": []
  }
 ],
 "metadata": {
  "kernelspec": {
   "display_name": "Python 3",
   "language": "python",
   "name": "python3"
  },
  "language_info": {
   "codemirror_mode": {
    "name": "ipython",
    "version": 3
   },
   "file_extension": ".py",
   "mimetype": "text/x-python",
   "name": "python",
   "nbconvert_exporter": "python",
   "pygments_lexer": "ipython3",
   "version": "3.8.8"
  }
 },
 "nbformat": 4,
 "nbformat_minor": 5
}
