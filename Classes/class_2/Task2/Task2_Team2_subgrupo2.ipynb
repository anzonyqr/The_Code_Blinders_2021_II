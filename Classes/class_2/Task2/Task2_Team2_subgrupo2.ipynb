{
 "cells": [
  {
   "cell_type": "markdown",
   "id": "125563ad",
   "metadata": {},
   "source": [
    "### Tarea 2 team 2 - subgrupo 2 - Alvaro Palma"
   ]
  },
  {
   "cell_type": "code",
   "execution_count": 1,
   "id": "71c62644",
   "metadata": {},
   "outputs": [
    {
     "name": "stdout",
     "output_type": "stream",
     "text": [
      "Número de casos covid en {'Brasil': 576645, 'México': 255452, 'Perú': 198031, 'Colombia': 124474, 'Argentina': 110966, 'Chile': 36748, 'Ecuador': 32134, 'Bolivia': 18350, 'Paraguay': 15633, 'Guatemala': 11615}\n"
     ]
    }
   ],
   "source": [
    "#pregunta 1\n",
    "paises_covid = {\"Brasil\":576645, \"México\":255452, \"Perú\":198031, \"Colombia\":124474, \"Argentina\":110966, \"Chile\":36748, \"Ecuador\":32134, \"Bolivia\": 18350, \"Paraguay\":15633, \"Guatemala\":11615}\n",
    "print(\"Número de casos covid en\" ,(paises_covid))"
   ]
  },
  {
   "cell_type": "code",
   "execution_count": 2,
   "id": "116d9325",
   "metadata": {},
   "outputs": [
    {
     "name": "stdout",
     "output_type": "stream",
     "text": [
      "dict_keys(['Brasil', 'México', 'Perú', 'Colombia', 'Argentina', 'Chile', 'Ecuador', 'Bolivia', 'Paraguay', 'Guatemala'])\n"
     ]
    }
   ],
   "source": [
    "#pregunta 2.1\n",
    "paises_covid = {\"Brasil\":576645, \"México\":255452, \"Perú\":198031, \"Colombia\":124474, \"Argentina\":110966, \"Chile\":36748, \"Ecuador\":32134, \"Bolivia\": 18350, \"Paraguay\":15633, \"Guatemala\":11615}\n",
    "print(paises_covid.keys())"
   ]
  },
  {
   "cell_type": "code",
   "execution_count": 3,
   "id": "ef89ea1e",
   "metadata": {},
   "outputs": [
    {
     "name": "stdout",
     "output_type": "stream",
     "text": [
      "dict_values([576645, 255452, 198031, 124474, 110966, 36748, 32134, 18350, 15633, 11615])\n"
     ]
    }
   ],
   "source": [
    "#pregunta 2.2\n",
    "paises_covid = {\"Brasil\":576645, \"México\":255452, \"Perú\":198031, \"Colombia\":124474, \"Argentina\":110966, \"Chile\":36748, \"Ecuador\":32134, \"Bolivia\": 18350, \"Paraguay\":15633, \"Guatemala\":11615}\n",
    "print(paises_covid.values())"
   ]
  },
  {
   "cell_type": "code",
   "execution_count": 6,
   "id": "59448d35",
   "metadata": {},
   "outputs": [
    {
     "name": "stdout",
     "output_type": "stream",
     "text": [
      "Casos actualizados de covid en:  {'Brasil': 576645, 'México': 255452, 'Perú': 210250, 'Colombia': 124474, 'Argentina': 110966, 'Chile': 36748, 'Ecuador': 32134, 'Bolivia': 18350, 'Paraguay': 15633, 'Guatemala': 11615, 'Uruguay': 14528}\n"
     ]
    }
   ],
   "source": [
    "#pregunta 3\n",
    "paises_covid = {\"Brasil\":576645, \"México\":255452, \"Perú\":198031, \"Colombia\":124474, \"Argentina\":110966, \"Chile\":36748, \"Ecuador\":32134, \"Bolivia\": 18350, \"Paraguay\":15633, \"Guatemala\":11615}\n",
    "paises_covid[\"Uruguay\"] =  14528\n",
    "paises_covid[\"Perú\"]= 210250\n",
    "print(\"Casos actualizados de covid en: \",(paises_covid))"
   ]
  },
  {
   "cell_type": "code",
   "execution_count": 5,
   "id": "a45338f9",
   "metadata": {},
   "outputs": [
    {
     "name": "stdout",
     "output_type": "stream",
     "text": [
      "{10: (1, 2, 3), 20: ['Pedro', 100], 30: ['control', 'educación']}\n"
     ]
    }
   ],
   "source": [
    "#pregunta 4\n",
    "lista1=[10,20,30]\n",
    "lista2=[(1,2,3),[\"Pedro\",100],[\"control\",\"educación\"]]\n",
    "dic = dict(zip( lista1,lista2))\n",
    "print(dic)"
   ]
  },
  {
   "cell_type": "code",
   "execution_count": null,
   "id": "a2125b35",
   "metadata": {},
   "outputs": [],
   "source": []
  }
 ],
 "metadata": {
  "kernelspec": {
   "display_name": "Python 3",
   "language": "python",
   "name": "python3"
  },
  "language_info": {
   "codemirror_mode": {
    "name": "ipython",
    "version": 3
   },
   "file_extension": ".py",
   "mimetype": "text/x-python",
   "name": "python",
   "nbconvert_exporter": "python",
   "pygments_lexer": "ipython3",
   "version": "3.8.8"
  }
 },
 "nbformat": 4,
 "nbformat_minor": 5
}
