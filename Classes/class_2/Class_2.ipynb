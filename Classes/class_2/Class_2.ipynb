{
 "cells": [
  {
   "cell_type": "markdown",
   "metadata": {},
   "source": [
    "***OVERVIEW OF CLASS***\n",
    "\n",
    "+ Learn computational modes of thinking.\n",
    "+ master the art of computational problem solving.\n",
    "+ make computers do what you want them to do."
   ]
  },
  {
   "cell_type": "markdown",
   "metadata": {},
   "source": [
    "## ***WHAT DOES A COMPUTER DO???***\n",
    "\n"
   ]
  },
  {
   "cell_type": "markdown",
   "metadata": {},
   "source": [
    "\n",
    " <div class=\"pull-left\"><img src=\"imagenes/do_computer.png\" width=\"300\" /> </div></div>\n",
    "\n",
    "\n",
    "+ **Performs calculations\n",
    "        - A billion calculations per second!\n",
    "        - Two operations in same time light travels 1 foot\n",
    "\n",
    "+ **Remembers results\n",
    "        - 100s of gigabytes of storage!\n",
    "        - Typical machine could hold 1.5M books of standard size . "
   ]
  },
  {
   "cell_type": "markdown",
   "metadata": {},
   "source": [
    "## ***SIMPLE CALCULATIONS ENOUGH? ***\n",
    "\n",
    "Searching the  World Wide Web\n",
    "+ 45B pages.\n",
    "+ 1000 words/page.\n",
    "+ 10 operations/word to find.\n",
    "+ Need 5.2 days to find something using simple operations.\n",
    "\n",
    "Playing chess\n",
    "+ Average of 35 moves/setting.\n",
    "+ Look ahead 6 moves.\n",
    "+ 1.8B boards to check.\n",
    "+ 100 operations/choice.\n",
    "+ 30 minutes to decide each move.\n",
    "\n",
    "Good algorithm design also needed to accomplish a task!"
   ]
  },
  {
   "cell_type": "markdown",
   "metadata": {},
   "source": [
    "## ***ARE THERE LIMITS?***"
   ]
  },
  {
   "cell_type": "markdown",
   "metadata": {},
   "source": [
    " <div class=\"pull-left\"><img src=\"imagenes/limitaciones.png\" width=\"300\" /> </div></div>\n",
    "\n",
    "Despite its speed and size, a computer does have limitations\n",
    "+ Some problems still too complex.\n",
    "        * Accurate weather prediction at a local scale.\n",
    "+ Some problems are fundamentally impossible to compute\n",
    "        * the halting problem\n"
   ]
  },
  {
   "cell_type": "markdown",
   "metadata": {},
   "source": [
    "## ***TYPES OF KNOWLEDGE***\n",
    "\n",
    "computers know what you tell them.\n",
    "\n",
    "Declarative knowledge is statements of fact.\n",
    "+ There is a chest with 1000 dollars in the park of legends.\n",
    "\n",
    "imperative knowledge is a recipe or “how-to” knowledge.\n",
    "+ Enter the park of legends.\n",
    "+ Enter the Sierra area. \n",
    "+ Enter the mine. \n",
    "+ Look for the first white chair.\n",
    "+ Look under the chair and find it.\n",
    "\n",
    "**¡THIS WAY SHOULD THINK A PROGRAMMER!**"
   ]
  },
  {
   "cell_type": "markdown",
   "metadata": {},
   "source": [
    "***A NUMERICAL EXAMPLE***\n",
    "\n",
    "square root of a number x is y such that y*y = x\n",
    "\n",
    "Recipe for deducing square root of number x (e.g. 25)\n",
    "\n",
    "+ 1) Start with a guess, g.\n",
    "+ 2) If g*g is close enough to x, stop and say g is the answer.\n",
    "+ 3) Otherwise make a new guess by averaging g and x/g.\n",
    "+ 4) Using the new guess, repeat process until close enough.\n",
    "\n",
    "<div class=\"pull-left\"><center><img src=\"imagenes/raiz_cuadrada.png\" alt=\"REPO\" width=\"500\" title = \"REPO\"/>\n",
    "    "
   ]
  },
  {
   "cell_type": "markdown",
   "metadata": {},
   "source": [
    "Double click **here** to view python code.\n",
    "\n",
    "<!-- \n",
    "\n",
    "x=25\n",
    "#1-Start with a guess \n",
    "g = 12\n",
    "#2-Divide the number by the approximate number\n",
    "xg = x/g\n",
    "#3-Otherwise make a new guess by averaging g and x/g.\n",
    "g=(g+xg)/2\n",
    "#4-If the value has a larger error than expected, item 2 and 3 are repeated\n",
    "while abs(x- (g*g)) > 0.00000000001:\n",
    "\tprint(g)\n",
    "\t#Repeat previous steps\n",
    "\txg=x/g\n",
    "\tg=(g+xg)/2\n",
    "print(\"square root of a number x is \",g)\n",
    " -->"
   ]
  },
  {
   "cell_type": "markdown",
   "metadata": {},
   "source": [
    "***WHAT IS A RECIPE ?***\n",
    "\n",
    "+ Sequence of simple steps.\n",
    "+ Flow of control process that specifies when each step is executed.\n",
    "+ A means of determining when to stop.\n",
    "\n"
   ]
  },
  {
   "cell_type": "markdown",
   "metadata": {},
   "source": [
    "# <center>  PYTHON</center>\n",
    "\n"
   ]
  },
  {
   "cell_type": "markdown",
   "metadata": {},
   "source": [
    "## 1. PYTHON "
   ]
  },
  {
   "cell_type": "markdown",
   "metadata": {},
   "source": [
    "It is an open source, general purpose programming language. Python objects consist of:\n",
    "+ the types of elements within objects(int,float,string,bool,complex) \n",
    "+ the types of objects that contain other objects(lists, tuples, sets, dictionaries).\n",
    "\n"
   ]
  },
  {
   "cell_type": "markdown",
   "metadata": {},
   "source": [
    "### 1.1 VARIABLES AND TYPES\n",
    "### 1.1.1 Variables \n",
    "** Specific , difference between lowercase and uppercase<br>\n",
    "** Call values through the name of the variables<br>\n",
    "##### \"Labels that refer to the data\"\n",
    "#### \"Any variable in python is a reference to an  object\"\n",
    "#####  Each object has:\n",
    "\n",
    "- An identifier \n",
    "- A data type (integer, decimal, complex, string, etc.)\n",
    "- A value (the data itself).\n",
    "\n",
    "####  function type( )\n",
    "*You can check the type of a value with the function type().* \n",
    "\n",
    "#### function id( )\n",
    "the id() function receives an object as an argument and returns another object that serves as the unique identifier for the first object"
   ]
  },
  {
   "cell_type": "code",
   "execution_count": null,
   "metadata": {
    "scrolled": true
   },
   "outputs": [],
   "source": [
    "# The number 5\n",
    "\n",
    "id(555)  # This is the identifier of the integer object \"5\""
   ]
  },
  {
   "cell_type": "code",
   "execution_count": null,
   "metadata": {
    "scrolled": true
   },
   "outputs": [],
   "source": [
    "a = 5\n",
    "id(a)  # The identifier of the variable a is the same as that of the integer \"5\""
   ]
  },
  {
   "cell_type": "code",
   "execution_count": null,
   "metadata": {},
   "outputs": [],
   "source": [
    "type(555)"
   ]
  },
  {
   "cell_type": "code",
   "execution_count": null,
   "metadata": {},
   "outputs": [],
   "source": [
    "id(50)"
   ]
  },
  {
   "cell_type": "code",
   "execution_count": null,
   "metadata": {
    "scrolled": true
   },
   "outputs": [],
   "source": [
    "# calculating BMI\n",
    "h = 2"
   ]
  },
  {
   "cell_type": "code",
   "execution_count": null,
   "metadata": {
    "scrolled": true
   },
   "outputs": [],
   "source": [
    "h"
   ]
  },
  {
   "cell_type": "code",
   "execution_count": null,
   "metadata": {
    "scrolled": true
   },
   "outputs": [],
   "source": [
    "#The print () function allows you to display text on the screen.\n",
    "print(h)"
   ]
  },
  {
   "cell_type": "code",
   "execution_count": null,
   "metadata": {
    "scrolled": true
   },
   "outputs": [],
   "source": [
    "# The identifier of the variable using the id () function\n",
    "id(h)"
   ]
  },
  {
   "cell_type": "code",
   "execution_count": null,
   "metadata": {
    "scrolled": true
   },
   "outputs": [],
   "source": [
    "id(2)"
   ]
  },
  {
   "cell_type": "code",
   "execution_count": null,
   "metadata": {
    "scrolled": true
   },
   "outputs": [],
   "source": [
    "w = 75\n"
   ]
  },
  {
   "cell_type": "code",
   "execution_count": null,
   "metadata": {
    "scrolled": true
   },
   "outputs": [],
   "source": [
    "BMI = w / h**2\n"
   ]
  },
  {
   "cell_type": "code",
   "execution_count": null,
   "metadata": {
    "scrolled": true
   },
   "outputs": [],
   "source": [
    "print(BMI)"
   ]
  },
  {
   "cell_type": "code",
   "execution_count": null,
   "metadata": {
    "scrolled": true
   },
   "outputs": [],
   "source": [
    "# the identifier of the variable using the \"id ()\" function\n",
    "id(BMI)"
   ]
  },
  {
   "cell_type": "code",
   "execution_count": null,
   "metadata": {
    "scrolled": false
   },
   "outputs": [],
   "source": [
    "#calculating speed\n",
    "distance = 100\n",
    "time = 2\n",
    "speed = distance / time\n",
    "print(speed)"
   ]
  },
  {
   "cell_type": "code",
   "execution_count": null,
   "metadata": {
    "scrolled": true
   },
   "outputs": [],
   "source": [
    "# the identifier of the variable using the \"id ()\" function\n",
    "id(time)"
   ]
  },
  {
   "cell_type": "code",
   "execution_count": null,
   "metadata": {
    "scrolled": true
   },
   "outputs": [],
   "source": [
    "string = \"python\"\n",
    "id(string)"
   ]
  },
  {
   "cell_type": "code",
   "execution_count": null,
   "metadata": {
    "scrolled": true
   },
   "outputs": [],
   "source": [
    "a=1000/2\n",
    "b=500\n",
    "print(id(a))\n",
    "print(id(b))"
   ]
  },
  {
   "cell_type": "markdown",
   "metadata": {},
   "source": [
    "### 1.2 PYTHON TYPES\n",
    "#### There are 3 types of values ​​that a variable can take in python (NUMBERS, STRINGS AND BOOLEANS)\n",
    "### 1.2.1 Numbers\n",
    "#### INT (Integer Numbers)\n",
    "can be written in format:\n",
    "* Binary \"0b is prepended to a sequence of digits in binary (0 and 1)\"\n",
    "* Octal \"Prepending 0o to a sequence of octal digits (0 to 7)\"\n",
    "* Hexadecimal \"prepend 0x to a sequence of hexadecimal digits (from 0 to 9 and from A to F)\""
   ]
  },
  {
   "cell_type": "code",
   "execution_count": null,
   "metadata": {
    "scrolled": true
   },
   "outputs": [],
   "source": [
    "#  In binary, octal or hexadecimal format\n",
    "diez = 10 \n",
    "diez_binario = 0b1010\n",
    "diez_octal = 0o12\n",
    "diez_hex = 0xa\n",
    "\n",
    "print(diez)\n",
    "\n",
    "print(diez_binario)\n",
    "\n",
    "print(diez_octal)\n",
    "\n",
    "print(diez_hex)"
   ]
  },
  {
   "cell_type": "code",
   "execution_count": null,
   "metadata": {
    "scrolled": true
   },
   "outputs": [],
   "source": [
    "#converting decimal to binary, octal and hexadecimal\n",
    "n=10\n",
    "print(bin(n))\n",
    "print(oct(n))\n",
    "print(hex(n))"
   ]
  },
  {
   "cell_type": "markdown",
   "metadata": {},
   "source": [
    "#### FLOAT (*Real numbers*)\n",
    "* \"Floating point numbers do not represent certain decimal fractions exactly.\" (C ++ has twice the precision of python)\n",
    "* \"The Decimal type can represent these fractions exactly, up to a user-specified precision limit\""
   ]
  },
  {
   "cell_type": "code",
   "execution_count": null,
   "metadata": {
    "scrolled": true
   },
   "outputs": [],
   "source": [
    "# float\n",
    "3/7"
   ]
  },
  {
   "cell_type": "code",
   "execution_count": null,
   "metadata": {
    "scrolled": true
   },
   "outputs": [],
   "source": [
    "#using Decimal module\n",
    "import decimal\n",
    "decimal.Decimal(3/7)\n"
   ]
  },
  {
   "cell_type": "code",
   "execution_count": null,
   "metadata": {
    "scrolled": true
   },
   "outputs": [],
   "source": [
    "# You can provide tuples that contain the sign, the mantissa as a tuple of decimal digits, and the exponent\n",
    "# The sign bit is Boolean, so 0 means positive and 1 means negative.\n",
    "# ((a, (x, y, z, q), -e)): a< 0 o 1> -->signo, (x,y,z,q)-->mantissa, -e--> exponent\n",
    "\n",
    "decimal.Decimal((1, (3, 4, 7, 5), -2))"
   ]
  },
  {
   "cell_type": "code",
   "execution_count": null,
   "metadata": {
    "scrolled": true
   },
   "outputs": [],
   "source": [
    "#Tipo Context( \" ontext encapsulates properties of decimal operations \") \n",
    "import decimal\n",
    "decimal.getcontext().prec=100\n",
    "resultado=decimal.Decimal(3) / decimal.Decimal(7)\n",
    "print(resultado)\n",
    "type(resultado)"
   ]
  },
  {
   "cell_type": "markdown",
   "metadata": {},
   "source": [
    "### OPERATIONS WITH INTEGER AND FLOAT\n",
    "<br />\n",
    "<br />\n",
    "\n",
    "<div class=\"pull-left\"><center><img src=\"imagenes/operaciones.png\" alt=\"REPO\" width=\"500\" title = \"REPO\"/>"
   ]
  },
  {
   "cell_type": "code",
   "execution_count": null,
   "metadata": {},
   "outputs": [],
   "source": [
    "5 +5.0"
   ]
  },
  {
   "cell_type": "code",
   "execution_count": null,
   "metadata": {},
   "outputs": [],
   "source": [
    "id(5)"
   ]
  },
  {
   "cell_type": "code",
   "execution_count": null,
   "metadata": {},
   "outputs": [],
   "source": [
    "7%3"
   ]
  },
  {
   "cell_type": "code",
   "execution_count": null,
   "metadata": {},
   "outputs": [],
   "source": [
    "#sum of two integer numbers.\n",
    "X=23\n",
    "Y=15\n",
    "X+Y\n"
   ]
  },
  {
   "cell_type": "code",
   "execution_count": null,
   "metadata": {},
   "outputs": [],
   "source": [
    "#sum of two float numbers. \n",
    "A=7.3\n",
    "B=6.0\n",
    "A+B"
   ]
  },
  {
   "cell_type": "code",
   "execution_count": null,
   "metadata": {},
   "outputs": [],
   "source": [
    "#sum of one float number and one integer number.\n",
    "A=20.8\n",
    "b=10\n",
    "A+b"
   ]
  },
  {
   "cell_type": "code",
   "execution_count": null,
   "metadata": {},
   "outputs": [],
   "source": [
    "#divicion of two integer numbers. \n",
    "14/2"
   ]
  },
  {
   "cell_type": "code",
   "execution_count": null,
   "metadata": {},
   "outputs": [],
   "source": [
    "\n",
    "#division of two float numbers.  (float)\n",
    "5.4/2.0"
   ]
  },
  {
   "cell_type": "code",
   "execution_count": null,
   "metadata": {},
   "outputs": [],
   "source": [
    "# division of one integer number and one float number.\n",
    "35/2.0"
   ]
  },
  {
   "cell_type": "code",
   "execution_count": null,
   "metadata": {},
   "outputs": [],
   "source": [
    "# integer division \" //\" the result is integer quotient\n",
    "\n",
    "7//2"
   ]
  },
  {
   "cell_type": "code",
   "execution_count": null,
   "metadata": {},
   "outputs": [],
   "source": [
    "# integer division \" //\" the result is integer quotient\n",
    "4//2"
   ]
  },
  {
   "cell_type": "code",
   "execution_count": null,
   "metadata": {},
   "outputs": [],
   "source": [
    "# modulo operation \"%\"( remainder  when 7 is divided by 2)\n",
    "7%2"
   ]
  },
  {
   "cell_type": "code",
   "execution_count": null,
   "metadata": {},
   "outputs": [],
   "source": [
    "# modulo operation\"%\"\n",
    "30%120"
   ]
  },
  {
   "cell_type": "code",
   "execution_count": null,
   "metadata": {},
   "outputs": [],
   "source": [
    "# A**b---- A es base , b es exponente.\n",
    "2**3"
   ]
  },
  {
   "cell_type": "code",
   "execution_count": null,
   "metadata": {},
   "outputs": [],
   "source": [
    "# A**b---- A es base , b es exponente.\n",
    "5**8"
   ]
  },
  {
   "cell_type": "code",
   "execution_count": null,
   "metadata": {},
   "outputs": [],
   "source": [
    "#  A**b---- A es base , b es exponente.\n",
    "1**0"
   ]
  },
  {
   "cell_type": "markdown",
   "metadata": {},
   "source": [
    "### COMPLEX (*Son los números COMPLEJOS*)\n",
    "<div class=\"pull-left\"><img src=\"imagenes/complejo.png\" width=\"300\" /> </div></div><BR>\n",
    "* (a + bj)---> a Real part, b imaginary part <BR>\n",
    "* (a,b)---> Ordered Pair. \n",
    "\n"
   ]
  },
  {
   "cell_type": "code",
   "execution_count": null,
   "metadata": {
    "scrolled": true
   },
   "outputs": [],
   "source": [
    "# Creating a complex number\n",
    "c1 = 4 + 3j\n"
   ]
  },
  {
   "cell_type": "code",
   "execution_count": null,
   "metadata": {},
   "outputs": [],
   "source": [
    "c1\n"
   ]
  },
  {
   "cell_type": "code",
   "execution_count": null,
   "metadata": {
    "scrolled": true
   },
   "outputs": [],
   "source": [
    "# Creating a complex number with complex\n",
    "c2 = complex(2, -3)\n",
    "c2"
   ]
  },
  {
   "cell_type": "code",
   "execution_count": null,
   "metadata": {
    "scrolled": true
   },
   "outputs": [],
   "source": [
    "\n",
    "# Conjugate of a complex number\n",
    "c3 = 2 + 3j\n",
    "c3.conjugate()"
   ]
  },
  {
   "cell_type": "code",
   "execution_count": null,
   "metadata": {
    "scrolled": true
   },
   "outputs": [],
   "source": [
    "\n",
    "# Absolute value or magnitude\n",
    "c4 = 4 + 3j\n",
    "abs(c4)"
   ]
  },
  {
   "cell_type": "code",
   "execution_count": null,
   "metadata": {
    "scrolled": true
   },
   "outputs": [],
   "source": [
    "# Real part, imaginary part\n",
    "c5 = 2 - 3j\n",
    "\n",
    "print(c5.real)\n",
    "print(c5.imag)"
   ]
  },
  {
   "cell_type": "markdown",
   "metadata": {
    "scrolled": true
   },
   "source": [
    "<div class=\"pull-center\"><center><img src=\"imagenes/exercise.jpg\" alt=\"REPO\" width=\"200\" title = \"REPO\"/>  \n"
   ]
  },
  {
   "cell_type": "markdown",
   "metadata": {
    "scrolled": true
   },
   "source": [
    "#### Show the identifier of the variable, data type and value using the The print () function :\n",
    "        *a=5.0 \n",
    "        *b=5 \n",
    "        *c= 2.4 \n",
    "        *d=1/3 \n",
    "        *e=-2+3j \n",
    "        *f=3j \n",
    "        *g=10\n",
    "\n",
    "1. A=a+b\n",
    "2. B=c*g\n",
    "3. C=d-b\n",
    "4. D=a+b+c-g\n",
    "5. E=conjugate(e)+real part(f)"
   ]
  },
  {
   "cell_type": "code",
   "execution_count": 4,
   "metadata": {},
   "outputs": [],
   "source": [
    "a=5.0 # float"
   ]
  },
  {
   "cell_type": "code",
   "execution_count": 5,
   "metadata": {},
   "outputs": [
    {
     "data": {
      "text/plain": [
       "2325253030416"
      ]
     },
     "execution_count": 5,
     "metadata": {},
     "output_type": "execute_result"
    }
   ],
   "source": [
    "id(a)"
   ]
  },
  {
   "cell_type": "code",
   "execution_count": 6,
   "metadata": {},
   "outputs": [
    {
     "data": {
      "text/plain": [
       "float"
      ]
     },
     "execution_count": 6,
     "metadata": {},
     "output_type": "execute_result"
    }
   ],
   "source": [
    "type(a)"
   ]
  },
  {
   "cell_type": "code",
   "execution_count": 7,
   "metadata": {},
   "outputs": [
    {
     "name": "stdout",
     "output_type": "stream",
     "text": [
      "5.0\n"
     ]
    }
   ],
   "source": [
    "print(a)"
   ]
  },
  {
   "cell_type": "code",
   "execution_count": 12,
   "metadata": {},
   "outputs": [
    {
     "name": "stdout",
     "output_type": "stream",
     "text": [
      "el valor del objeto es 5\n",
      "<class 'int'>\n",
      "140720187123632\n"
     ]
    }
   ],
   "source": [
    "b=5\n",
    "id(b)\n",
    "type(b)\n",
    "print('el valor del objeto es',b)\n",
    "print(type(b))\n",
    "print(id(b))"
   ]
  },
  {
   "cell_type": "code",
   "execution_count": null,
   "metadata": {},
   "outputs": [],
   "source": [
    "id(b)\n"
   ]
  },
  {
   "cell_type": "code",
   "execution_count": null,
   "metadata": {},
   "outputs": [],
   "source": [
    "type(b)\n"
   ]
  },
  {
   "cell_type": "code",
   "execution_count": null,
   "metadata": {},
   "outputs": [],
   "source": []
  },
  {
   "cell_type": "markdown",
   "metadata": {},
   "source": [
    "* Double click **here** to view python code.\n",
    "\n",
    "<!-- \n",
    "\n",
    "\n",
    "a=5.0 \n",
    "b=5 \n",
    "c= 2.4 \n",
    "d=1/3 \n",
    "e=-2+3j \n",
    "f=3j \n",
    "g=10\n",
    "\n",
    "A=a+b\n",
    "B=c*g\n",
    "C=d-b\n",
    "D=a+b+c-g\n",
    "E=e.conjugate()+e.real\n",
    "\n",
    "print(\"the identifier A : \",id(A))\n",
    "print(\"the identifier B : \",id(B))\n",
    "print(\"the identifier C : \",id(C))\n",
    "print(\"the identifier D : \",id(D))\n",
    "print(\"the identifier E : \",id(E))\n",
    "print()\n",
    "print(\"type object A: \",type(A))\n",
    "print(\"type object B: \",type(B))\n",
    "print(\"type object C: \",type(C))\n",
    "print(\"type object D: \",type(D))\n",
    "print(\"type object E: \",type(E))\n",
    "print()\n",
    "print(\"value A: \",A)\n",
    "print(\"value B: \",B)\n",
    "print(\"value C: \",C)\n",
    "print(\"value D: \",D)\n",
    "print(\"value E: \",E)\n",
    "\n",
    "-->\n",
    "\n"
   ]
  },
  {
   "cell_type": "markdown",
   "metadata": {},
   "source": [
    "### 1.2.2 STRING \n",
    "* \"String is the way python represents text; you can use single (' ') or double (\" \") quotes to construct a string.\""
   ]
  },
  {
   "cell_type": "code",
   "execution_count": null,
   "metadata": {},
   "outputs": [],
   "source": [
    "msn_1=\"hola a todos\"\n",
    "msn_1"
   ]
  },
  {
   "cell_type": "code",
   "execution_count": null,
   "metadata": {},
   "outputs": [],
   "source": [
    "msn_2='Pedro'\n",
    "print(msn_2)"
   ]
  },
  {
   "cell_type": "markdown",
   "metadata": {},
   "source": [
    "+ Square brackets can be used to access elements of the string. Example: cad=\"hola\" then cad [1]-->'a'\n",
    "+ indices in a string start at zero.\n",
    "\n",
    "<div class=\"pull-left\"><center><img src=\"imagenes/string.png\" alt=\"REPO\" width=\"200\" title = \"REPO\"/>\n"
   ]
  },
  {
   "cell_type": "code",
   "execution_count": 13,
   "metadata": {},
   "outputs": [
    {
     "data": {
      "text/plain": [
       "'s'"
      ]
     },
     "execution_count": 13,
     "metadata": {},
     "output_type": "execute_result"
    }
   ],
   "source": [
    "# Get the character with index 1\n",
    "cadena=\"Estoy feliz\"\n",
    "cadena[1]"
   ]
  },
  {
   "cell_type": "code",
   "execution_count": 15,
   "metadata": {},
   "outputs": [
    {
     "data": {
      "text/plain": [
       "'f'"
      ]
     },
     "execution_count": 15,
     "metadata": {},
     "output_type": "execute_result"
    }
   ],
   "source": [
    "#Get the character with index 5\n",
    "cadena1=\"Estoy feliz\"\n",
    "cadena1[-5]"
   ]
  },
  {
   "cell_type": "markdown",
   "metadata": {},
   "source": [
    "#### To get the length of a string, use the len () function. Example: if string = '14 February ' then len (ch) -> 11\n"
   ]
  },
  {
   "cell_type": "code",
   "execution_count": 16,
   "metadata": {},
   "outputs": [
    {
     "data": {
      "text/plain": [
       "18"
      ]
     },
     "execution_count": 16,
     "metadata": {},
     "output_type": "execute_result"
    }
   ],
   "source": [
    "#find the length of the string \"Aprendiendo python\".\n",
    "cad=\"Aprendiendo python\"\n",
    "len(cad)"
   ]
  },
  {
   "cell_type": "markdown",
   "metadata": {},
   "source": [
    "** Determine the number of characters in a string using the len () function, consider message= 'hola' + ' ' + 'mundo' **\n",
    "\n",
    "Double click **here** to view python code.\n",
    "\n",
    "<!-- \n",
    "\n",
    "cad='hola' + ' ' + 'mundo'\n",
    "len(cad)\n",
    "\n",
    " -->"
   ]
  },
  {
   "cell_type": "markdown",
   "metadata": {},
   "source": [
    "### slicing  (If you want parts of a string ). \n",
    "Specify the starting index and ending index (not including), separated by a colon, enclosed in square brackets.:  cad=\"Alexander\" then cad[2:5]-->'exa'"
   ]
  },
  {
   "cell_type": "code",
   "execution_count": 17,
   "metadata": {},
   "outputs": [
    {
     "data": {
      "text/plain": [
       "'llo'"
      ]
     },
     "execution_count": 17,
     "metadata": {},
     "output_type": "execute_result"
    }
   ],
   "source": [
    "# if b = \"Hello, World!\", b[2:5]=?\n",
    "b = \"Hello, World!\"\n",
    "b[2:5]"
   ]
  },
  {
   "cell_type": "code",
   "execution_count": 18,
   "metadata": {},
   "outputs": [
    {
     "name": "stdout",
     "output_type": "stream",
     "text": [
      "llo, World!\n"
     ]
    }
   ],
   "source": [
    "#By skipping the trailing index, the range will reach the end\n",
    "b = \"Hello, World!\" \n",
    "print(b[2:])\n"
   ]
  },
  {
   "cell_type": "code",
   "execution_count": null,
   "metadata": {},
   "outputs": [],
   "source": [
    "#Use negative indices to start the segment from the end of the string:\n",
    "b = \"Hello, World!\"\n",
    "print(b[-5:-2])"
   ]
  },
  {
   "cell_type": "markdown",
   "metadata": {},
   "source": [
    "+ To concatenate or combine two strings, you can use the operator +.<br>Example: si cad1=\"soy\" y cad2=\"feliz\" then cad1 + cad2-->'soyfeliz'.\n"
   ]
  },
  {
   "cell_type": "code",
   "execution_count": null,
   "metadata": {},
   "outputs": [],
   "source": [
    "#concatenate the variable a and b into a variable c\n",
    "a = \"Hello\"\n",
    "b = \"World\"\n",
    "a+b"
   ]
  },
  {
   "cell_type": "code",
   "execution_count": null,
   "metadata": {},
   "outputs": [],
   "source": [
    "#To add a space between them, add  \" \":\n",
    "a = \"Hello\"\n",
    "b = \"World\"\n",
    "a+\" \"+b"
   ]
  },
  {
   "cell_type": "code",
   "execution_count": 19,
   "metadata": {},
   "outputs": [
    {
     "data": {
      "text/plain": [
       "'cadenacadenacadena'"
      ]
     },
     "execution_count": 19,
     "metadata": {},
     "output_type": "execute_result"
    }
   ],
   "source": [
    "# Multiply (copy several times a chain using the operator (*))\n",
    "y = \"cadena\"\n",
    "y*3"
   ]
  },
  {
   "cell_type": "markdown",
   "metadata": {},
   "source": [
    "+ We cannot combine strings and numbers. The format () method takes the arguments that were declared and places them in the string where the {} placeholders are. Example years = 36, exit = \"My name is Cesar, and I have {}\" then print (exit.format (years)) -> My name is Cesar, and I have 36."
   ]
  },
  {
   "cell_type": "code",
   "execution_count": 20,
   "metadata": {},
   "outputs": [
    {
     "ename": "TypeError",
     "evalue": "unsupported operand type(s) for +: 'int' and 'str'",
     "output_type": "error",
     "traceback": [
      "\u001b[1;31m---------------------------------------------------------------------------\u001b[0m",
      "\u001b[1;31mTypeError\u001b[0m                                 Traceback (most recent call last)",
      "\u001b[1;32m<ipython-input-20-28ae2d74b0f8>\u001b[0m in \u001b[0;36m<module>\u001b[1;34m\u001b[0m\n\u001b[0;32m      2\u001b[0m \u001b[0maños\u001b[0m \u001b[1;33m=\u001b[0m \u001b[1;36m36\u001b[0m\u001b[1;33m\u001b[0m\u001b[1;33m\u001b[0m\u001b[0m\n\u001b[0;32m      3\u001b[0m \u001b[0msalida\u001b[0m \u001b[1;33m=\u001b[0m \u001b[1;34m\"Mi nombre es Cesar, y tengo {}\"\u001b[0m\u001b[1;33m\u001b[0m\u001b[1;33m\u001b[0m\u001b[0m\n\u001b[1;32m----> 4\u001b[1;33m \u001b[0maños\u001b[0m\u001b[1;33m+\u001b[0m\u001b[0msalida\u001b[0m\u001b[1;33m\u001b[0m\u001b[1;33m\u001b[0m\u001b[0m\n\u001b[0m",
      "\u001b[1;31mTypeError\u001b[0m: unsupported operand type(s) for +: 'int' and 'str'"
     ]
    }
   ],
   "source": [
    "#We can't combine strings and numbers\n",
    "años = 36\n",
    "salida = \"Mi nombre es Cesar, y tengo {}\" \n",
    "años+salida"
   ]
  },
  {
   "cell_type": "code",
   "execution_count": 22,
   "metadata": {},
   "outputs": [
    {
     "name": "stdout",
     "output_type": "stream",
     "text": [
      "Mi nombre es Cesar, y tengo 36\n",
      "Mi nombre es Cesar, y tengo 36\n",
      "Mi nombre es Cesar, y tengo {} 36\n"
     ]
    }
   ],
   "source": [
    "#using format method combine strings and numbers\n",
    "años = 36\n",
    "salida = \"Mi nombre es Cesar, y tengo {}\" \n",
    "\n",
    "print(salida.format(años))\n",
    "print('Mi nombre es Cesar, y tengo',años)\n",
    "print(salida,años)"
   ]
  },
  {
   "cell_type": "code",
   "execution_count": null,
   "metadata": {},
   "outputs": [],
   "source": [
    "# using format method combine strings and numbers\n",
    "tengo=1200\n",
    "texto=\"tengo {}\"\n",
    "texto1=\"mi ganancia es {}\"\n",
    "ganancia=500\n",
    "\n",
    "print(texto.format(tengo))\n",
    "print(texto1.format(ganancia))"
   ]
  },
  {
   "cell_type": "markdown",
   "metadata": {},
   "source": [
    "### String Methods\n",
    "* Python has a set of built-in methods that can be used on strings.\n",
    "+ All string methods return new values. Doesn't change the original string.<br>\n",
    "\n",
    "URL: <https://www.w3schools.com/python/python_ref_string.asp>"
   ]
  },
  {
   "cell_type": "code",
   "execution_count": null,
   "metadata": {},
   "outputs": [],
   "source": [
    "# Method find(): searches for a substring in a character string and will indicate the starting index of the string being searched\n",
    "mensaje = \"Hola Mundo\"\n",
    "mensaje_buscar = mensaje.find(\"un\")\n",
    "print(mensaje_buscar)"
   ]
  },
  {
   "cell_type": "code",
   "execution_count": null,
   "metadata": {},
   "outputs": [],
   "source": [
    "#Method replace: change a substring of a string.\n",
    "mensaje = \"HOLA MUNDO\"\n",
    "mensaje_r = mensaje.replace(\"UNDO\", \"anuel\")\n",
    "print(mensaje_r)\n",
    "print(mensaje)"
   ]
  },
  {
   "cell_type": "code",
   "execution_count": null,
   "metadata": {},
   "outputs": [],
   "source": [
    "# Method: \"Lower()\" , \"Upper\"\n",
    "mensaje = \"MUERTE a Manuel\"\n",
    "print(mensaje.lower())\n",
    "print(mensaje.upper())"
   ]
  },
  {
   "cell_type": "markdown",
   "metadata": {},
   "source": [
    "### 1.2.3 BOOL :\n",
    "*The boolean is a type of variable that can be (True) o (False).* "
   ]
  },
  {
   "cell_type": "code",
   "execution_count": null,
   "metadata": {},
   "outputs": [],
   "source": [
    "a = 5\n",
    "b = 7\n",
    "a<b"
   ]
  },
  {
   "cell_type": "code",
   "execution_count": null,
   "metadata": {},
   "outputs": [],
   "source": [
    "mensaje='Muerte a Manuel'\n",
    "'manuel'in mensaje"
   ]
  },
  {
   "cell_type": "code",
   "execution_count": null,
   "metadata": {},
   "outputs": [],
   "source": [
    "## logical operations\n",
    "\n",
    "True and True"
   ]
  },
  {
   "cell_type": "code",
   "execution_count": null,
   "metadata": {},
   "outputs": [],
   "source": [
    "## logical operations\n",
    "\n",
    "False or False"
   ]
  },
  {
   "cell_type": "code",
   "execution_count": null,
   "metadata": {},
   "outputs": [],
   "source": [
    "## == equal ; != different\n",
    "2 == 1 + 1"
   ]
  },
  {
   "cell_type": "code",
   "execution_count": null,
   "metadata": {},
   "outputs": [],
   "source": [
    "## == equal; != different\n",
    "6 / 2 != 3"
   ]
  },
  {
   "cell_type": "markdown",
   "metadata": {},
   "source": [
    "## Input _ Output\n",
    " we can use the input() to accept input from a user and print() to display output on the console\n"
   ]
  },
  {
   "cell_type": "code",
   "execution_count": 23,
   "metadata": {},
   "outputs": [
    {
     "name": "stdout",
     "output_type": "stream",
     "text": [
      "ingrese su nombre --> Joel\n",
      "\n",
      " hola Joel\n"
     ]
    }
   ],
   "source": [
    "# By default python considers the data entered through the input () function as a string\n",
    "nombre=input(\"ingrese su nombre --> \")\n",
    "print(\"\\n hola\",nombre)"
   ]
  },
  {
   "cell_type": "code",
   "execution_count": null,
   "metadata": {},
   "outputs": [],
   "source": [
    "# integer and real data\n",
    "numero=int(input(\"ingrese un numero --> \"))\n",
    "print(\"\\n el número es \",numero)"
   ]
  },
  {
   "cell_type": "code",
   "execution_count": null,
   "metadata": {},
   "outputs": [],
   "source": [
    "# integer and real data\n",
    "numero=float(input(\"ingrese un numero --> \"))\n",
    "print(\"\\n el numero es \",numero)"
   ]
  },
  {
   "cell_type": "code",
   "execution_count": null,
   "metadata": {},
   "outputs": [],
   "source": [
    "NOMBRE=\"LUCAS\"\n",
    "EDAD=\"34\"\n",
    "print(\"Hola\",NOMBRE,\"tienes\",EDAD,\"años\")\n",
    "\n",
    "print(\"Hola {} tienes {} años\".format(NOMBRE,EDAD))\n",
    "\n",
    "print(f\"hola {NOMBRE} tienes {EDAD} años\")"
   ]
  },
  {
   "cell_type": "code",
   "execution_count": null,
   "metadata": {},
   "outputs": [],
   "source": [
    "nombre1=input(\"ingrese su nombre --> \")\n",
    "edad=input(\"ingrese su edad --> \")\n",
    "print(f\"hola {nombre1} tienes {edad} años\")"
   ]
  },
  {
   "cell_type": "code",
   "execution_count": null,
   "metadata": {},
   "outputs": [],
   "source": [
    "nombre1=input(\"ingrese su nombre --> \")\n",
    "edad=int(input(\"ingrese su edad --> \"))\n",
    "print(f\"hola {nombre1} tienes {edad+5} años\")"
   ]
  },
  {
   "cell_type": "code",
   "execution_count": null,
   "metadata": {},
   "outputs": [],
   "source": [
    "dni=input('ingrese dni')\n",
    "nombre =input('ingrese nombre')\n",
    "print(f\"hola mi nombre es {nombre} con DNI {dni} \")\n",
    "type(dni)"
   ]
  },
  {
   "cell_type": "markdown",
   "metadata": {},
   "source": [
    "## 2. COLLECTIONS\n",
    "+ LISTS (mutable)\n",
    "+ TUPLAS (immutable)\n",
    "+ DICTIONARIES (mutable)\n",
    "+ SETS (mutable)"
   ]
  },
  {
   "cell_type": "markdown",
   "metadata": {},
   "source": [
    "### 2.1 LISTS\n",
    "A Python list is created by enclosing values separated by commas and enclosed in square brackets [  ]."
   ]
  },
  {
   "cell_type": "code",
   "execution_count": 24,
   "metadata": {
    "scrolled": true
   },
   "outputs": [
    {
     "name": "stdout",
     "output_type": "stream",
     "text": [
      "[30, 20, 50, 100]\n"
     ]
    }
   ],
   "source": [
    "# We created the list of the number of inhabitants in millions of South American countries.\n",
    "country = [30,20,50,100] \n",
    "print(country)"
   ]
  },
  {
   "cell_type": "code",
   "execution_count": 25,
   "metadata": {},
   "outputs": [
    {
     "name": "stdout",
     "output_type": "stream",
     "text": [
      "['Perú', 30, 'Chile', 20, 'Argentina', 50, 'Brasil', 100]\n"
     ]
    }
   ],
   "source": [
    "type(country)"
   ]
  },
  {
   "cell_type": "code",
   "execution_count": null,
   "metadata": {},
   "outputs": [],
   "source": [
    "# A list can contain numbers, strings, booleans, ... and also lists\n",
    "pais_1 = [\"Perú\",30,\"Chile\",20,\"Argentina\",50,\"Brasil\",100]\n",
    "print(pais_1)"
   ]
  },
  {
   "cell_type": "code",
   "execution_count": 26,
   "metadata": {},
   "outputs": [
    {
     "name": "stdout",
     "output_type": "stream",
     "text": [
      "['Perú', 30, 'Chile', 20, ['Argentina', 50], ['Brasil', 100]]\n"
     ]
    }
   ],
   "source": [
    "# A list can contain numbers, strings, booleans, ... and also lists\n",
    "pais_2 = [\"Perú\",30,\"Chile\",20,[\"Argentina\",50],[\"Brasil\",100]]\n",
    "print(pais_2)"
   ]
  },
  {
   "cell_type": "markdown",
   "metadata": {},
   "source": [
    "### Subsetting lists \n",
    "##### Each element of a list is determined by an index"
   ]
  },
  {
   "cell_type": "code",
   "execution_count": null,
   "metadata": {},
   "outputs": [],
   "source": [
    "#creating a list\n",
    "pais_1 = [\"Perú\",30,\"Chile\",20,\"Argentina\",50,\"Brasil\",100]\n",
    "print(pais_1)"
   ]
  },
  {
   "cell_type": "code",
   "execution_count": 36,
   "metadata": {},
   "outputs": [
    {
     "ename": "TypeError",
     "evalue": "'str' object is not callable",
     "output_type": "error",
     "traceback": [
      "\u001b[1;31m---------------------------------------------------------------------------\u001b[0m",
      "\u001b[1;31mTypeError\u001b[0m                                 Traceback (most recent call last)",
      "\u001b[1;32m<ipython-input-36-a6a25bc7be8f>\u001b[0m in \u001b[0;36m<module>\u001b[1;34m\u001b[0m\n\u001b[0;32m      2\u001b[0m \u001b[0mpais_3\u001b[0m \u001b[1;33m=\u001b[0m \u001b[1;33m[\u001b[0m\u001b[1;34m\"Perú\"\u001b[0m\u001b[1;33m,\u001b[0m\u001b[1;36m30\u001b[0m\u001b[1;33m,\u001b[0m\u001b[1;34m\"Chile\"\u001b[0m\u001b[1;33m,\u001b[0m\u001b[1;36m20\u001b[0m\u001b[1;33m,\u001b[0m\u001b[1;33m[\u001b[0m\u001b[1;34m\"Argentina\"\u001b[0m\u001b[1;33m,\u001b[0m\u001b[1;36m50\u001b[0m\u001b[1;33m]\u001b[0m\u001b[1;33m,\u001b[0m\u001b[1;33m[\u001b[0m\u001b[1;34m\"Brasil\"\u001b[0m\u001b[1;33m,\u001b[0m\u001b[1;36m100\u001b[0m\u001b[1;33m]\u001b[0m\u001b[1;33m]\u001b[0m\u001b[1;33m\u001b[0m\u001b[1;33m\u001b[0m\u001b[0m\n\u001b[0;32m      3\u001b[0m \u001b[1;33m\u001b[0m\u001b[0m\n\u001b[1;32m----> 4\u001b[1;33m \u001b[0mprint\u001b[0m\u001b[1;33m(\u001b[0m\u001b[0mpais_3\u001b[0m\u001b[1;33m[\u001b[0m\u001b[1;36m4\u001b[0m\u001b[1;33m]\u001b[0m\u001b[1;33m[\u001b[0m\u001b[1;36m0\u001b[0m\u001b[1;33m]\u001b[0m\u001b[1;33m(\u001b[0m\u001b[0mcadena1\u001b[0m\u001b[1;33m[\u001b[0m\u001b[1;36m2\u001b[0m\u001b[1;33m]\u001b[0m\u001b[1;33m)\u001b[0m\u001b[1;33m)\u001b[0m\u001b[1;33m\u001b[0m\u001b[1;33m\u001b[0m\u001b[0m\n\u001b[0m\u001b[0;32m      5\u001b[0m \u001b[1;33m\u001b[0m\u001b[0m\n",
      "\u001b[1;31mTypeError\u001b[0m: 'str' object is not callable"
     ]
    }
   ],
   "source": [
    "#Access an item from a list included within another  list\n",
    "pais_3 = [\"Perú\",30,\"Chile\",20,[\"Argentina\",50],[\"Brasil\",100]]\n",
    "\n",
    "print(pais_3[4][0](cadena1[2]))\n",
    "\n"
   ]
  },
  {
   "cell_type": "code",
   "execution_count": null,
   "metadata": {},
   "outputs": [],
   "source": [
    "#Access an item in a list\n",
    "pais_3 = [\"Perú\",30,\"Chile\",20,[\"Argentina\",50],[\"Brasil\",100]]\n",
    "print(pais_3[5])"
   ]
  },
  {
   "cell_type": "code",
   "execution_count": null,
   "metadata": {},
   "outputs": [],
   "source": [
    "#Access an item from a list included within another  list\n",
    "pais_3 = [\"Perú\",30,\"Chile\",20,[\"Argentina\",50],[\"Brasil\",100]]\n",
    "\n",
    "print(pais_3[5][1])"
   ]
  },
  {
   "cell_type": "code",
   "execution_count": null,
   "metadata": {},
   "outputs": [],
   "source": [
    "pais_3[4][1]"
   ]
  },
  {
   "cell_type": "code",
   "execution_count": null,
   "metadata": {},
   "outputs": [],
   "source": [
    "pais_3 = [\"Perú\",30,\"Chile\",20,[\"Argentina\",50],[\"Brasil\",100]]\n",
    "pais_3[5]"
   ]
  },
  {
   "cell_type": "code",
   "execution_count": null,
   "metadata": {},
   "outputs": [],
   "source": [
    "#negative index: count from the end\n",
    "pais_3 = [\"Perú\",30,\"Chile\",20,[\"Argentina\",50],[\"Brasil\",100]]\n",
    "pais_3[-1]"
   ]
  },
  {
   "cell_type": "code",
   "execution_count": null,
   "metadata": {},
   "outputs": [],
   "source": [
    "#the indexes of a list start from zero.\n",
    "pais_3 = [\"Perú\",30,\"Chile\",20,[\"Argentina\",50],[\"Brasil\",100]]\n",
    "x=pais_3[4][0]\n",
    "x[0]"
   ]
  },
  {
   "cell_type": "markdown",
   "metadata": {},
   "source": [
    "### List Slicing \n",
    "* Allows you to select multiple items from a list, thus creating a new list.* <br>\n",
    "* (start: end) Python will interpret that we want a list that goes from the start position to the end position, not including the latter.<br>\n",
    "* If we write three numbers (start: end: jump) instead of two, the third is used to determine \"every few positions to add an element to the list.<br>\n",
    "(includes: does not include)"
   ]
  },
  {
   "cell_type": "code",
   "execution_count": null,
   "metadata": {},
   "outputs": [],
   "source": [
    "#creating a list\n",
    "pais_1 = [\"Perú\",30,\"Chile\",20,\"Argentina\",50,\"Brasil\",100]\n",
    "print(pais_1)"
   ]
  },
  {
   "cell_type": "code",
   "execution_count": null,
   "metadata": {},
   "outputs": [],
   "source": [
    "pais_1[3:5]     # selecting index items 3 and 4.\n",
    "                # pais_1[3:5]  index 5 is the limit.\n",
    "                # [stard:End]\n",
    "                # [includes: does not include]   "
   ]
  },
  {
   "cell_type": "code",
   "execution_count": null,
   "metadata": {},
   "outputs": [],
   "source": [
    "#¿Que elementos de la lista estamos seleccionando?\n",
    "pais_1 = [\"Perú\",30,\"Chile\",20,\"Argentina\",50,\"Brasil\",100]\n",
    "pais_1[1:6]"
   ]
  },
  {
   "cell_type": "code",
   "execution_count": null,
   "metadata": {},
   "outputs": [],
   "source": [
    "# si no se considera el primer elemento se considera por defecto el indice cero\n",
    "pais_1 = [\"Perú\",30,\"Chile\",20,\"Argentina\",50,\"Brasil\",100]\n",
    "pais_1[:7]"
   ]
  },
  {
   "cell_type": "code",
   "execution_count": null,
   "metadata": {},
   "outputs": [],
   "source": [
    "# el negativo indica los indices a no conciderar a partir del último\n",
    "pais_1 = [\"Perú\",30,\"Chile\",20,\"Argentina\",50,\"Brasil\",100]\n",
    "pais_1[:-2]"
   ]
  },
  {
   "cell_type": "code",
   "execution_count": null,
   "metadata": {},
   "outputs": [],
   "source": [
    "#considera solo los dos ultimos indices\n",
    "pais_1 = [\"Perú\",30,\"Chile\",20,\"Argentina\",50,\"Brasil\",100]\n",
    "pais_1[-2:]"
   ]
  },
  {
   "cell_type": "code",
   "execution_count": null,
   "metadata": {},
   "outputs": [],
   "source": [
    "#¿Que elementos de la lista estamos seleccionando?\n",
    "pais_1 = [\"Perú\",30,\"Chile\",20,\"Argentina\",50,\"Brasil\",100]\n",
    "pais_1[4:]"
   ]
  },
  {
   "cell_type": "code",
   "execution_count": null,
   "metadata": {},
   "outputs": [],
   "source": [
    "#¿Que elementos de la lista estamos seleccionando?\n",
    "pais_1 = [\"Perú\",30,\"Chile\",20,\"Argentina\",50,\"Brasil\",100]\n",
    "pais_1[3:]"
   ]
  },
  {
   "cell_type": "markdown",
   "metadata": {},
   "source": [
    "### List Manipulation\n",
    "*Ways to change items in a list, add items, and remove items from a list.*"
   ]
  },
  {
   "cell_type": "code",
   "execution_count": null,
   "metadata": {},
   "outputs": [],
   "source": [
    "#creating a list\n",
    "pais_1 = [\"Perú\",30,\"Chile\",20,\"Argentina\",50,\"Brasil\",100]\n",
    "print(pais_1)"
   ]
  },
  {
   "cell_type": "code",
   "execution_count": null,
   "metadata": {},
   "outputs": [],
   "source": [
    "#modificar un objeto de la lista\n",
    "pais_1[0]=\"Alemania\"\n",
    "print(pais_1)"
   ]
  },
  {
   "cell_type": "code",
   "execution_count": null,
   "metadata": {},
   "outputs": [],
   "source": [
    "#modificar el tamaño de la lista y los elementos\n",
    "l= [99, True, \"una lista\", [1, 2]]\n",
    "l[0:3] = [0, 1]\n",
    "l"
   ]
  },
  {
   "cell_type": "markdown",
   "metadata": {},
   "source": [
    "### Python List  Methods\n",
    "Python has a set of built-in methods that you can use on lists<br>\n",
    "URL: <https://www.w3schools.com/python/python_ref_list.asp>"
   ]
  },
  {
   "cell_type": "code",
   "execution_count": null,
   "metadata": {},
   "outputs": [],
   "source": [
    "#Method append: It is a method that allows adding an element (or another list) to a list*\n",
    "#we add an object to the venezuela list\n",
    "pais_1=['Perú', 33, 'Chile', 20, 'Argentina', 50, 'Brasil', 100]\n",
    "pais_1.append(\"Venezuela\")\n",
    "print(pais_1)"
   ]
  },
  {
   "cell_type": "code",
   "execution_count": null,
   "metadata": {},
   "outputs": [],
   "source": [
    "#we add an object to the list\n",
    "pais_1=['Perú', 33, 'Chile', 20, 'Argentina', 50, 'Brasil', 100]\n",
    "pais_1.append([\"Venezuela\",60])\n",
    "print(pais_1)"
   ]
  },
  {
   "cell_type": "code",
   "execution_count": null,
   "metadata": {},
   "outputs": [],
   "source": [
    "#Method insert: It is a method that allows adding an element in a certain position in a list (x, y) \n",
    "#where \"x\" is the position and \"y\" is the element to add.\n",
    "# We add Venezuela in the position of index 8.\n",
    "pais_1=['Perú', 33, 'Chile', 20, 'Argentina', 50, 'Brasil', 100]\n",
    "pais_1.insert(8,\"Venezuela\")\n",
    "print(pais_1)"
   ]
  },
  {
   "cell_type": "code",
   "execution_count": null,
   "metadata": {},
   "outputs": [],
   "source": [
    "# We add Venezuela in the position of index 9.\n",
    "pais_2=['Perú', 33, 'Chile', 20, 'Argentina', 50, 'Brasil', 100,\"Venezuela\"]\n",
    "pais_2.insert(9,60)\n",
    "print(pais_2)"
   ]
  },
  {
   "cell_type": "code",
   "execution_count": null,
   "metadata": {},
   "outputs": [],
   "source": [
    "#Method Del:The Del method removes the object from the indicated index\n",
    "pais_3 = [10, 20, 30, 40, 50]\n",
    "del(pais_3[3])\n",
    "print(pais_3)"
   ]
  },
  {
   "cell_type": "code",
   "execution_count": null,
   "metadata": {},
   "outputs": [],
   "source": [
    "pais_3 = [10, 20, 30, 40, 50]\n",
    "del(pais_3[2])\n",
    "print(pais_3)"
   ]
  },
  {
   "cell_type": "markdown",
   "metadata": {},
   "source": [
    "### 2.1 TUPLE\n",
    "A Python tuple is created by enclosing comma-separated values ​​in parentheses ()."
   ]
  },
  {
   "cell_type": "code",
   "execution_count": null,
   "metadata": {},
   "outputs": [],
   "source": [
    "#defining tuple\n",
    "tupla = ()\n",
    "print(tupla)"
   ]
  },
  {
   "cell_type": "code",
   "execution_count": null,
   "metadata": {},
   "outputs": [],
   "source": [
    "tupla1=1,2,3\n",
    "print(tupla1)\n",
    "type(tupla1)"
   ]
  },
  {
   "cell_type": "code",
   "execution_count": null,
   "metadata": {},
   "outputs": [],
   "source": [
    "tupla = (5,\"hola\",6.45,[1,2,3],26)\n",
    "tupla"
   ]
  },
  {
   "cell_type": "code",
   "execution_count": null,
   "metadata": {},
   "outputs": [],
   "source": [
    " # With the .index () method we can indicate the position of the element in the tuple\n",
    "tupla = (5,\"hola\",6.45,[1,2,3],26)\n",
    "print(tupla.index(26))    \n"
   ]
  },
  {
   "cell_type": "code",
   "execution_count": null,
   "metadata": {},
   "outputs": [],
   "source": [
    "#What elements of the tuple are we selecting?\n",
    "tupla = (5,\"hola\",6.45,[1,2,3],26)\n",
    "tupla[2]"
   ]
  },
  {
   "cell_type": "code",
   "execution_count": null,
   "metadata": {},
   "outputs": [],
   "source": [
    "print(tupla.index(\"hola\"))"
   ]
  },
  {
   "cell_type": "code",
   "execution_count": null,
   "metadata": {},
   "outputs": [],
   "source": [
    " # Convert a tuple to a list\n",
    "\n",
    "tupla = (5,\"hola\",6.45,[1,2,3],26)\n",
    "lista = list(tupla)       \n",
    "print(lista)"
   ]
  },
  {
   "cell_type": "code",
   "execution_count": null,
   "metadata": {},
   "outputs": [],
   "source": [
    "# Convert a list to a tuple\n",
    "tupla = tuple(lista)\n",
    "print(tupla)            "
   ]
  },
  {
   "cell_type": "markdown",
   "metadata": {},
   "source": [
    "### 2.3 DICTIONARY\n",
    "Dictionaries are used to store data values in \" key:value\" pairs.<BR>\n",
    "Dictionaries are written with curly brackets, and have keys and values"
   ]
  },
  {
   "cell_type": "code",
   "execution_count": 2,
   "metadata": {},
   "outputs": [
    {
     "name": "stdout",
     "output_type": "stream",
     "text": [
      "{'Colombia': 45, 'Chile': 22, 'Argentina': 50, 'Brasil': 100, 'Perú': 30}\n"
     ]
    }
   ],
   "source": [
    "# KEY => country name\n",
    "# VALUE => population of the country\n",
    "\n",
    "paises = {\"Colombia\":45, \"Chile\":22, \"Argentina\":50, \"Brasil\":100, \"Perú\":30 }                                                                                \n",
    "print(paises)\n"
   ]
  },
  {
   "cell_type": "code",
   "execution_count": 3,
   "metadata": {},
   "outputs": [
    {
     "data": {
      "text/plain": [
       "45"
      ]
     },
     "execution_count": 3,
     "metadata": {},
     "output_type": "execute_result"
    }
   ],
   "source": [
    "#The key opens the door to value\n",
    "\n",
    "paises[\"Colombia\"]     "
   ]
  },
  {
   "cell_type": "code",
   "execution_count": 5,
   "metadata": {},
   "outputs": [
    {
     "data": {
      "text/plain": [
       "30"
      ]
     },
     "execution_count": 5,
     "metadata": {},
     "output_type": "execute_result"
    }
   ],
   "source": [
    "#The key opens the door to value\n",
    "\n",
    "paises[\"Perú\"]\n"
   ]
  },
  {
   "cell_type": "code",
   "execution_count": 6,
   "metadata": {},
   "outputs": [
    {
     "name": "stdout",
     "output_type": "stream",
     "text": [
      "{'Colombia': 45, 'Chile': 22, 'Argentina': 50, 'Brasil': 100, 'Perú': 30, 'Paraguay': 7}\n"
     ]
    }
   ],
   "source": [
    "# we add elements to the dictionary\n",
    "paises = {\"Colombia\":45, \"Chile\":22, \"Argentina\":50, \"Brasil\":100, \"Perú\":30 }    \n",
    "\n",
    "paises[\"Paraguay\"] = 7                    \n",
    "print(paises)"
   ]
  },
  {
   "cell_type": "code",
   "execution_count": 7,
   "metadata": {},
   "outputs": [
    {
     "name": "stdout",
     "output_type": "stream",
     "text": [
      "{'Colombia': 45, 'Chile': 22, 'Argentina': 50, 'Brasil': 100, 'Perú': 33}\n"
     ]
    }
   ],
   "source": [
    "#change the values of our keys \n",
    "paises = {\"Colombia\":45, \"Chile\":22, \"Argentina\":50, \"Brasil\":100, \"Perú\":30 } # poblacion en millones\n",
    "paises[\"Perú\"] = 33\n",
    "print(paises)"
   ]
  },
  {
   "cell_type": "code",
   "execution_count": 8,
   "metadata": {},
   "outputs": [
    {
     "name": "stdout",
     "output_type": "stream",
     "text": [
      "{'Colombia': 45, 'Chile': 22, 'Argentina': 50, 'Brasil': 110, 'Perú': 30}\n"
     ]
    }
   ],
   "source": [
    "paises = {\"Colombia\":45, \"Chile\":22, \"Argentina\":50, \"Brasil\":100, \"Perú\":30 } \n",
    "paises[\"Brasil\"] = 110 \n",
    "print(paises)"
   ]
  },
  {
   "cell_type": "code",
   "execution_count": 9,
   "metadata": {},
   "outputs": [
    {
     "data": {
      "text/plain": [
       "False"
      ]
     },
     "execution_count": 9,
     "metadata": {},
     "output_type": "execute_result"
    }
   ],
   "source": [
    " # It will give us as a result True if the key is in countries\n",
    "\"Paraguay\" in paises     "
   ]
  },
  {
   "cell_type": "code",
   "execution_count": 10,
   "metadata": {},
   "outputs": [
    {
     "data": {
      "text/plain": [
       "False"
      ]
     },
     "execution_count": 10,
     "metadata": {},
     "output_type": "execute_result"
    }
   ],
   "source": [
    "# It will give us as a result False if the key is in countries\n",
    "\"Ecuador\" in paises "
   ]
  },
  {
   "cell_type": "markdown",
   "metadata": {},
   "source": [
    "### Python Dictionary Methods\n",
    "Python has a set of built-in methods that you can use on dictionaries.<br>\n",
    "URL: <https://www.w3schools.com/python/python_ref_dictionary.asp>"
   ]
  },
  {
   "cell_type": "code",
   "execution_count": 11,
   "metadata": {},
   "outputs": [
    {
     "name": "stdout",
     "output_type": "stream",
     "text": [
      "4389290752\n",
      "4389290752\n"
     ]
    },
    {
     "data": {
      "text/plain": [
       "{'Chile': 22, 'Argentina': 50, 'Brasil': 100, 'Perú': 30}"
      ]
     },
     "execution_count": 11,
     "metadata": {},
     "output_type": "execute_result"
    }
   ],
   "source": [
    " # we remove the key with the del () method; and removing the key also removes its value\n",
    "    \n",
    "paises = {\"Colombia\":45, \"Chile\":22, \"Argentina\":50, \"Brasil\":100, \"Perú\":30 }\n",
    "print(id(paises))\n",
    "del(paises[\"Colombia\"])                \n",
    "\n",
    "print(id(paises))\n",
    "paises"
   ]
  },
  {
   "cell_type": "code",
   "execution_count": 12,
   "metadata": {},
   "outputs": [
    {
     "name": "stdout",
     "output_type": "stream",
     "text": [
      "dict_keys(['Colombia', 'Chile', 'Argentina', 'Brasil', 'Perú'])\n"
     ]
    }
   ],
   "source": [
    "# with the .keys () method it shows us only the keys of the countries dictionary \n",
    "paises = {\"Colombia\":45, \"Chile\":22, \"Argentina\":50, \"Brasil\":100, \"Perú\":30 } \n",
    "print(paises.keys())  "
   ]
  },
  {
   "cell_type": "code",
   "execution_count": 13,
   "metadata": {},
   "outputs": [
    {
     "name": "stdout",
     "output_type": "stream",
     "text": [
      "dict_values([45, 22, 50, 100, 30])\n"
     ]
    }
   ],
   "source": [
    "# with the .values ​​() method it shows us only the values ​​of the countries dictionary\n",
    "paises = {\"Colombia\":45, \"Chile\":22, \"Argentina\":50, \"Brasil\":100, \"Perú\":30 } \n",
    "print(paises.values())  "
   ]
  },
  {
   "cell_type": "code",
   "execution_count": 14,
   "metadata": {},
   "outputs": [
    {
     "name": "stdout",
     "output_type": "stream",
     "text": [
      "dict_items([('Colombia', 45), ('Chile', 22), ('Argentina', 50), ('Brasil', 100), ('Perú', 30)])\n"
     ]
    }
   ],
   "source": [
    " # with the itmes () method it shows us the elements inside tuples\n",
    "paises = {\"Colombia\":45, \"Chile\":22, \"Argentina\":50, \"Brasil\":100, \"Perú\":30 } \n",
    "print(paises.items())   "
   ]
  },
  {
   "cell_type": "code",
   "execution_count": 15,
   "metadata": {},
   "outputs": [
    {
     "name": "stdout",
     "output_type": "stream",
     "text": [
      "{'JUAN': 17, 'LUIS': 14, 'ANA': 22}\n",
      "<class 'dict'>\n"
     ]
    }
   ],
   "source": [
    "#CREATE DICIONARIOS WITH TWO LISTS\n",
    "\n",
    "Name = ['JUAN', 'LUIS', 'ANA']\n",
    "Years = [17, 14, 22]\n",
    "dic = dict(zip( Name,Years))\n",
    "print(dic)\n",
    "print(type(dic))"
   ]
  },
  {
   "cell_type": "markdown",
   "metadata": {},
   "source": [
    "\n",
    "### OVERVIEW OF COLLECTIONS<br>\n",
    "<div class=\"pull-CENTER\"><center><img src=\"imagenes/res.png\" alt=\"REPO\" width=\"800\" title = \"REPO\"/>"
   ]
  },
  {
   "cell_type": "markdown",
   "metadata": {},
   "source": [
    "#### *List"
   ]
  },
  {
   "cell_type": "code",
   "execution_count": 17,
   "metadata": {},
   "outputs": [
    {
     "data": {
      "text/plain": [
       "[4, 'luis', True, 12.5]"
      ]
     },
     "execution_count": 17,
     "metadata": {},
     "output_type": "execute_result"
    }
   ],
   "source": [
    "#defining list\n",
    "list=[4, 'luis', True,12.5]\n",
    "list"
   ]
  },
  {
   "cell_type": "code",
   "execution_count": 18,
   "metadata": {},
   "outputs": [
    {
     "data": {
      "text/plain": [
       "'luis'"
      ]
     },
     "execution_count": 18,
     "metadata": {},
     "output_type": "execute_result"
    }
   ],
   "source": [
    "#Access an item in a list\n",
    "list[1]"
   ]
  },
  {
   "cell_type": "code",
   "execution_count": 19,
   "metadata": {},
   "outputs": [
    {
     "data": {
      "text/plain": [
       "[40, 'luis', True, 12.5]"
      ]
     },
     "execution_count": 19,
     "metadata": {},
     "output_type": "execute_result"
    }
   ],
   "source": [
    "#we change an item\n",
    "list[0]=40\n",
    "list"
   ]
  },
  {
   "cell_type": "code",
   "execution_count": 20,
   "metadata": {},
   "outputs": [
    {
     "data": {
      "text/plain": [
       "[40, 'luis', True, 12.5, 'g']"
      ]
     },
     "execution_count": 20,
     "metadata": {},
     "output_type": "execute_result"
    }
   ],
   "source": [
    "#we add an element\n",
    "list.append('g')\n",
    "list"
   ]
  },
  {
   "cell_type": "code",
   "execution_count": 21,
   "metadata": {
    "scrolled": true
   },
   "outputs": [
    {
     "data": {
      "text/plain": [
       "'g'"
      ]
     },
     "execution_count": 21,
     "metadata": {},
     "output_type": "execute_result"
    }
   ],
   "source": [
    "#we delete an item\n",
    "list.pop(4)"
   ]
  },
  {
   "cell_type": "code",
   "execution_count": 22,
   "metadata": {},
   "outputs": [
    {
     "data": {
      "text/plain": [
       "[40, 'luis', True, 12.5]"
      ]
     },
     "execution_count": 22,
     "metadata": {},
     "output_type": "execute_result"
    }
   ],
   "source": [
    "list"
   ]
  },
  {
   "cell_type": "markdown",
   "metadata": {},
   "source": [
    "#### *Tuples"
   ]
  },
  {
   "cell_type": "code",
   "execution_count": null,
   "metadata": {},
   "outputs": [],
   "source": [
    "#defining tuple\n",
    "tuple=(4, 'luis', True,12.5)\n",
    "tuple"
   ]
  },
  {
   "cell_type": "code",
   "execution_count": null,
   "metadata": {},
   "outputs": [],
   "source": [
    "#Access an item in a tuple\n",
    "tuple[2]"
   ]
  },
  {
   "cell_type": "code",
   "execution_count": null,
   "metadata": {},
   "outputs": [],
   "source": [
    "#we change an item?? danger!!!.....\n",
    "tuple[2]=False"
   ]
  },
  {
   "cell_type": "code",
   "execution_count": null,
   "metadata": {},
   "outputs": [],
   "source": [
    "#we add an elemen\n",
    "tuple.append(3)"
   ]
  },
  {
   "cell_type": "markdown",
   "metadata": {},
   "source": [
    "#### *Dictionary"
   ]
  },
  {
   "cell_type": "code",
   "execution_count": null,
   "metadata": {},
   "outputs": [],
   "source": [
    "#defining dictionary\n",
    "dict={'int':4,'str':'luis', 'bool':True,'float':12.5}\n",
    "dict"
   ]
  },
  {
   "cell_type": "code",
   "execution_count": null,
   "metadata": {},
   "outputs": [],
   "source": [
    "#Access an item in a dictionary\n",
    "dict['int']"
   ]
  },
  {
   "cell_type": "code",
   "execution_count": null,
   "metadata": {},
   "outputs": [],
   "source": [
    "#we change an item\n",
    "dict['int']=40\n",
    "dict"
   ]
  },
  {
   "cell_type": "code",
   "execution_count": null,
   "metadata": {},
   "outputs": [],
   "source": [
    "#we add an elemen\n",
    "dict['complex']=2+3j\n",
    "dict"
   ]
  },
  {
   "cell_type": "code",
   "execution_count": null,
   "metadata": {},
   "outputs": [],
   "source": [
    "#we delete an item\n",
    "dict.pop('complex')\n"
   ]
  },
  {
   "cell_type": "code",
   "execution_count": null,
   "metadata": {},
   "outputs": [],
   "source": [
    "dict"
   ]
  },
  {
   "cell_type": "markdown",
   "metadata": {
    "raw_mimetype": "text/x-python"
   },
   "source": [
    "### 2.4 SET\n",
    "Sets are used to store multiple items in a single variable.<BR>\n",
    "A set is a collection which is both unordered and unindexed.\n",
    "\n",
    "\n"
   ]
  },
  {
   "cell_type": "code",
   "execution_count": null,
   "metadata": {},
   "outputs": [],
   "source": [
    "# We define a set with {}\n",
    "conjunto = {}\n",
    "print(conjunto)"
   ]
  },
  {
   "cell_type": "code",
   "execution_count": null,
   "metadata": {},
   "outputs": [],
   "source": [
    "#We define the set using Set\n",
    "set = {1}\n",
    "print(set)"
   ]
  },
  {
   "cell_type": "code",
   "execution_count": null,
   "metadata": {},
   "outputs": [],
   "source": [
    "# Define set from a list\n",
    "lista = ['vino', 'cerveza', 'agua', 'vino'] \n",
    "bebidas = set(lista)  \n",
    "bebidas"
   ]
  },
  {
   "cell_type": "code",
   "execution_count": null,
   "metadata": {},
   "outputs": [],
   "source": [
    "# validate if an element belongs to an \"in\" set\n",
    "set_1={1, 2, 3, 4.56, 5, 'hola'}\n",
    "1 not in set_1"
   ]
  },
  {
   "cell_type": "code",
   "execution_count": null,
   "metadata": {},
   "outputs": [],
   "source": [
    "set_1={1, 2, 3, 4.56, 5, 'hola'}\n",
    "print(16 in set_1)"
   ]
  },
  {
   "cell_type": "code",
   "execution_count": null,
   "metadata": {},
   "outputs": [],
   "source": [
    "set_2={1, 2, 3, 4.56, 5, 'hola',True}\n",
    "print(len(set_2))"
   ]
  },
  {
   "cell_type": "code",
   "execution_count": null,
   "metadata": {},
   "outputs": [],
   "source": [
    "# Union of sets\n",
    "a={1,2,3,4,5}\n",
    "b={3,4,5,9,10}\n",
    "c = a | b\n",
    "print(c)"
   ]
  },
  {
   "cell_type": "code",
   "execution_count": null,
   "metadata": {},
   "outputs": [],
   "source": [
    "# second form union of sets\n",
    "fam_1= {'Doe, John', 'Doe, John', 'Smith, Jane', 'Brown, Bob'}\n",
    "fam_1.union({'Brown, Bob', 'Smith, Jane', 'Jones, William'})"
   ]
  },
  {
   "cell_type": "code",
   "execution_count": null,
   "metadata": {},
   "outputs": [],
   "source": [
    "# intersection of sets\n",
    "a={1,2,3,4,5}\n",
    "b={3,4,5,9,10}\n",
    "c = a & b\n",
    "print(c)"
   ]
  },
  {
   "cell_type": "code",
   "execution_count": null,
   "metadata": {},
   "outputs": [],
   "source": [
    "# second way to deduce the intersection of sets\n",
    "fam_1= {'Doe, John', 'Doe, John', 'Smith, Jane', 'Brown, Bob'}\n",
    "fam_1.intersection({'Brown, Bob', 'Smith, Jane', 'Jones, William'})"
   ]
  },
  {
   "cell_type": "code",
   "execution_count": null,
   "metadata": {},
   "outputs": [],
   "source": [
    "# set difference\n",
    "a={1,2,3,4,5}\n",
    "b={3,4,5,9,10}\n",
    "c = a - b\n",
    "print(c)"
   ]
  },
  {
   "cell_type": "code",
   "execution_count": null,
   "metadata": {},
   "outputs": [],
   "source": [
    "# symmetric difference of sets\n",
    "a={1,2,3,4,5}\n",
    "b={3,4,5,9,10}\n",
    "c = a ^ b \n",
    "print(c)"
   ]
  },
  {
   "cell_type": "code",
   "execution_count": null,
   "metadata": {},
   "outputs": [],
   "source": []
  },
  {
   "cell_type": "markdown",
   "metadata": {},
   "source": [
    "<img src=\"imagenes/gracias.png\" alt=\"REPO\" width=\"500\" title = \"REPO\"/>"
   ]
  },
  {
   "cell_type": "code",
   "execution_count": null,
   "metadata": {},
   "outputs": [],
   "source": []
  }
 ],
 "metadata": {
  "celltoolbar": "Raw Cell Format",
  "kernelspec": {
   "display_name": "Python 3",
   "language": "python",
   "name": "python3"
  },
  "language_info": {
   "codemirror_mode": {
    "name": "ipython",
    "version": 3
   },
   "file_extension": ".py",
   "mimetype": "text/x-python",
   "name": "python",
   "nbconvert_exporter": "python",
   "pygments_lexer": "ipython3",
   "version": "3.8.8"
  }
 },
 "nbformat": 4,
 "nbformat_minor": 4
}
