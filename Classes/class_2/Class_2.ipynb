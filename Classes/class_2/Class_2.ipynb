{
 "cells": [
  {
   "cell_type": "markdown",
   "metadata": {},
   "source": [
    "***OVERVIEW OF CLASS***\n",
    "\n",
    "+ Learn computational modes of thinking.\n",
    "+ master the art of computational problem solving.\n",
    "+ make computers do what you want them to do."
   ]
  },
  {
   "cell_type": "markdown",
   "metadata": {},
   "source": [
    "## ***WHAT DOES A COMPUTER DO???***\n",
    "\n"
   ]
  },
  {
   "cell_type": "markdown",
   "metadata": {},
   "source": [
    "\n",
    " <div class=\"pull-left\"><img src=\"imagenes/do_computer.png\" width=\"300\" /> </div></div>\n",
    "\n",
    "\n",
    "+ **Performs calculations\n",
    "        - A billion calculations per second!\n",
    "        - Two operations in same time light travels 1 foot\n",
    "\n",
    "+ **Remembers results\n",
    "        - 100s of gigabytes of storage!\n",
    "        - Typical machine could hold 1.5M books of standard size . "
   ]
  },
  {
   "cell_type": "markdown",
   "metadata": {},
   "source": [
    "## ***SIMPLE CALCULATIONS ENOUGH? ***\n",
    "\n",
    "Searching the  World Wide Web\n",
    "+ 45B pages.\n",
    "+ 1000 words/page.\n",
    "+ 10 operations/word to find.\n",
    "+ Need 5.2 days to find something using simple operations.\n",
    "\n",
    "Playing chess\n",
    "+ Average of 35 moves/setting.\n",
    "+ Look ahead 6 moves.\n",
    "+ 1.8B boards to check.\n",
    "+ 100 operations/choice.\n",
    "+ 30 minutes to decide each move.\n",
    "\n",
    "Good algorithm design also needed to accomplish a task!"
   ]
  },
  {
   "cell_type": "markdown",
   "metadata": {},
   "source": [
    "## ***ARE THERE LIMITS?***"
   ]
  },
  {
   "cell_type": "markdown",
   "metadata": {},
   "source": [
    " <div class=\"pull-left\"><img src=\"imagenes/limitaciones.png\" width=\"300\" /> </div></div>\n",
    "\n",
    "Despite its speed and size, a computer does have limitations\n",
    "+ Some problems still too complex.\n",
    "        * Accurate weather prediction at a local scale.\n",
    "+ Some problems are fundamentally impossible to compute\n",
    "        * the halting problem\n"
   ]
  },
  {
   "cell_type": "markdown",
   "metadata": {},
   "source": [
    "## ***TYPES OF KNOWLEDGE***\n",
    "\n",
    "computers know what you tell them.\n",
    "\n",
    "Declarative knowledge is statements of fact.\n",
    "+ There is a chest with 1000 dollars in the park of legends.\n",
    "\n",
    "imperative knowledge is a recipe or “how-to” knowledge.\n",
    "+ Enter the park of legends.\n",
    "+ Enter the Sierra area. \n",
    "+ Enter the mine. \n",
    "+ Look for the first white chair.\n",
    "+ Look under the chair and find it.\n",
    "\n",
    "**¡THIS WAY SHOULD THINK A PROGRAMMER!**"
   ]
  },
  {
   "cell_type": "markdown",
   "metadata": {},
   "source": [
    "***A NUMERICAL EXAMPLE***\n",
    "\n",
    "square root of a number x is y such that y*y = x\n",
    "\n",
    "Recipe for deducing square root of number x (e.g. 25)\n",
    "\n",
    "+ 1) Start with a guess, g.\n",
    "+ 2) If g*g is close enough to x, stop and say g is the answer.\n",
    "+ 3) Otherwise make a new guess by averaging g and x/g.\n",
    "+ 4) Using the new guess, repeat process until close enough.\n",
    "\n",
    "<div class=\"pull-left\"><center><img src=\"imagenes/raiz_cuadrada.png\" alt=\"REPO\" width=\"500\" title = \"REPO\"/>\n",
    "    "
   ]
  },
  {
   "cell_type": "markdown",
   "metadata": {},
   "source": [
    "Double click **here** to view python code.\n",
    "\n",
    "<!-- \n",
    "\n",
    "x=25\n",
    "#1-Start with a guess \n",
    "g = 12\n",
    "#2-Divide the number by the approximate number\n",
    "xg = x/g\n",
    "#3-Otherwise make a new guess by averaging g and x/g.\n",
    "g=(g+xg)/2\n",
    "#4-If the value has a larger error than expected, item 2 and 3 are repeated\n",
    "while abs(x- (g*g)) > 0.00000000001:\n",
    "\tprint(g)\n",
    "\t#Repeat previous steps\n",
    "\txg=x/g\n",
    "\tg=(g+xg)/2\n",
    "print(\"square root of a number x is \",g)\n",
    " -->"
   ]
  },
  {
   "cell_type": "markdown",
   "metadata": {},
   "source": [
    "***WHAT IS A RECIPE ?***\n",
    "\n",
    "+ Sequence of simple steps.\n",
    "+ Flow of control process that specifies when each step is executed.\n",
    "+ a means of determining when to stop.\n",
    "\n"
   ]
  },
  {
   "cell_type": "markdown",
   "metadata": {},
   "source": [
    "# <center>  PYTHON</center>\n",
    "\n"
   ]
  },
  {
   "cell_type": "markdown",
   "metadata": {},
   "source": [
    "## 1. PYTHON "
   ]
  },
  {
   "cell_type": "markdown",
   "metadata": {},
   "source": [
    "It is an open source, general purpose programming language. Python objects consist of:\n",
    "+ the types of elements within objects(int,float,string,bool,complex) \n",
    "+ the types of objects that contain other objects(lists, tuples, sets, dictionaries).\n",
    "\n"
   ]
  },
  {
   "cell_type": "markdown",
   "metadata": {},
   "source": [
    "### 1.1 VARIABLES AND TYPES\n",
    "### 1.1.1 Variables \n",
    "** Specific , difference between lowercase and uppercase<br>\n",
    "** Call values through the name of the variables<br>\n",
    "##### \"Labels that refer to the data\"\n",
    "#### \"Any variable in python is a reference to an  object\"\n",
    "#####  Each object has:\n",
    "\n",
    "- An identifier \n",
    "- A data type (integer, decimal, complex, string, etc.)\n",
    "- A value (the data itself).\n",
    "\n"
   ]
  },
  {
   "cell_type": "code",
   "execution_count": null,
   "metadata": {
    "scrolled": true
   },
   "outputs": [],
   "source": [
    "# The number 5\n",
    "id(5)  # This is the identifier of the integer object \"5\""
   ]
  },
  {
   "cell_type": "code",
   "execution_count": null,
   "metadata": {
    "scrolled": true
   },
   "outputs": [],
   "source": [
    "a = 5\n",
    "id(a)  # The identifier of the variable a is the same as that of the integer \"5\""
   ]
  },
  {
   "cell_type": "code",
   "execution_count": null,
   "metadata": {},
   "outputs": [],
   "source": [
    "id(50)"
   ]
  },
  {
   "cell_type": "code",
   "execution_count": null,
   "metadata": {
    "scrolled": true
   },
   "outputs": [],
   "source": [
    "# calculating BMI\n",
    "h = 2"
   ]
  },
  {
   "cell_type": "code",
   "execution_count": null,
   "metadata": {
    "scrolled": true
   },
   "outputs": [],
   "source": [
    "h"
   ]
  },
  {
   "cell_type": "code",
   "execution_count": null,
   "metadata": {
    "scrolled": true
   },
   "outputs": [],
   "source": [
    "#The print () function allows you to display text on the screen.\n",
    "print(h)"
   ]
  },
  {
   "cell_type": "code",
   "execution_count": null,
   "metadata": {
    "scrolled": true
   },
   "outputs": [],
   "source": [
    "# The identifier of the variable using the id () function\n",
    "id(h)"
   ]
  },
  {
   "cell_type": "code",
   "execution_count": null,
   "metadata": {
    "scrolled": true
   },
   "outputs": [],
   "source": [
    "id(2)"
   ]
  },
  {
   "cell_type": "code",
   "execution_count": null,
   "metadata": {
    "scrolled": true
   },
   "outputs": [],
   "source": [
    "w = 75\n"
   ]
  },
  {
   "cell_type": "code",
   "execution_count": null,
   "metadata": {
    "scrolled": true
   },
   "outputs": [],
   "source": [
    "BMI = w / h**2\n"
   ]
  },
  {
   "cell_type": "code",
   "execution_count": null,
   "metadata": {
    "scrolled": true
   },
   "outputs": [],
   "source": [
    "print(BMI)"
   ]
  },
  {
   "cell_type": "code",
   "execution_count": null,
   "metadata": {
    "scrolled": true
   },
   "outputs": [],
   "source": [
    "# the identifier of the variable using the \"id ()\" function\n",
    "id(BMI)"
   ]
  },
  {
   "cell_type": "code",
   "execution_count": null,
   "metadata": {
    "scrolled": false
   },
   "outputs": [],
   "source": [
    "#calculating speed\n",
    "distance = 100\n",
    "time = 2\n",
    "speed = distance / time\n",
    "print(speed)"
   ]
  },
  {
   "cell_type": "code",
   "execution_count": null,
   "metadata": {
    "scrolled": true
   },
   "outputs": [],
   "source": [
    "# the identifier of the variable using the \"id ()\" function\n",
    "id(time)"
   ]
  },
  {
   "cell_type": "code",
   "execution_count": null,
   "metadata": {
    "scrolled": true
   },
   "outputs": [],
   "source": [
    "string = \"python\"\n",
    "id(string)"
   ]
  },
  {
   "cell_type": "code",
   "execution_count": 3,
   "metadata": {
    "scrolled": true
   },
   "outputs": [
    {
     "name": "stdout",
     "output_type": "stream",
     "text": [
      "1675452599600\n",
      "1675452599664\n"
     ]
    }
   ],
   "source": [
    "a=100/2\n",
    "b=500\n",
    "print(id(a))\n",
    "print(id(b))"
   ]
  },
  {
   "cell_type": "markdown",
   "metadata": {},
   "source": [
    "### 1.2 PYTHON TYPES\n",
    "#### There are 3 types of values ​​that a variable can take in python (NUMBERS, STRINGS AND BOOLEANS)\n",
    "### 1.2.1 Numbers\n",
    "#### INT (Integer Numbers)\n",
    "can be written in format:\n",
    "* Binary \"0b is prepended to a sequence of digits in binary (0 and 1)\"\n",
    "* Octal \"Prepending 0o to a sequence of octal digits (0 to 7)\"\n",
    "* Hexadecimal \"prepend 0x to a sequence of hexadecimal digits (from 0 to 9 and from A to F)\""
   ]
  },
  {
   "cell_type": "code",
   "execution_count": null,
   "metadata": {
    "scrolled": true
   },
   "outputs": [],
   "source": [
    "#  In binary, octal or hexadecimal format\n",
    "diez = 10 \n",
    "diez_binario = 0b1010\n",
    "diez_octal = 0o12\n",
    "diez_hex = 0xa\n",
    "\n",
    "print(diez)\n",
    "\n",
    "print(diez_binario)\n",
    "\n",
    "print(diez_octal)\n",
    "\n",
    "print(diez_hex)"
   ]
  },
  {
   "cell_type": "code",
   "execution_count": null,
   "metadata": {
    "scrolled": true
   },
   "outputs": [],
   "source": [
    "#conversión decimal en binario, octal y hexadecimal\n",
    "n=10\n",
    "print(bin(n))\n",
    "print(oct(n))\n",
    "print(hex(n))"
   ]
  },
  {
   "cell_type": "markdown",
   "metadata": {},
   "source": [
    "#### FLOAT (*Real numbers*)\n",
    "* \"Floating point numbers do not represent certain decimal fractions exactly.\" (C ++ has twice the precision of python)\n",
    "* \"The Decimal type can represent these fractions exactly, up to a user-specified precision limit\""
   ]
  },
  {
   "cell_type": "code",
   "execution_count": 6,
   "metadata": {
    "scrolled": true
   },
   "outputs": [
    {
     "data": {
      "text/plain": [
       "0.42857142857142855"
      ]
     },
     "execution_count": 6,
     "metadata": {},
     "output_type": "execute_result"
    }
   ],
   "source": [
    "# float\n",
    "3/7"
   ]
  },
  {
   "cell_type": "code",
   "execution_count": 5,
   "metadata": {
    "scrolled": true
   },
   "outputs": [
    {
     "data": {
      "text/plain": [
       "Decimal('0.428571428571428547638078043746645562350749969482421875')"
      ]
     },
     "execution_count": 5,
     "metadata": {},
     "output_type": "execute_result"
    }
   ],
   "source": [
    "#using Decimal module\n",
    "import decimal\n",
    "decimal.Decimal(3/7)\n"
   ]
  },
  {
   "cell_type": "code",
   "execution_count": 7,
   "metadata": {
    "scrolled": true
   },
   "outputs": [
    {
     "data": {
      "text/plain": [
       "Decimal('-34.75')"
      ]
     },
     "execution_count": 7,
     "metadata": {},
     "output_type": "execute_result"
    }
   ],
   "source": [
    "# You can provide tuples that contain the sign, the mantissa as a tuple of decimal digits, and the exponent\n",
    "# The sign bit is Boolean, so 0 means positive and 1 means negative.\n",
    "# ((a, (x, y, z, q), -e)): a< 0 o 1> -->signo, (x,y,z,q)-->mantissa, -e--> exponent\n",
    "\n",
    "decimal.Decimal((1, (3, 4, 7, 5), -2))"
   ]
  },
  {
   "cell_type": "code",
   "execution_count": 8,
   "metadata": {
    "scrolled": true
   },
   "outputs": [
    {
     "name": "stdout",
     "output_type": "stream",
     "text": [
      "0.4285714285714285714285714285714285714285714285714285714285714285714285714285714285714285714285714286\n"
     ]
    }
   ],
   "source": [
    "#Tipo Context( \" ontext encapsulates properties of decimal operations \") \n",
    "import decimal\n",
    "decimal.getcontext().prec=100\n",
    "resultado=decimal.Decimal(3) / decimal.Decimal(7)\n",
    "print(resultado)\n"
   ]
  },
  {
   "cell_type": "markdown",
   "metadata": {},
   "source": [
    "### OPERACIONES ENTRE INT Y FLOAT\n",
    "<br />\n",
    "<br />\n",
    "\n",
    "<div class=\"pull-left\"><center><img src=\"imagenes/operaciones.png\" alt=\"REPO\" width=\"500\" title = \"REPO\"/>"
   ]
  },
  {
   "cell_type": "code",
   "execution_count": null,
   "metadata": {},
   "outputs": [],
   "source": [
    "5 +5.0"
   ]
  },
  {
   "cell_type": "code",
   "execution_count": null,
   "metadata": {},
   "outputs": [],
   "source": [
    "id(5)"
   ]
  },
  {
   "cell_type": "code",
   "execution_count": null,
   "metadata": {},
   "outputs": [],
   "source": [
    "7%3"
   ]
  },
  {
   "cell_type": "markdown",
   "metadata": {},
   "source": [
    "#### COMPLEX (*Son los números COMPLEJOS*)\n",
    "* (a + bj)---> a parte real, b parte imaginaria \n",
    "* (a,b)---> como par ordenado\n",
    "\n",
    "<div class=\"pull-left\"><center><img src=\"imagenes/complejo.png\" alt=\"REPO\" width=\"300\" title = \"REPO\"/>"
   ]
  },
  {
   "cell_type": "code",
   "execution_count": null,
   "metadata": {
    "scrolled": true
   },
   "outputs": [],
   "source": [
    "# Creating a complex number\n",
    "c1 = 4 + 3j"
   ]
  },
  {
   "cell_type": "code",
   "execution_count": null,
   "metadata": {},
   "outputs": [],
   "source": [
    "c1"
   ]
  },
  {
   "cell_type": "code",
   "execution_count": null,
   "metadata": {
    "scrolled": true
   },
   "outputs": [],
   "source": [
    "# Creating a complex number with complex\n",
    "c2 = complex(2, -3)\n",
    "c2"
   ]
  },
  {
   "cell_type": "code",
   "execution_count": null,
   "metadata": {
    "scrolled": true
   },
   "outputs": [],
   "source": [
    "\n",
    "# Conjugate of a complex number\n",
    "c3 = 2 + 3j\n",
    "c3.conjugate()"
   ]
  },
  {
   "cell_type": "code",
   "execution_count": null,
   "metadata": {
    "scrolled": true
   },
   "outputs": [],
   "source": [
    "\n",
    "# Absolute value or magnitude\n",
    "c4 = 4 + 3j\n",
    "abs(c4)"
   ]
  },
  {
   "cell_type": "code",
   "execution_count": null,
   "metadata": {
    "scrolled": true
   },
   "outputs": [],
   "source": [
    "# Real part, imaginary part\n",
    "c5 = 2 - 3j\n",
    "\n",
    "print(c5.real)\n",
    "print(c5.imag)"
   ]
  },
  {
   "cell_type": "markdown",
   "metadata": {
    "scrolled": true
   },
   "source": [
    "<div class=\"pull-center\"><center><img src=\"imagenes/exercise.jpg\" alt=\"REPO\" width=\"200\" title = \"REPO\"/>  \n"
   ]
  },
  {
   "cell_type": "markdown",
   "metadata": {
    "scrolled": true
   },
   "source": [
    "#### Show the identifier of the variable, data type and value using the The print () function :\n",
    "        *a=5.0 \n",
    "        *b=5 \n",
    "        *c= 2.4 \n",
    "        *d=1/3 \n",
    "        *e=-2+3j \n",
    "        *f=3j \n",
    "        *g=10\n",
    "\n",
    "1. A=a+b\n",
    "2. B=c*g\n",
    "3. C=d-b\n",
    "4. D=a+b+c-g\n",
    "5. E=conjugate(e)+real part(f)"
   ]
  },
  {
   "cell_type": "code",
   "execution_count": null,
   "metadata": {},
   "outputs": [],
   "source": []
  }
 ],
 "metadata": {
  "celltoolbar": "Raw Cell Format",
  "kernelspec": {
   "display_name": "Python 3",
   "language": "python",
   "name": "python3"
  },
  "language_info": {
   "codemirror_mode": {
    "name": "ipython",
    "version": 3
   },
   "file_extension": ".py",
   "mimetype": "text/x-python",
   "name": "python",
   "nbconvert_exporter": "python",
   "pygments_lexer": "ipython3",
   "version": "3.8.8"
  }
 },
 "nbformat": 4,
 "nbformat_minor": 4
}
